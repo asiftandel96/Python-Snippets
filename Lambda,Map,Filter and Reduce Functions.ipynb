{
 "cells": [
  {
   "cell_type": "markdown",
   "metadata": {},
   "source": [
    "# Python Lambda Functions\n",
    "\n",
    "Lambda Function are the function that does not contain any name\n",
    "\n",
    "Syntax of Lambda Functions:\n",
    "\n",
    "(lambda argument_list)\n",
    "\n",
    "\n",
    "When we Can Use Lambda  Functions:\n",
    "\n",
    "We can use Lambda function when we want it for a shorter period of time\n",
    "\n",
    "Map Functions:\n",
    "\n",
    "Syntax of Map Function:\n",
    "\n",
    "Map(Function,seq)"
   ]
  },
  {
   "cell_type": "code",
   "execution_count": 23,
   "metadata": {},
   "outputs": [
    {
     "name": "stdout",
     "output_type": "stream",
     "text": [
      "The multiplication is: 84\n"
     ]
    }
   ],
   "source": [
    "# Defining a Normal functions.\n",
    "def addition_num(a, b):\n",
    "    c = a * b\n",
    "    print(\"The multiplication is:\",c)\n",
    "\n",
    "\n",
    "addition_num(2, 42)"
   ]
  },
  {
   "cell_type": "code",
   "execution_count": 24,
   "metadata": {},
   "outputs": [
    {
     "data": {
      "text/plain": [
       "[1, 4, 9, 16]"
      ]
     },
     "execution_count": 24,
     "metadata": {},
     "output_type": "execute_result"
    }
   ],
   "source": [
    "\"\"\"Defining A Lambda Function using the map function\n",
    "Syntax of Lambda Functions:\n",
    "\n",
    "(lambda argument:expression)\n",
    "\n",
    "for e.g \n",
    "\n",
    "(lambda x,y:x+y)\n",
    "Note-(Lambda Function can take single expression one at a time) (x+y-This is a expression)\n",
    "\n",
    "\"\"\"\n",
    "\n",
    "a=[1,2,3,4]\n",
    "\n",
    "list(map(lambda x:x*x,a))"
   ]
  },
  {
   "cell_type": "code",
   "execution_count": 25,
   "metadata": {},
   "outputs": [
    {
     "data": {
      "text/plain": [
       "[2, 4, 6, 8, 10]"
      ]
     },
     "execution_count": 25,
     "metadata": {},
     "output_type": "execute_result"
    }
   ],
   "source": [
    "#Writing A Lambda Function using Filter method\n",
    "#Filter method filter out the list and give the output\n",
    "\n",
    "a=[1,2,3,4,5,6,7,8,9,10]\n",
    "\n",
    "list(filter(lambda x:x%2==0,a))"
   ]
  },
  {
   "cell_type": "code",
   "execution_count": 26,
   "metadata": {},
   "outputs": [
    {
     "data": {
      "text/plain": [
       "[1, 4, 9, 16]"
      ]
     },
     "execution_count": 26,
     "metadata": {},
     "output_type": "execute_result"
    }
   ],
   "source": [
    "# Write  A Normal Function and then applying Map() method\n",
    "a=[1,2,3,4]\n",
    "\n",
    "def square(x):\n",
    "    \n",
    "    return x*x\n",
    "\n",
    "list(map(square,a))"
   ]
  },
  {
   "cell_type": "code",
   "execution_count": 27,
   "metadata": {},
   "outputs": [
    {
     "data": {
      "text/plain": [
       "[2, 3, 4, 5]"
      ]
     },
     "execution_count": 27,
     "metadata": {},
     "output_type": "execute_result"
    }
   ],
   "source": [
    "# Combining Two List\n",
    "\n",
    "a=[1,2,3,4]\n",
    "b=[1,1,1,1]\n",
    "\n",
    "list(map(lambda x,y:x+y,a,b))"
   ]
  },
  {
   "cell_type": "code",
   "execution_count": 28,
   "metadata": {},
   "outputs": [
    {
     "name": "stdout",
     "output_type": "stream",
     "text": [
      "2 4 6 8 10 "
     ]
    }
   ],
   "source": [
    "# Filter Functions\n",
    "# Filter Function is the in-built function Of Python Programming\n",
    "# Syntax Of Filter Function\n",
    "\"\"\"\n",
    "filter(function,iterable)\n",
    "\"\"\"\n",
    "for i in range(1,11):\n",
    "            if i%2==0:\n",
    "                print(i,end=\" \")"
   ]
  },
  {
   "cell_type": "code",
   "execution_count": 29,
   "metadata": {},
   "outputs": [
    {
     "data": {
      "text/plain": [
       "[2, 4, 6, 8, 10]"
      ]
     },
     "execution_count": 29,
     "metadata": {},
     "output_type": "execute_result"
    }
   ],
   "source": [
    "#Using Filter  Functions\n",
    "\n",
    "list(filter(lambda x:x%2==0,range(1,11)))"
   ]
  },
  {
   "cell_type": "code",
   "execution_count": 30,
   "metadata": {},
   "outputs": [
    {
     "data": {
      "text/plain": [
       "15"
      ]
     },
     "execution_count": 30,
     "metadata": {},
     "output_type": "execute_result"
    }
   ],
   "source": [
    "# Reduce Functions\n",
    "\n",
    "#Syntax of Reduce Functions\n",
    "\n",
    "\"\"\"\n",
    "reduce(function,iterable)\n",
    "\n",
    "\"\"\"\n",
    "\n",
    "import functools\n",
    "functools.reduce(lambda x,y:x+y,[1,2,3,4,5])"
   ]
  },
  {
   "cell_type": "code",
   "execution_count": 50,
   "metadata": {},
   "outputs": [
    {
     "name": "stdout",
     "output_type": "stream",
     "text": [
      "The Linear Equation: 25\n",
      "The Quadratic_Equation: 49\n",
      "25\n",
      "[2, 4, 6, 8, 10, 12, 14, 16, 18, 20, 22, 24, 26, 28, 30, 32, 34, 36, 38, 40, 42, 44, 46, 48, 50, 52, 54, 56, 58, 60, 62, 64, 66, 68, 70, 72, 74, 76, 78, 80, 82, 84, 86, 88, 90, 92, 94, 96, 98, 100]\n",
      "\n",
      "Original list of tuples:\n",
      "[('English', 88), ('Science', 90), ('Maths', 97), ('Social sciences', 82)]\n",
      "\n",
      "Sorting the List of Tuples:\n",
      "[('Social sciences', 82), ('English', 88), ('Science', 90), ('Maths', 97)]\n",
      "\n",
      "Original list of dictionaries :\n",
      "[{'make': 'Nokia', 'model': 216, 'color': 'Black'}, {'make': 'Mi Max', 'model': '2', 'color': 'Gold'}, {'make': 'Samsung', 'model': 7, 'color': 'Blue'}]\n",
      "\n",
      "Sorting the List of dictionaries :\n",
      "[{'make': 'Nokia', 'model': 216, 'color': 'Black'}, {'make': 'Samsung', 'model': 7, 'color': 'Blue'}, {'make': 'Mi Max', 'model': '2', 'color': 'Gold'}]\n"
     ]
    }
   ],
   "source": [
    "\"\"\"\"Write A Python Program to find Linear Equation using Lambda Functions\"\"\"\n",
    "Linear_eq = lambda a, b: 3 * a + 4 * b\n",
    "print(\"The Linear Equation:\",Linear_eq(3, 4))\n",
    "\n",
    "\"\"\"Python Program to find Quadratic Equations\"\"\"\n",
    "Quadratic_eq = lambda a, b: (a + b) ** 2\n",
    "print(\"The Quadratic_Equation:\",Quadratic_eq(3, 4))\n",
    "\n",
    "\"\"\"Python Program to find unknown number\"\"\"\n",
    "Unknown_number = lambda x: x * x\n",
    "print(Unknown_number(5))\n",
    "\n",
    "\"\"\"Python Program to find even no in 100 first natural numbers\"\"\"\n",
    "print(list(filter(lambda x:x%2==0,range(1,101))))\n",
    "\n",
    "\"\"\"Python Program to sum all the natural numbers upto 100(using reduce method) \"\"\"\n",
    "import functools\n",
    "functools.reduce(lambda x,y:x+y,range(1,101))\n",
    "print()\n",
    "\"\"\"Write a Python program to sort a list of tuples using Lambda.\"\"\"\n",
    "subject_marks = [('English', 88), ('Science', 90), ('Maths', 97), ('Social sciences', 82)]\n",
    "print(\"Original list of tuples:\")\n",
    "print(subject_marks)\n",
    "subject_marks.sort(key=lambda x: x[1])\n",
    "print(\"\\nSorting the List of Tuples:\")\n",
    "print(subject_marks)\n",
    "\"\"\"Write A Python Program to sort List Of Dictionaries using lambda \"\"\"\n",
    "models = [{'make': 'Nokia', 'model': 216, 'color': 'Black'}, {'make': 'Mi Max', 'model': '2', 'color': 'Gold'},\n",
    "          {'make': 'Samsung', 'model': 7, 'color': 'Blue'}]\n",
    "print()\n",
    "print(\"Original list of dictionaries :\")\n",
    "print(models)\n",
    "sorted_models = sorted(models, key=lambda x: x['color'])\n",
    "print(\"\\nSorting the List of dictionaries :\")\n",
    "print(sorted_models)"
   ]
  },
  {
   "cell_type": "code",
   "execution_count": 57,
   "metadata": {},
   "outputs": [
    {
     "data": {
      "text/plain": [
       "[1, 4, 9, 16]"
      ]
     },
     "execution_count": 57,
     "metadata": {},
     "output_type": "execute_result"
    }
   ],
   "source": [
    "\"\"\"Write a Python program to square and cube every number in a given list of integers using Lambda.\"\"\"\n",
    "list(map(lambda x:x*x,[1,2,3,4]))"
   ]
  },
  {
   "cell_type": "code",
   "execution_count": 64,
   "metadata": {},
   "outputs": [
    {
     "name": "stdout",
     "output_type": "stream",
     "text": [
      "Original arrays:\n",
      "[-1, 2, -3, 5, 7, 8, 9, -10]\n",
      "\n",
      "Rearrange positive and negative numbers of the said array:\n",
      "[-1, -3, -10, 2, 5, 7, 8, 9]\n"
     ]
    }
   ],
   "source": [
    "\"\"\"Write a Python program to rearrange positive and negative numbers in a given array using Lambda\"\"\"\n",
    "\n",
    "array_nums = [-1, 2, -3, 5, 7, 8, 9, -10]\n",
    "print(\"Original arrays:\")\n",
    "print(array_nums)\n",
    "result = [x for x in array_nums if x < 0] + [x for x in array_nums if x >= 0]\n",
    "print(\"\\nRearrange positive and negative numbers of the said array:\")\n",
    "print(result)"
   ]
  },
  {
   "cell_type": "code",
   "execution_count": 65,
   "metadata": {},
   "outputs": [
    {
     "data": {
      "text/plain": [
       "[13, 19, 26, 38, 39, 52, 57, 65, 76, 78, 91, 95]"
      ]
     },
     "execution_count": 65,
     "metadata": {},
     "output_type": "execute_result"
    }
   ],
   "source": [
    "#Write a Python program to find numbers divisible by nineteen or thirteen from a list of numbers using Lambda.\n",
    "list(filter(lambda x:x%13==0 or x%19==0,range(1,100)))"
   ]
  },
  {
   "cell_type": "code",
   "execution_count": 67,
   "metadata": {},
   "outputs": [
    {
     "name": "stdout",
     "output_type": "stream",
     "text": [
      "[1, 2, 3, 4, 5, 6, 7, 8, 9, 10]\n",
      "[1, 2, 3, 4, 5, 6, 7, 8, 9, 10]\n"
     ]
    },
    {
     "data": {
      "text/plain": [
       "[2, 4, 6, 8, 10, 12, 14, 16, 18, 20]"
      ]
     },
     "execution_count": 67,
     "metadata": {},
     "output_type": "execute_result"
    }
   ],
   "source": [
    "#Write a Python program to add two given lists using map and lambda.\n",
    "list1=[1,2,3,4,5,6,7,8,9,10]\n",
    "print(list1)\n",
    "list2=[1,2,3,4,5,6,7,8,9,10]\n",
    "print(list2)\n",
    "list(map(lambda x,y:x+y,list1,list2))"
   ]
  },
  {
   "cell_type": "code",
   "execution_count": 68,
   "metadata": {},
   "outputs": [
    {
     "data": {
      "text/plain": [
       "5"
      ]
     },
     "execution_count": 68,
     "metadata": {},
     "output_type": "execute_result"
    }
   ],
   "source": [
    "\"\"\"Write a Python program to calculate the sum of the positive and negative numbers of a \n",
    "given list of numbers using lambda function. \"\"\"\n",
    "\n",
    "import functools\n",
    "functools.reduce(lambda x,y:x+y,[1,2,3,4,10,-1,-2,-3,-4,-5])"
   ]
  },
  {
   "cell_type": "code",
   "execution_count": 82,
   "metadata": {},
   "outputs": [
    {
     "name": "stdout",
     "output_type": "stream",
     "text": [
      "Original arrays:\n",
      "[1, 2, 3, 5, 7, 8, 9, 10]\n",
      "[1, 2, 4, 8, 9]\n",
      "\n",
      "Intersection of the said arrays:  [1, 2, 8, 9]\n"
     ]
    }
   ],
   "source": [
    "\"\"\"Write a Python program to find intersection of two given arrays using Lambda.\"\"\"\n",
    "array_nums1 = [1, 2, 3, 5, 7, 8, 9, 10]\n",
    "array_nums2 = [1, 2, 4, 8, 9]\n",
    "print(\"Original arrays:\")\n",
    "print(array_nums1)\n",
    "print(array_nums2)\n",
    "result = list(filter(lambda x: x in array_nums1, array_nums2)) \n",
    "print (\"\\nIntersection of the said arrays: \",result)"
   ]
  }
 ],
 "metadata": {
  "kernelspec": {
   "display_name": "Python 3",
   "language": "python",
   "name": "python3"
  },
  "language_info": {
   "codemirror_mode": {
    "name": "ipython",
    "version": 3
   },
   "file_extension": ".py",
   "mimetype": "text/x-python",
   "name": "python",
   "nbconvert_exporter": "python",
   "pygments_lexer": "ipython3",
   "version": "3.8.0"
  }
 },
 "nbformat": 4,
 "nbformat_minor": 4
}
