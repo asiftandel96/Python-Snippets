{
 "cells": [
  {
   "cell_type": "markdown",
   "metadata": {},
   "source": [
    "# Python Lambda Functions\n",
    "\n",
    "Lambda Function are the function that does not contain any name\n",
    "\n",
    "Syntax of Lambda Functions:\n",
    "\n",
    "(lambda argument_list)\n",
    "\n",
    "\n",
    "When we Can Use Lambda  Functions:\n",
    "\n",
    "We can use Lambda function when we want it for a shorter period of time\n",
    "\n",
    "Map Functions:\n",
    "\n",
    "Syntax of Map Function:\n",
    "\n",
    "Map(Function,seq)"
   ]
  },
  {
   "cell_type": "code",
   "execution_count": 2,
   "metadata": {},
   "outputs": [
    {
     "data": {
      "text/plain": [
       "[1, 4, 9, 16]"
      ]
     },
     "execution_count": 2,
     "metadata": {},
     "output_type": "execute_result"
    }
   ],
   "source": [
    "# Using Map Functions\n",
    "a=[1,2,3,4]\n",
    "\n",
    "def square(x):\n",
    "    \n",
    "    return x*x\n",
    "\n",
    "list(map(square,a))"
   ]
  },
  {
   "cell_type": "code",
   "execution_count": 3,
   "metadata": {},
   "outputs": [
    {
     "data": {
      "text/plain": [
       "[1, 4, 9, 16]"
      ]
     },
     "execution_count": 3,
     "metadata": {},
     "output_type": "execute_result"
    }
   ],
   "source": [
    "# Using Lambda Functions\n",
    "a=[1,2,3,4]\n",
    "\n",
    "list(map(lambda x:x*x,a))"
   ]
  },
  {
   "cell_type": "code",
   "execution_count": 4,
   "metadata": {},
   "outputs": [
    {
     "data": {
      "text/plain": [
       "[2, 3, 4, 5]"
      ]
     },
     "execution_count": 4,
     "metadata": {},
     "output_type": "execute_result"
    }
   ],
   "source": [
    "# Combining Two List\n",
    "\n",
    "a=[1,2,3,4]\n",
    "b=[1,1,1,1]\n",
    "\n",
    "list(map(lambda x,y:x+y,a,b))"
   ]
  },
  {
   "cell_type": "code",
   "execution_count": 7,
   "metadata": {},
   "outputs": [
    {
     "name": "stdout",
     "output_type": "stream",
     "text": [
      "2 4 6 8 10 "
     ]
    }
   ],
   "source": [
    "# Filter Functions\n",
    "# Filter Function is the in-built function Of Python Programming\n",
    "# Syntax Of Filter Function\n",
    "\"\"\"\n",
    "filter(function,iterable)\n",
    "\"\"\"\n",
    "for i in range(1,11):\n",
    "            if i%2==0:\n",
    "                print(i,end=\" \")"
   ]
  },
  {
   "cell_type": "code",
   "execution_count": 9,
   "metadata": {},
   "outputs": [
    {
     "data": {
      "text/plain": [
       "[2, 4, 6, 8, 10]"
      ]
     },
     "execution_count": 9,
     "metadata": {},
     "output_type": "execute_result"
    }
   ],
   "source": [
    "#Using Filter  Functions\n",
    "\n",
    "list(filter(lambda x:x%2==0,range(1,11)))"
   ]
  },
  {
   "cell_type": "code",
   "execution_count": 11,
   "metadata": {},
   "outputs": [
    {
     "data": {
      "text/plain": [
       "15"
      ]
     },
     "execution_count": 11,
     "metadata": {},
     "output_type": "execute_result"
    }
   ],
   "source": [
    "# Reduce Functions\n",
    "\n",
    "#Syntax of Reduce Functions\n",
    "\n",
    "\"\"\"\n",
    "reduce(function,iterable)\n",
    "\n",
    "\"\"\"\n",
    "\n",
    "import functools\n",
    "functools.reduce(lambda x,y:x+y,[1,2,3,4,5])"
   ]
  }
 ],
 "metadata": {
  "kernelspec": {
   "display_name": "Python 3",
   "language": "python",
   "name": "python3"
  },
  "language_info": {
   "codemirror_mode": {
    "name": "ipython",
    "version": 3
   },
   "file_extension": ".py",
   "mimetype": "text/x-python",
   "name": "python",
   "nbconvert_exporter": "python",
   "pygments_lexer": "ipython3",
   "version": "3.8.0"
  }
 },
 "nbformat": 4,
 "nbformat_minor": 4
}
