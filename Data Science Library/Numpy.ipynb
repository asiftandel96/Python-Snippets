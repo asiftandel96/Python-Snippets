{
 "cells": [
  {
   "cell_type": "markdown",
   "metadata": {},
   "source": [
    "# INTRODUCTION TO NUMPY LIBRARY OF DATA SCIENCE\n",
    "\n",
    "What is NumPy?\n",
    "\n",
    "NumPy is the fundamental package for scientific computing in Python. It is a Python library that provides a multidimensional array object, various derived objects (such as masked arrays and matrices), and an assortment of routines for fast operations on arrays, including mathematical, logical, shape manipulation, sorting, selecting, I/O, discrete Fourier transforms, basic linear algebra, basic statistical operations, random simulation and much more.\n",
    "\n",
    "At the core of the NumPy package, is the ndarray object. This encapsulates n-dimensional arrays of homogeneous data types, with many operations being performed in compiled code for performance. There are several important differences between NumPy arrays and the standard Python sequences:\n",
    "\n",
    "NumPy arrays have a fixed size at creation, unlike Python lists (which can grow dynamically). Changing the size of an ndarray will create a new array and delete the original.\n",
    "\n",
    "The elements in a NumPy array are all required to be of the same data type, and thus will be the same size in memory. The exception: one can have arrays of (Python, including NumPy) objects, thereby allowing for arrays of different sized elements.\n",
    "\n",
    "NumPy arrays facilitate advanced mathematical and other types of operations on large numbers of data. Typically, such operations are executed more efficiently and with less code than is possible using Python’s built-in sequences.\n",
    "\n",
    "A growing plethora of scientific and mathematical Python-based packages are using NumPy arrays; though these typically support Python-sequence input, they convert such input to NumPy arrays prior to processing, and they often output NumPy arrays. In other words, in order to efficiently use much (perhaps even most) of today’s scientific/mathematical Python-based software, just knowing how to use Python’s built-in sequence types is insufficient - one also needs to know how to use NumPy arrays.\n",
    "\n",
    "The points about sequence size and speed are particularly important in scientific computing. As a simple example, consider the case of multiplying each element in a 1-D sequence with the corresponding element in another sequence of the same length. If the data are stored in two Python lists, a and b, we could iterate over each element:\n",
    "\n",
    "c = []\n",
    "\n",
    "for i in range(len(a)):\n",
    "\n",
    "    c.append(a[i]*b[i])\n",
    "This produces the correct answer, but if a and b each contain millions of numbers, we will pay the price for the inefficiencies of looping in Python. We could accomplish the same task much more quickly in C by writing (for clarity we neglect variable declarations and initializations, memory allocation, etc.)\n",
    "\n",
    "for (i = 0; i < rows; i++): {\n",
    "\n",
    "  c[i] = a[i]*b[i];\n",
    "\n",
    "}\n",
    "This saves all the overhead involved in interpreting the Python code and manipulating Python objects, but at the expense of the benefits gained from coding in Python. Furthermore, the coding work required increases with the dimensionality of our data. In the case of a 2-D array, for example, the C code (abridged as before) expands to\n",
    "\n",
    "for (i = 0; i < rows; i++): {\n",
    "\n",
    "  for (j = 0; j < columns; j++): {\n",
    "  \n",
    "    c[i][j] = a[i][j]*b[i][j];\n",
    "  }\n",
    "}\n",
    "NumPy gives us the best of both worlds: element-by-element operations are the “default mode” when an ndarray is involved, but the element-by-element operation is speedily executed by pre-compiled C code. In NumPy\n",
    "\n",
    "c = a * b\n",
    "does what the earlier examples do, at near-C speeds, but with the code simplicity we expect from something based on Python. Indeed, the NumPy idiom is even simpler! This last example illustrates two of NumPy’s features which are the basis of much of its power: vectorization and broadcasting.\n",
    "\n",
    "Why is NumPy Fast?\n",
    "Vectorization describes the absence of any explicit looping, indexing, etc., in the code - these things are taking place, of course, just “behind the scenes” in optimized, pre-compiled C code. Vectorized code has many advantages, among which are:\n",
    "\n",
    "vectorized code is more concise and easier to read\n",
    "\n",
    "fewer lines of code generally means fewer bugs\n",
    "\n",
    "the code more closely resembles standard mathematical notation (making it easier, typically, to correctly code mathematical constructs)\n",
    "\n",
    "vectorization results in more “Pythonic” code. Without vectorization, our code would be littered with inefficient and difficult to read for loops.\n",
    "\n",
    "Broadcasting is the term used to describe the implicit element-by-element behavior of operations; generally speaking, in NumPy all operations, not just arithmetic operations, but logical, bit-wise, functional, etc., behave in this implicit element-by-element fashion, i.e., they broadcast. Moreover, in the example above, a and b could be multidimensional arrays of the same shape, or a scalar and an array, or even two arrays of with different shapes, provided that the smaller array is “expandable” to the shape of the larger in such a way that the resulting broadcast is unambiguous. For detailed “rules” of broadcasting see numpy.doc.broadcasting.\n",
    "\n",
    "Who Else Uses NumPy?\n",
    "NumPy fully supports an object-oriented approach, starting, once again, with ndarray. For example, ndarray is a class, possessing numerous methods and attributes. Many of its methods are mirrored by functions in the outer-most NumPy namespace, allowing the programmer to code in whichever paradigm they prefer. This flexibility has allowed the NumPy array dialect and NumPy ndarray class to become the de-facto language of multi-dimensional data interchange used in Python."
   ]
  },
  {
   "cell_type": "markdown",
   "metadata": {},
   "source": [
    "# HOW TO IMPORT NUMPY\n",
    "\n",
    "Any time you want to use a package or library in your code, you first need to make it accessible.\n",
    "\n",
    "In order to start using NumPy and all of the functions available in NumPy, you’ll need to import it. This can be easily done with this import statement:"
   ]
  },
  {
   "cell_type": "code",
   "execution_count": 1,
   "metadata": {},
   "outputs": [],
   "source": [
    "import numpy as np"
   ]
  },
  {
   "cell_type": "markdown",
   "metadata": {},
   "source": [
    "# Reading the example code\n",
    "\n",
    "If you aren’t already comfortable with reading tutorials that contain a lot of code, you might not know how to interpret a code block that looks like this:"
   ]
  },
  {
   "cell_type": "code",
   "execution_count": 2,
   "metadata": {},
   "outputs": [
    {
     "data": {
      "text/plain": [
       "(1, 6)"
      ]
     },
     "execution_count": 2,
     "metadata": {},
     "output_type": "execute_result"
    }
   ],
   "source": [
    "a=np.arange(6)\n",
    "a2=a[np.newaxis, :]\n",
    "a2.shape"
   ]
  },
  {
   "cell_type": "markdown",
   "metadata": {},
   "source": [
    "What’s the difference between a Python list and a NumPy array?\n",
    "\n",
    "NumPy gives you an enormous range of fast and efficient ways of creating arrays and manipulating numerical data inside them. While a Python list can contain different data types within a single list, all of the elements in a NumPy array should be homogenous. The mathematical operations that are meant to be performed on arrays would be extremely inefficient if the arrays weren’t homogenous.\n",
    "\n",
    "Why use NumPy?\n",
    "\n",
    "NumPy arrays are faster and more compact than Python lists. An array consumes less memory and is convenient to use. NumPy uses much less memory to store data and it provides a mechanism of specifying the data types. This allows the code to be optimized even further.\n",
    "\n",
    "What is an array?\n",
    "\n",
    "An array is a central data structure of the NumPy library. An array is a grid of values and it contains information about the raw data, how to locate an element, and how to interpret an element. It has a grid of elements that can be indexed in various ways. The elements are all of the same type, referred to as the array dtype.\n",
    "\n",
    "An array can be indexed by a tuple of nonnegative integers, by booleans, by another array, or by integers. The rank of the array is the number of dimensions. The shape of the array is a tuple of integers giving the size of the array along each dimension.\n",
    "\n",
    "One way we can initialize NumPy arrays is from Python lists, using nested lists for two- or higher-dimensional data."
   ]
  },
  {
   "cell_type": "code",
   "execution_count": 12,
   "metadata": {},
   "outputs": [],
   "source": [
    "a=np.array([1,2,3,4,6,7])"
   ]
  },
  {
   "cell_type": "markdown",
   "metadata": {},
   "source": [
    "We can access the elements in the array using square brackets. When you’re accessing elements, remember that indexing in NumPy starts at 0. That means that if you want to access the first element in your array, you’ll be accessing element “0”."
   ]
  },
  {
   "cell_type": "code",
   "execution_count": 13,
   "metadata": {},
   "outputs": [
    {
     "name": "stdout",
     "output_type": "stream",
     "text": [
      "1\n"
     ]
    }
   ],
   "source": [
    "print(a[0])"
   ]
  },
  {
   "cell_type": "markdown",
   "metadata": {},
   "source": [
    "# More information about arrays\n",
    "\n",
    "This section covers 1D array, 2D array, ndarray, vector, matrix\n",
    "\n",
    "You might occasionally hear an array referred to as a “ndarray,” which is shorthand for “N-dimensional array.” An N-dimensional array is simply an array with any number of dimensions. You might also hear 1-D, or one-dimensional array, 2-D, or two-dimensional array, and so on. The NumPy ndarray class is used to represent both matrices and vectors. A vector is an array with a single dimension (there’s no difference between row and column vectors), while a matrix refers to an array with two dimensions. For 3-D or higher dimensional arrays, the term tensor is also commonly used.\n",
    "\n",
    "\n",
    "What are the attributes of an array?\n",
    "\n",
    "An array is usually a fixed-size container of items of the same type and size. The number of dimensions and items in an array is defined by its shape. The shape of an array is a tuple of non-negative integers that specify the sizes of each dimension.\n",
    "\n",
    "In NumPy, dimensions are called axes. This means that if you have a 2D array that looks like this:\n",
    "\n",
    "[[0., 0., 0.],\n",
    "\n",
    " [1., 1., 1.]]\n",
    " \n",
    "Your array has 2 axes. The first axis has a length of 2 and the second axis has a length of 3.\n",
    "\n",
    "Just like in other Python container objects, the contents of an array can be accessed and modified by indexing or slicing the array. Unlike the typical container objects, different arrays can share the same data, so changes made on one array might be visible in another.\n",
    "\n",
    "Array attributes reflect information intrinsic to the array itself. If you need to get, or even set, properties of an array without creating a new array, you can often access an array through its attributes."
   ]
  },
  {
   "cell_type": "markdown",
   "metadata": {},
   "source": [
    "# How to create a Basic array\n",
    "\n",
    "This section covers np.array(), np.zeros(), np.ones(), np.empty(), np.arange(), np.linspace(), dtype\n",
    "\n",
    "To create a NumPy array, you can use the function np.array().\n",
    "\n",
    "All you need to do to create a simple array is pass a list to it. If you choose to, you can also specify the type of data in your list."
   ]
  },
  {
   "cell_type": "code",
   "execution_count": 18,
   "metadata": {},
   "outputs": [
    {
     "name": "stdout",
     "output_type": "stream",
     "text": [
      "The Creation of First Array: [[1 2 3 4 5]\n",
      " [1 2 3 4 5]]\n"
     ]
    }
   ],
   "source": [
    "a=np.array([[1,2,3,4,5],[1,2,3,4,5]])\n",
    "print(\"The Creation of First Array:\",a)"
   ]
  },
  {
   "cell_type": "code",
   "execution_count": 59,
   "metadata": {},
   "outputs": [
    {
     "name": "stdout",
     "output_type": "stream",
     "text": [
      "The area filled with 0: [0. 0. 0. 0.]\n",
      "The array filled with 1: [1. 1. 1. 1.]\n",
      "[5.e-324 5.e-324]\n",
      "Creating Range of element in array: [0 1 2 3]\n",
      "[2 5 8]\n",
      "[1 1]\n"
     ]
    }
   ],
   "source": [
    "\"\"\"Besides creating an array from a sequence of elements, you can easily create an array filled with 0’s:\"\"\"\n",
    "b=np.zeros(4)\n",
    "print(\"The area filled with 0:\",b)\n",
    "\"\"\"Or an array filled with 1’s\"\"\"\n",
    "c=np.ones(4)\n",
    "print(\"The array filled with 1:\",c)\n",
    "\"\"\"Or even an empty array! The function empty creates an array whose initial content is random and depends on the state of the memory. The reason to use empty over zeros (or something similar) is speed - just make sure to fill every element afterwards!.\"\"\"\n",
    "d=np.empty(2)\n",
    "print(d)\n",
    "\"\"\"You can create an array with a range of elements\"\"\"\n",
    "e=np.arange(4)\n",
    "print(\"Creating Range of element in array:\",e)\n",
    "\"\"\"And even an array that contains a range of evenly spaced intervals. To do this, you will specify the \n",
    "first number, last number, and the step size.\"\"\"\n",
    "a1=np.arange(2,10,3)\n",
    "print(a1)\n",
    "\"\"\"You can also use np.linspace() to create an array with values that are spaced linearly in a specified interval:\"\"\"\n",
    "a2=np.linspace(0,10,num=5)\n",
    "a2\n",
    "\n",
    "\"\"\"Specifying your data type\"\"\"\n",
    "\n",
    "\"\"\"While the default data type is floating point (np.float64), you can explicitly specify which data type you want using the dtype keyword.\"\"\"\n",
    "a1=np.ones(2,dtype=np.int64)\n",
    "print(a1)"
   ]
  },
  {
   "cell_type": "markdown",
   "metadata": {},
   "source": [
    "# ADDING,REMOVING AND SORTING ELEMENT IN THE ARRAY\n",
    "\n",
    "This section covers np.sort(), np.concatenate()\n",
    "\n",
    "Sorting an element is simple with np.sort(). You can specify the axis, kind, and order when you call the function.\n"
   ]
  },
  {
   "cell_type": "code",
   "execution_count": 41,
   "metadata": {},
   "outputs": [
    {
     "name": "stdout",
     "output_type": "stream",
     "text": [
      "[ 1 10  8  9 15  7 18 77]\n"
     ]
    },
    {
     "data": {
      "text/plain": [
       "array([ 1,  7,  8,  9, 10, 15, 18, 77])"
      ]
     },
     "execution_count": 41,
     "metadata": {},
     "output_type": "execute_result"
    }
   ],
   "source": [
    "\"\"\"Sorting element in the array Using Numpy Library\"\"\"\n",
    "arr=np.array([1,10,8,9,15,7,18,77])\n",
    "print(arr)\n",
    "np.sort(arr)"
   ]
  },
  {
   "cell_type": "code",
   "execution_count": 45,
   "metadata": {},
   "outputs": [
    {
     "data": {
      "text/plain": [
       "array([1, 1, 2, 3, 4, 4, 5, 5, 6, 7])"
      ]
     },
     "execution_count": 45,
     "metadata": {},
     "output_type": "execute_result"
    }
   ],
   "source": [
    "a1=np.array([1,2,3,4,5])\n",
    "a2=np.array([1,4,5,6,7])\n",
    "c=np.concatenate((a1,a2))\n",
    "np.sort(c)"
   ]
  },
  {
   "cell_type": "code",
   "execution_count": 48,
   "metadata": {},
   "outputs": [
    {
     "data": {
      "text/plain": [
       "array([[ 1,  2,  3],\n",
       "       [ 3,  4,  5],\n",
       "       [10,  9,  8]])"
      ]
     },
     "execution_count": 48,
     "metadata": {},
     "output_type": "execute_result"
    }
   ],
   "source": [
    "a=np.array([[1,2,3],[3,4,5]])\n",
    "b=np.array([[10,9,8]])\n",
    "np.concatenate((a,b),axis=0)"
   ]
  },
  {
   "cell_type": "markdown",
   "metadata": {},
   "source": [
    "# Shape and Size of an Array\n",
    "\n",
    "ndarray.ndim will tell you the number of axes, or dimensions, of the array.\n",
    "\n",
    "ndarray.size will tell you the total number of elements of the array. This is the product of the elements of the array’s shape.\n",
    "\n",
    "ndarray.shape will display a tuple of integers that indicate the number of elements stored along each dimension of the array. If, for example, you have a 2-D array with 2 rows and 3 columns, the shape of your array is (2, 3)."
   ]
  },
  {
   "cell_type": "code",
   "execution_count": 64,
   "metadata": {},
   "outputs": [
    {
     "name": "stdout",
     "output_type": "stream",
     "text": [
      "The no of dimensions: 3\n",
      "The total no of elements is: 24\n",
      "the shape of the array is: (3, 2, 4)\n",
      "The Shape Of the Array is: [0 1 2 3 4 5]\n",
      "After Reshaping of the Array\n",
      "[[0 1]\n",
      " [2 3]\n",
      " [4 5]]\n",
      "\n",
      "[[0 1 2 3 4 5]]\n"
     ]
    }
   ],
   "source": [
    " array_example = np.array([[[0, 1, 2, 3],\n",
    "                            [4, 5, 6, 7]],\n",
    "\n",
    "                           [[0, 1, 2, 3],\n",
    "                            [4, 5, 6, 7]],\n",
    "\n",
    "                           [[0 ,1 ,2, 3],\n",
    "                            [4, 5, 6, 7]]])\n",
    "    \n",
    "\n",
    "\"\"\"To find the number of dimensions of the array\"\"\"\n",
    "print(\"The no of dimensions:\",array_example.ndim)\n",
    "\"\"\"To find the total number of elements in the array, run\"\"\"\n",
    "print(\"The total no of elements is:\",array_example.size)\n",
    "\"\"\"And to find the shape of your array\"\"\"\n",
    "print(\"the shape of the array is:\",array_example.shape)\n",
    "\"\"\"Reshape of a Array\"\"\"\n",
    "a=np.arange(6)\n",
    "print(\"The Shape Of the Array is:\",a)\n",
    "b=a.reshape(3,2)\n",
    "print(\"After Reshaping of the Array\")\n",
    "print(b)\n",
    "print()\n",
    "\"\"\"With np.reshape, you can specify a few optional parameters\"\"\"\n",
    "print(np.reshape(a,newshape=(1,6), order='C'))"
   ]
  },
  {
   "cell_type": "markdown",
   "metadata": {},
   "source": [
    "# How to convert a 1D array into a 2D array (how to add a new axis to an array\n",
    "\n",
    "This section covers np.newaxis, np.expand_dims\n",
    "\n",
    "You can use np.newaxis and np.expand_dims to increase the dimensions of your existing array.\n",
    "\n",
    "Using np.newaxis will increase the dimensions of your array by one dimension when used once. This means that a 1D array will become a 2D array, a 2D array will become a 3D array, and so on."
   ]
  },
  {
   "cell_type": "code",
   "execution_count": 68,
   "metadata": {},
   "outputs": [
    {
     "name": "stdout",
     "output_type": "stream",
     "text": [
      "This is a 1-D Array: (5,)\n",
      "Converting it to 2D array: (1, 5)\n"
     ]
    }
   ],
   "source": [
    "a=np.array([1,2,3,4,5])\n",
    "print(\"This is a 1-D Array:\",a.shape)\n",
    "#Converting it to 2D Array \n",
    "a2=a[np.newaxis,:]\n",
    "print(\"Converting it to 2D array:\",a2.shape)"
   ]
  },
  {
   "cell_type": "markdown",
   "metadata": {},
   "source": [
    "Or, for a column vector, you can insert an axis along the second dimension:"
   ]
  },
  {
   "cell_type": "code",
   "execution_count": 69,
   "metadata": {},
   "outputs": [
    {
     "name": "stdout",
     "output_type": "stream",
     "text": [
      "This is a 1-D Array: (5,)\n",
      "Converting it to 2D array: (5, 1)\n"
     ]
    }
   ],
   "source": [
    "column_vector=np.array([1,2,3,4,5])\n",
    "print(\"This is a 1-D Array:\",a.shape)\n",
    "#Converting it to 2D Array \n",
    "a2=a[:,np.newaxis]\n",
    "print(\"Converting it to 2D array:\",a2.shape)"
   ]
  },
  {
   "cell_type": "code",
   "execution_count": 76,
   "metadata": {},
   "outputs": [
    {
     "name": "stdout",
     "output_type": "stream",
     "text": [
      "Using np.expand_dims for converting 1D Array into 2D Array\n",
      "(6,)\n",
      "(1, 6)\n",
      "(6, 1)\n"
     ]
    }
   ],
   "source": [
    "\"\"\"You can also expand an array by inserting a new axis at a specified position with np.expand_dims.\"\"\"\n",
    "print(\"Using np.expand_dims for converting 1D Array into 2D Array\")\n",
    "a=np.array([1,2,3,4,5,6])\n",
    "print(a.shape)\n",
    "b=np.expand_dims(a,axis=0) # axis=0 is for rows\n",
    "print(b.shape)\n",
    "\"\"\"You can add an axis at index position 0 with:\"\"\"\n",
    "c=np.expand_dims(a,axis=1) # axis=1 is for column\n",
    "print(c.shape)"
   ]
  },
  {
   "cell_type": "markdown",
   "metadata": {},
   "source": [
    "# Indexing and slicing\n",
    "\n",
    "You can index and slice NumPy arrays in the same ways you can slice Python lists."
   ]
  },
  {
   "cell_type": "code",
   "execution_count": 85,
   "metadata": {},
   "outputs": [
    {
     "name": "stdout",
     "output_type": "stream",
     "text": [
      "2\n",
      "3\n",
      "[2 3]\n"
     ]
    }
   ],
   "source": [
    "a=np.array([[1,2,3],[3,4,5]])\n",
    "print(a[0][1])\n",
    "print(a[0][-1])\n",
    "print(a[0][1:])"
   ]
  },
  {
   "cell_type": "markdown",
   "metadata": {},
   "source": [
    "You may want to take a section of your array or specific array elements to use in further analysis or additional operations. To do that, you’ll need to subset, slice, and/or index your arrays.\n",
    "\n",
    "If you want to select values from your array that fulfill certain conditions, it’s straightforward with NumPy."
   ]
  },
  {
   "cell_type": "code",
   "execution_count": 89,
   "metadata": {},
   "outputs": [
    {
     "name": "stdout",
     "output_type": "stream",
     "text": [
      "[5]\n"
     ]
    }
   ],
   "source": [
    "print(a[a>=5])"
   ]
  },
  {
   "cell_type": "code",
   "execution_count": 90,
   "metadata": {},
   "outputs": [
    {
     "name": "stdout",
     "output_type": "stream",
     "text": [
      "[2 4]\n"
     ]
    }
   ],
   "source": [
    "\"\"\"You can select elements that are divisible by 2\"\"\"\n",
    "a2=a[a%2==0]\n",
    "print(a2)"
   ]
  },
  {
   "cell_type": "code",
   "execution_count": 93,
   "metadata": {},
   "outputs": [
    {
     "name": "stdout",
     "output_type": "stream",
     "text": [
      "[[False False  True]\n",
      " [ True  True False]]\n"
     ]
    }
   ],
   "source": [
    "\"\"\"Or you can select elements that satisfy two conditions using the & and | operators\"\"\"\n",
    "a2=(a>2) & (a<5)\n",
    "print(a2)"
   ]
  },
  {
   "cell_type": "code",
   "execution_count": 92,
   "metadata": {},
   "outputs": [
    {
     "name": "stdout",
     "output_type": "stream",
     "text": [
      "[1 2 3 3 4 5]\n"
     ]
    }
   ],
   "source": [
    "\"\"\"You can also make use of the logical operators & and | in order to return boolean values that specify whether or not the values in an array fulfill a certain condition. This can be useful with arrays that contain names or other categorical values.\"\"\"\n",
    "a2=a[(a>2) | (a<5)]\n",
    "print(a2)"
   ]
  },
  {
   "cell_type": "markdown",
   "metadata": {},
   "source": [
    "# How to create an array from existing data\n",
    "\n",
    "This section covers slicing and indexing, np.vstack(), np.hstack(), np.hsplit(), .view(), copy()"
   ]
  },
  {
   "cell_type": "code",
   "execution_count": 97,
   "metadata": {},
   "outputs": [
    {
     "name": "stdout",
     "output_type": "stream",
     "text": [
      "[ 1  2  3  4  5  6  7  8  9 10]\n",
      "[4 5 6 7 8]\n"
     ]
    }
   ],
   "source": [
    "a=np.arange(1,11)\n",
    "print(a)\n",
    "\"\"\"You can create a new array from a section of your array any time by specifying where you want to slice your array.\"\"\"\n",
    "arr1=a[3:8]\n",
    "print(arr1)"
   ]
  },
  {
   "cell_type": "markdown",
   "metadata": {},
   "source": [
    "Here, you grabbed a section of your array from index position 3 through index position 8.\n",
    "\n",
    "You can also stack two existing arrays, both vertically and horizontally. Let’s say you have two arrays, a1 and a2:"
   ]
  },
  {
   "cell_type": "code",
   "execution_count": 102,
   "metadata": {},
   "outputs": [
    {
     "name": "stdout",
     "output_type": "stream",
     "text": [
      "Vertical Stacking\n",
      "[[1 1]\n",
      " [2 2]\n",
      " [3 3]\n",
      " [4 4]]\n",
      "Horizontal Stacking\n",
      "\n",
      "[[1 1 3 3]\n",
      " [2 2 4 4]]\n"
     ]
    }
   ],
   "source": [
    "a1=np.array([[1,1],\n",
    "             \n",
    "             [2,2]])\n",
    "\n",
    "a2=np.array([[3,3],\n",
    "            \n",
    "            [4,4]])\n",
    "\n",
    "\"\"\"You can stack them vertically with vstack\"\"\"\n",
    "print(\"Vertical Stacking\")\n",
    "print(np.vstack((a1,a2)))\n",
    "print(\"Horizontal Stacking\")\n",
    "print()\n",
    "\"\"\"Or stack them horizontally with hstack:\"\"\"\n",
    "print(np.hstack((a1,a2)))"
   ]
  },
  {
   "cell_type": "code",
   "execution_count": 110,
   "metadata": {},
   "outputs": [
    {
     "name": "stdout",
     "output_type": "stream",
     "text": [
      "[[ 1  2  3  4  5  6  7  8  9 10 11 12]\n",
      " [13 14 15 16 17 18 19 20 21 22 23 24]]\n",
      "\n",
      "[array([[ 1,  2,  3,  4],\n",
      "       [13, 14, 15, 16]]), array([[ 5,  6,  7,  8],\n",
      "       [17, 18, 19, 20]]), array([[ 9, 10, 11, 12],\n",
      "       [21, 22, 23, 24]])]\n",
      "\n",
      "[array([[ 1,  2,  3],\n",
      "       [13, 14, 15]]), array([[ 4],\n",
      "       [16]]), array([[ 5,  6,  7,  8,  9, 10, 11, 12],\n",
      "       [17, 18, 19, 20, 21, 22, 23, 24]])]\n"
     ]
    }
   ],
   "source": [
    "\"\"\"You can split an array into several smaller arrays using hsplit. You can specify either the number of equally shaped arrays to return or the columns after which the division should occur.\"\"\"\n",
    "a=np.arange(1,25).reshape(2,12)\n",
    "print(a)\n",
    "\"\"\"If you wanted to split this array into three equally shaped arrays.\"\"\"\n",
    "print()\n",
    "print(np.hsplit(a,3))\n",
    "\"\"\"If you wanted to split your array after the third and fourth column.\"\"\"\n",
    "print()\n",
    "print(np.hsplit(a, (3,4)))"
   ]
  },
  {
   "cell_type": "markdown",
   "metadata": {},
   "source": [
    "You can use the view method to create a new array object that looks at the same data as the original array (a shallow copy).\n",
    "\n",
    "Views are an important NumPy concept! NumPy functions, as well as operations like indexing and slicing, will return views whenever possible. This saves memory and is faster (no copy of the data has to be made). However it’s important to be aware of this - modifying data in a view also modifies the original array!"
   ]
  },
  {
   "cell_type": "code",
   "execution_count": 115,
   "metadata": {},
   "outputs": [
    {
     "name": "stdout",
     "output_type": "stream",
     "text": [
      "[99  2  3  4]\n",
      "\n",
      "[[99  2  3  4]\n",
      " [ 5  6  7  8]\n",
      " [ 9 10 11 12]]\n"
     ]
    }
   ],
   "source": [
    "a=np.array([[1,2,3,4],[5,6,7,8],[9,10,11,12]])\n",
    "b1=a[0,:]\n",
    "b1\n",
    "b1[0]=99\n",
    "print(b1)\n",
    "print()\n",
    "print(a)"
   ]
  },
  {
   "cell_type": "code",
   "execution_count": 116,
   "metadata": {},
   "outputs": [
    {
     "name": "stdout",
     "output_type": "stream",
     "text": [
      "[[99  2  3  4]\n",
      " [ 5  6  7  8]\n",
      " [ 9 10 11 12]]\n"
     ]
    }
   ],
   "source": [
    "\"\"\"Using the copy method will make a complete copy of the array and its data (a deep copy). To use this on your array\"\"\"\n",
    "b2=a.copy()\n",
    "print(b2)"
   ]
  },
  {
   "cell_type": "markdown",
   "metadata": {},
   "source": [
    "# Basic Array Operations\n",
    "\n",
    "This section covers addition, subtraction, multiplication, division, and more\n",
    "\n",
    "Once you’ve created your arrays, you can start to work with them. Let’s say, for example, that you’ve created two arrays, one called “data” and one called “ones”"
   ]
  },
  {
   "cell_type": "code",
   "execution_count": 125,
   "metadata": {},
   "outputs": [
    {
     "name": "stdout",
     "output_type": "stream",
     "text": [
      "Basic Array Operations:\n",
      "\n",
      "The addition of two array: [2 3]\n",
      "The substraction of two array: [0 1]\n",
      "The multiplication of array: [1 4]\n",
      "the division of two array: [1. 1.]\n"
     ]
    }
   ],
   "source": [
    "\"\"\"You can add the arrays together with the plus sign.\"\"\"\n",
    "data=np.array([1,2])\n",
    "ones=np.ones(2,dtype=int)\n",
    "print(\"Basic Array Operations:\")\n",
    "print()\n",
    "print(\"The addition of two array:\",data+ones)\n",
    "print(\"The substraction of two array:\",data - ones)\n",
    "print(\"The multiplication of array:\",data  * data)\n",
    "print(\"the division of two array:\",data / data)"
   ]
  },
  {
   "cell_type": "code",
   "execution_count": 126,
   "metadata": {},
   "outputs": [
    {
     "data": {
      "text/plain": [
       "15"
      ]
     },
     "execution_count": 126,
     "metadata": {},
     "output_type": "execute_result"
    }
   ],
   "source": [
    "\"\"\"Basic operations are simple with NumPy. If you want to find the sum of the elements in an array, you’d use sum(). This works for 1D arrays, 2D arrays, and arrays in higher dimensions.\"\"\"\n",
    "a=np.array([1,2,3,4,5])\n",
    "a.sum()"
   ]
  },
  {
   "cell_type": "code",
   "execution_count": 132,
   "metadata": {},
   "outputs": [
    {
     "data": {
      "text/plain": [
       "array([3, 3])"
      ]
     },
     "execution_count": 132,
     "metadata": {},
     "output_type": "execute_result"
    }
   ],
   "source": [
    "\"\"\"To add the rows or the columns in a 2D array, you would specify the axis.\"\"\"\n",
    "\n",
    "a=np.array([[1,1],[2,2]])\n",
    "a.sum(axis=0)"
   ]
  },
  {
   "cell_type": "code",
   "execution_count": 133,
   "metadata": {},
   "outputs": [
    {
     "data": {
      "text/plain": [
       "array([3, 6])"
      ]
     },
     "execution_count": 133,
     "metadata": {},
     "output_type": "execute_result"
    }
   ],
   "source": [
    "\"\"\"You can sum the columns\"\"\"\n",
    "a=np.array([[1,1,1],[2,2,2]])\n",
    "a.sum(axis=1)"
   ]
  },
  {
   "cell_type": "markdown",
   "metadata": {},
   "source": [
    "# Broadcasting\n",
    "\n",
    "There are times when you might want to carry out an operation between an array and a single number (also called an operation between a vector and a scalar) or between arrays of two different sizes. For example, your array (we’ll call it “data”) might contain information about distance in miles but you want to convert the information to kilometers. You can perform this operation with"
   ]
  },
  {
   "cell_type": "code",
   "execution_count": 134,
   "metadata": {},
   "outputs": [
    {
     "data": {
      "text/plain": [
       "array([[1.6, 3.2],\n",
       "       [4.8, 6.4]])"
      ]
     },
     "execution_count": 134,
     "metadata": {},
     "output_type": "execute_result"
    }
   ],
   "source": [
    "data=np.array([[1,2],[3,4]])\n",
    "data * 1.6"
   ]
  },
  {
   "cell_type": "markdown",
   "metadata": {},
   "source": [
    "NumPy understands that the multiplication should happen with each cell. That concept is called broadcasting. Broadcasting is a mechanism that allows NumPy to perform operations on arrays of different shapes. The dimensions of your array must be compatible, for example, when the dimensions of both arrays are equal or when one of them is 1. If the dimensions are not compatible, you will get a ValueError."
   ]
  },
  {
   "cell_type": "markdown",
   "metadata": {},
   "source": [
    "# More useful array operations\n",
    "\n",
    "This section covers maximum, minimum, sum, mean, product, standard deviation, and more\n",
    "\n",
    "NumPy also performs aggregation functions. In addition to min, max, and sum, you can easily run mean to get the average, prod to get the result of multiplying the elements together, std to get the standard deviation, and more."
   ]
  },
  {
   "cell_type": "code",
   "execution_count": 137,
   "metadata": {},
   "outputs": [
    {
     "name": "stdout",
     "output_type": "stream",
     "text": [
      "4\n",
      "1\n",
      "10\n"
     ]
    }
   ],
   "source": [
    "print(data.max())\n",
    "\n",
    "print(data.min())\n",
    "\n",
    "print(data.sum())"
   ]
  },
  {
   "cell_type": "code",
   "execution_count": 138,
   "metadata": {},
   "outputs": [
    {
     "data": {
      "text/plain": [
       "4.8595784"
      ]
     },
     "execution_count": 138,
     "metadata": {},
     "output_type": "execute_result"
    }
   ],
   "source": [
    " a = np.array([[0.45053314, 0.17296777, 0.34376245, 0.5510652],\n",
    "               [0.54627315, 0.05093587, 0.40067661, 0.55645993],\n",
    "               [0.12697628, 0.82485143, 0.26590556, 0.56917101]])"
   ]
  },
  {
   "cell_type": "markdown",
   "metadata": {},
   "source": [
    "It’s very common to want to aggregate along a row or column. By default, every NumPy aggregation function will return the aggregate of the entire array. To find the sum or the minimum of the elements in your array"
   ]
  },
  {
   "cell_type": "code",
   "execution_count": 144,
   "metadata": {},
   "outputs": [
    {
     "name": "stdout",
     "output_type": "stream",
     "text": [
      "The max of the array: 0.82485143\n",
      "The sum of the array: 4.8595784\n",
      "The minimum of the array: 0.05093587\n"
     ]
    }
   ],
   "source": [
    "\"The max of the array\"\n",
    "\n",
    "print(\"The max of the array:\",a.max())\n",
    "\"The sum of the array\"\n",
    "print(\"The sum of the array:\",a.sum())\n",
    "\n",
    "\"The min of the array\"\n",
    "print(\"The minimum of the array:\",a.min())"
   ]
  },
  {
   "cell_type": "markdown",
   "metadata": {},
   "source": [
    "You can specify on which axis you want the aggregation function to be computed. For example, you can find the minimum value within each column by specifying axis=0."
   ]
  },
  {
   "cell_type": "code",
   "execution_count": 145,
   "metadata": {},
   "outputs": [
    {
     "data": {
      "text/plain": [
       "array([0.12697628, 0.05093587, 0.26590556, 0.5510652 ])"
      ]
     },
     "execution_count": 145,
     "metadata": {},
     "output_type": "execute_result"
    }
   ],
   "source": [
    "a.min(axis=0)"
   ]
  },
  {
   "cell_type": "markdown",
   "metadata": {},
   "source": [
    "The four values listed above correspond to the number of columns in your array. With a four-column array, you will get four values as your result."
   ]
  },
  {
   "cell_type": "markdown",
   "metadata": {},
   "source": [
    "# Creating Matrices\n",
    "\n",
    "You can pass Python lists of lists to create a 2-D array (or “matrix”) to represent them in NumPy."
   ]
  },
  {
   "cell_type": "code",
   "execution_count": 146,
   "metadata": {},
   "outputs": [
    {
     "data": {
      "text/plain": [
       "array([[1, 1],\n",
       "       [2, 2]])"
      ]
     },
     "execution_count": 146,
     "metadata": {},
     "output_type": "execute_result"
    }
   ],
   "source": [
    "a=np.array([[1,1],[2,2]])\n",
    "a"
   ]
  },
  {
   "cell_type": "code",
   "execution_count": 153,
   "metadata": {},
   "outputs": [
    {
     "name": "stdout",
     "output_type": "stream",
     "text": [
      "[1 1]\n",
      "[2 2]\n",
      "[1]\n",
      "2\n"
     ]
    }
   ],
   "source": [
    "\"\"\"Indexing and slicing operations are useful when you’re manipulating matrices\"\"\"\n",
    "print(a[0])\n",
    "print(a[1])\n",
    "print(a[0][0:1])\n",
    "print(a[1][1])"
   ]
  },
  {
   "cell_type": "code",
   "execution_count": 154,
   "metadata": {},
   "outputs": [
    {
     "name": "stdout",
     "output_type": "stream",
     "text": [
      "2\n",
      "1\n",
      "6\n"
     ]
    }
   ],
   "source": [
    "\"\"\"You can aggregate matrices the same way you aggregated vectors\"\"\"\n",
    "print(a.max())\n",
    "print(a.min())\n",
    "print(a.sum())"
   ]
  },
  {
   "cell_type": "code",
   "execution_count": 157,
   "metadata": {},
   "outputs": [
    {
     "name": "stdout",
     "output_type": "stream",
     "text": [
      "[2 2]\n",
      "[1 2]\n"
     ]
    }
   ],
   "source": [
    "\"\"\"You can aggregate all the values in a matrix and you can aggregate them across columns or rows using the axis parameter\"\"\"\n",
    "print(a.max(axis=0))\n",
    "print(a.min(axis=1))"
   ]
  },
  {
   "cell_type": "code",
   "execution_count": 158,
   "metadata": {},
   "outputs": [
    {
     "data": {
      "text/plain": [
       "array([[3, 3],\n",
       "       [5, 5]])"
      ]
     },
     "execution_count": 158,
     "metadata": {},
     "output_type": "execute_result"
    }
   ],
   "source": [
    "\"\"\"Once you’ve created your matrices, you can add and multiply them using arithmetic operators if you have two matrices that are the same size.\"\"\"\n",
    "a=np.array([[1,1],[2,2]])\n",
    "b=np.array([[2,2],[3,3]])\n",
    "a + b"
   ]
  },
  {
   "cell_type": "code",
   "execution_count": 159,
   "metadata": {},
   "outputs": [
    {
     "data": {
      "text/plain": [
       "array([[2, 2],\n",
       "       [3, 3]])"
      ]
     },
     "execution_count": 159,
     "metadata": {},
     "output_type": "execute_result"
    }
   ],
   "source": [
    "\"\"\"You can do these arithmetic operations on matrices of different sizes, but only if one matrix has only one column or one row. In this case, NumPy will use its broadcast rules for the operation.\"\"\"\n",
    "data=np.array([[1,1],[2,2]])\n",
    "ones=np.array([1,1])\n",
    "data+ones"
   ]
  },
  {
   "cell_type": "code",
   "execution_count": 162,
   "metadata": {},
   "outputs": [
    {
     "data": {
      "text/plain": [
       "array([[[1., 1.],\n",
       "        [1., 1.],\n",
       "        [1., 1.]],\n",
       "\n",
       "       [[1., 1.],\n",
       "        [1., 1.],\n",
       "        [1., 1.]],\n",
       "\n",
       "       [[1., 1.],\n",
       "        [1., 1.],\n",
       "        [1., 1.]],\n",
       "\n",
       "       [[1., 1.],\n",
       "        [1., 1.],\n",
       "        [1., 1.]]])"
      ]
     },
     "execution_count": 162,
     "metadata": {},
     "output_type": "execute_result"
    }
   ],
   "source": [
    "\"\"\"Be aware that when NumPy prints N-dimensional arrays, the last axis is looped over the fastest while the first \n",
    "axis is the slowest.\"\"\"\n",
    "np.ones((4,3,2))"
   ]
  },
  {
   "cell_type": "code",
   "execution_count": 171,
   "metadata": {},
   "outputs": [
    {
     "data": {
      "text/plain": [
       "array([0.26161213, 0.29849114, 0.81422574])"
      ]
     },
     "execution_count": 171,
     "metadata": {},
     "output_type": "execute_result"
    }
   ],
   "source": [
    "\"\"\"There are often instances where we want NumPy to initialize the values of an array. \n",
    "NumPy offers functions like ones() and zeros(), and the random.Generator class for random \n",
    "number generation for that. All you need to do is pass in the number of elements you want it to generate.\"\"\"\n",
    "np.ones(3)\n",
    "\n",
    "np.zeros(3)\n",
    "\n",
    "\n",
    "rng=np.random.default_rng(2)\n",
    "\n",
    "rng.random(3)"
   ]
  },
  {
   "cell_type": "code",
   "execution_count": 173,
   "metadata": {},
   "outputs": [
    {
     "data": {
      "text/plain": [
       "array([[0.18790107, 0.05514663],\n",
       "       [0.27496937, 0.65743301],\n",
       "       [0.56226566, 0.15006226]])"
      ]
     },
     "execution_count": 173,
     "metadata": {},
     "output_type": "execute_result"
    }
   ],
   "source": [
    "\"\"\"You can also use ones(), zeros(), and random() to create a 2D array if you give them a tuple describing the dimensions of the matrix:\"\"\"\n",
    "np.ones((3,2))\n",
    "\n",
    "np.zeros((3,2))\n",
    "\n",
    "rng.random((3,2))"
   ]
  },
  {
   "cell_type": "markdown",
   "metadata": {},
   "source": [
    "# Generating Random Numbers\n",
    "\n",
    "The use of random number generation is an important part of the configuration and evaluation of many numerical and machine learning algorithms. Whether you need to randomly initialize weights in an artificial neural network, split data into random sets, or randomly shuffle your dataset, being able to generate random numbers (actually, repeatable pseudo-random numbers) is essential.\n",
    "\n",
    "With Generator.integers, you can generate random integers from low (remember that this is inclusive with NumPy) to high (exclusive). You can set endpoint=True to make the high number inclusive.\n",
    "\n",
    "You can generate a 2 x 4 array of random integers between 0 and 4 with"
   ]
  },
  {
   "cell_type": "code",
   "execution_count": 175,
   "metadata": {},
   "outputs": [
    {
     "data": {
      "text/plain": [
       "array([[3, 2, 3, 3],\n",
       "       [4, 2, 1, 3]], dtype=int64)"
      ]
     },
     "execution_count": 175,
     "metadata": {},
     "output_type": "execute_result"
    }
   ],
   "source": [
    "rng.integers(5,size=(2,4))"
   ]
  },
  {
   "cell_type": "markdown",
   "metadata": {},
   "source": [
    "# How to get unique items and counts\n",
    "\n",
    "This section covers np.unique()\n",
    "\n",
    "You can find the unique elements in an array easily with np.unique."
   ]
  },
  {
   "cell_type": "code",
   "execution_count": 2,
   "metadata": {},
   "outputs": [
    {
     "data": {
      "text/plain": [
       "array([11, 12, 13, 14, 15, 15, 16, 17, 18, 19, 20])"
      ]
     },
     "execution_count": 2,
     "metadata": {},
     "output_type": "execute_result"
    }
   ],
   "source": [
    "import numpy as np\n",
    "a=np.array([11,12,13,14,15,15,16,17,18,19,20])\n"
   ]
  },
  {
   "cell_type": "code",
   "execution_count": 3,
   "metadata": {},
   "outputs": [
    {
     "data": {
      "text/plain": [
       "array([11, 12, 13, 14, 15, 16, 17, 18, 19, 20])"
      ]
     },
     "execution_count": 3,
     "metadata": {},
     "output_type": "execute_result"
    }
   ],
   "source": [
    "\"\"\"you can use np.unique to print the unique values in your array\"\"\"\n",
    "unique_values=np.unique(a)\n",
    "unique_values"
   ]
  },
  {
   "cell_type": "code",
   "execution_count": 5,
   "metadata": {},
   "outputs": [
    {
     "name": "stdout",
     "output_type": "stream",
     "text": [
      "An array of first index positions of unique values in the array: [ 0  1  2  3  4  6  7  8  9 10]\n"
     ]
    }
   ],
   "source": [
    "\"\"\"To get the indices of unique values in a NumPy array (an array of first index positions of unique values in the array), just pass the return_index argument in np.unique() as well as your array.\"\"\"\n",
    "unique_values,indices_list=np.unique(a ,return_index=True)\n",
    "print(\"An array of first index positions of unique values in the array:\",indices_list)"
   ]
  },
  {
   "cell_type": "code",
   "execution_count": 7,
   "metadata": {},
   "outputs": [
    {
     "data": {
      "text/plain": [
       "array([1, 1, 1, 1, 2, 1, 1, 1, 1, 1], dtype=int64)"
      ]
     },
     "execution_count": 7,
     "metadata": {},
     "output_type": "execute_result"
    }
   ],
   "source": [
    "\"\"\"You can pass the return_counts argument in np.unique() along with your array to get the frequency count of unique values in a NumPy array.\"\"\"\n",
    "unique_values,occurence_count=np.unique(a, return_counts=True)\n",
    "occurence_count"
   ]
  },
  {
   "cell_type": "code",
   "execution_count": 9,
   "metadata": {},
   "outputs": [
    {
     "data": {
      "text/plain": [
       "array([[ 1,  2,  3,  4],\n",
       "       [ 5,  6,  7,  8],\n",
       "       [ 9, 10, 11, 12],\n",
       "       [ 1,  2,  3,  4]])"
      ]
     },
     "execution_count": 9,
     "metadata": {},
     "output_type": "execute_result"
    }
   ],
   "source": [
    "\"\"\"This also works with 2D arrays\"\"\"\n",
    "a=np.array([[1,2,3,4],[5,6,7,8],[9,10,11,12],[1,2,3,4]])\n",
    "a"
   ]
  },
  {
   "cell_type": "code",
   "execution_count": 26,
   "metadata": {},
   "outputs": [
    {
     "name": "stdout",
     "output_type": "stream",
     "text": [
      "[ 1  2  3  4  5  6  7  8  9 10 11 12]\n"
     ]
    }
   ],
   "source": [
    "unique_values=np.unique(a)\n",
    "print(unique_values)"
   ]
  },
  {
   "cell_type": "code",
   "execution_count": 29,
   "metadata": {},
   "outputs": [
    {
     "name": "stdout",
     "output_type": "stream",
     "text": [
      "[[ 1  2  3  4]\n",
      " [ 5  6  7  8]\n",
      " [ 9 10 11 12]]\n",
      "\n",
      "[[ 1  2  3  4]\n",
      " [ 5  6  7  8]\n",
      " [ 9 10 11 12]\n",
      " [ 1  2  3  4]]\n"
     ]
    }
   ],
   "source": [
    "\"\"\"If the axis argument isn’t passed, your 2D array will be flattened.\n",
    "\n",
    "If you want to get the unique rows or columns, make sure to pass the axis argument. To find the unique rows, specify axis=0 and for columns, specify axis=1. \"\"\"\n",
    "\n",
    "unique_values=np.unique(a,axis=0)\n",
    "print(unique_values)\n"
   ]
  },
  {
   "cell_type": "code",
   "execution_count": 36,
   "metadata": {},
   "outputs": [
    {
     "name": "stdout",
     "output_type": "stream",
     "text": [
      "[[ 1  2  3  4]\n",
      " [ 5  6  7  8]\n",
      " [ 9 10 11 12]]\n",
      "\n",
      "[0 1 2]\n",
      "\n",
      "[2 1 1]\n"
     ]
    }
   ],
   "source": [
    "\"\"\"Summing all the unique values code\"\"\"\n",
    "\n",
    "unique_rows,indices_list,occurence_count=np.unique(a, axis=0, return_index=True,return_counts=True)\n",
    "print(unique_rows)\n",
    "print()\n",
    "print(indices_list)\n",
    "print()\n",
    "print(occurence_count)"
   ]
  },
  {
   "cell_type": "markdown",
   "metadata": {},
   "source": [
    "# Transposing and reshaping a matrix\n",
    "\n",
    "This section covers arr.reshape(), arr.transpose(), arr.T()\n",
    "\n",
    "It’s common to need to transpose your matrices. NumPy arrays have the property T that allows you to transpose a matrix.\n",
    "\n",
    "You may also need to switch the dimensions of a matrix. This can happen when, for example, you have a model that expects a certain input shape that is different from your dataset. This is where the reshape method can be useful. You simply need to pass in the new dimensions that you want for the matrix."
   ]
  },
  {
   "cell_type": "code",
   "execution_count": 46,
   "metadata": {},
   "outputs": [
    {
     "name": "stdout",
     "output_type": "stream",
     "text": [
      "[1 2 3 4 5 6]\n",
      "[[1 2 3]\n",
      " [4 5 6]]\n",
      "[[1 2]\n",
      " [3 4]\n",
      " [5 6]]\n"
     ]
    }
   ],
   "source": [
    "data=np.arange(1,7)\n",
    "print(data)\n",
    "\n",
    "a=data.reshape(2,3)\n",
    "print(a)\n",
    "\n",
    "b=data.reshape(3,2)\n",
    "print(b)"
   ]
  },
  {
   "cell_type": "code",
   "execution_count": 50,
   "metadata": {},
   "outputs": [
    {
     "name": "stdout",
     "output_type": "stream",
     "text": [
      "\n",
      "[[0 1]\n",
      " [2 3]\n",
      " [4 5]]\n",
      "\n",
      "[[0 2 4]\n",
      " [1 3 5]]\n"
     ]
    }
   ],
   "source": [
    "\"\"\"You can also use .transpose to reverse or change the axes of an array according to the values you specify.\"\"\"\n",
    "\n",
    "arr=np.arange(6).reshape((3,2))\n",
    "print()\n",
    "print(arr)\n",
    "print()\n",
    "arr1=arr.transpose()\n",
    "print(arr1)"
   ]
  },
  {
   "cell_type": "markdown",
   "metadata": {},
   "source": [
    "# How to reverse an array\n",
    "\n",
    "This section covers np.flip\n",
    "\n",
    "NumPy’s np.flip() function allows you to flip, or reverse, the contents of an array along an axis. When using np.flip, specify the array you would like to reverse and the axis. If you don’t specify the axis, NumPy will reverse the contents along all of the axes of your input array."
   ]
  },
  {
   "cell_type": "code",
   "execution_count": 53,
   "metadata": {},
   "outputs": [
    {
     "name": "stdout",
     "output_type": "stream",
     "text": [
      "The Original Array is [0 1 2 3 4 5]\n",
      "\n",
      "After Reversing the Array\n",
      "\n",
      "[5 4 3 2 1 0]\n"
     ]
    }
   ],
   "source": [
    "print(\"Reversing a 1-D array\")\n",
    "\n",
    "a=np.arange(6)\n",
    "print(\"The Original Array is\",a)\n",
    "print()\n",
    "print(\"After Reversing the Array\")\n",
    "b=np.flip(a)\n",
    "print()\n",
    "print(b)"
   ]
  },
  {
   "cell_type": "code",
   "execution_count": 69,
   "metadata": {},
   "outputs": [
    {
     "name": "stdout",
     "output_type": "stream",
     "text": [
      "Reversing A 2-D Array\n",
      "\n",
      "[[ 1  2  3  4]\n",
      " [ 5  6  7  8]\n",
      " [ 9 10 11 12]]\n",
      "\n",
      "[[12 11 10  9]\n",
      " [ 8  7  6  5]\n",
      " [ 4  3  2  1]]\n",
      "You can easily reverse only the rows with\n",
      "\n",
      "[[ 9 10 11 12]\n",
      " [ 5  6  7  8]\n",
      " [ 1  2  3  4]]\n",
      "You can easily reverse only the columns with\n",
      "\n",
      "[[ 4  3  2  1]\n",
      " [ 8  7  6  5]\n",
      " [12 11 10  9]]\n",
      "\n",
      "[[12 11 10  9]\n",
      " [ 8  7  6  5]\n",
      " [ 4  3  2  1]]\n",
      "\n",
      "[[12  3 10  9]\n",
      " [ 8  7  6  5]\n",
      " [ 4 11  2  1]]\n"
     ]
    }
   ],
   "source": [
    "print(\"Reversing A 2-D Array\")\n",
    "print()\n",
    "a=np.array([[1,2,3,4],[5,6,7,8],[9,10,11,12]])\n",
    "print(a)\n",
    "\n",
    "flip_array=np.flip(a)\n",
    "print()\n",
    "print(flip_array)\n",
    "\n",
    "\n",
    "print(\"You can easily reverse only the rows with\")\n",
    "\n",
    "flip_rows=np.flip(a,axis=0)\n",
    "print()\n",
    "print(flip_rows)\n",
    "\n",
    "print(\"You can easily reverse only the columns with\")\n",
    "\n",
    "\n",
    "flip_columns=np.flip(a,axis=1)\n",
    "print()\n",
    "print(flip_columns)\n",
    "\n",
    "\n",
    "\"\"\"You can also reverse the contents of only one column or row. For example, you can reverse the contents of the row at index position 1 (the second row):\"\"\"\n",
    "\n",
    "a[:]=np.flip(a[:])\n",
    "print()\n",
    "print(a)\n",
    "\n",
    "\n",
    "\"\"\"You can also reverse the column at index position 1 (the second column):\"\"\"\n",
    "\n",
    "a[:,1] = np.flip(a[:,1])\n",
    "print()\n",
    "print(a)"
   ]
  },
  {
   "cell_type": "markdown",
   "metadata": {},
   "source": [
    "# Reshaping and flattening multidimensional arrays:-\n",
    "\n",
    "This section covers .flatten(), ravel()\n",
    "\n",
    "There are two popular ways to flatten an array: .flatten() and .ravel(). The primary difference between the two is that the new array created using ravel() is actually a reference to the parent array (i.e., a “view”). This means that any changes to the new array will affect the parent array as well. Since ravel does not create a copy, it’s memory efficient.\n",
    "\n"
   ]
  },
  {
   "cell_type": "code",
   "execution_count": 82,
   "metadata": {},
   "outputs": [
    {
     "name": "stdout",
     "output_type": "stream",
     "text": [
      "[[ 1  2  3  4]\n",
      " [ 5  6  7  8]\n",
      " [ 9 10 11 12]]\n",
      "\n",
      "You can use flatten to flatten your array into a 1D array\n",
      "\n",
      "[ 1  2  3  4  5  6  7  8  9 10 11 12]\n",
      "\n",
      "When you use flatten, changes to your new array won’t change the parent array.\n",
      "\n",
      "[[ 1  2  3  4]\n",
      " [ 5  6  7  8]\n",
      " [ 9 10 11 12]]\n",
      "\n",
      "[99  2  3  4  5  6  7  8  9 10 11 12]\n",
      "\n",
      "But when you use ravel, the changes you make to the new array will affect the parent array\n",
      "\n",
      "[[97  2  3  4]\n",
      " [ 5  6  7  8]\n",
      " [ 9 10 11 12]]\n"
     ]
    }
   ],
   "source": [
    " x = np.array([[1 , 2, 3, 4], [5, 6, 7, 8], [9, 10, 11, 12]])\n",
    "print(x)\n",
    "print()\n",
    "print(\"You can use flatten to flatten your array into a 1D array\")\n",
    "    \n",
    "faltten=x.flatten()\n",
    "print()\n",
    "print(faltten)\n",
    "\n",
    "print()\n",
    "print(\"When you use flatten, changes to your new array won’t change the parent array.\")\n",
    "\n",
    "a1=x.flatten()\n",
    "a1[0]=99\n",
    "print()\n",
    "print(x)\n",
    "print()\n",
    "print(a1)\n",
    "print()\n",
    "print(\"But when you use ravel, the changes you make to the new array will affect the parent array\")\n",
    "\n",
    "a2=x.ravel()\n",
    "a2[0]=97\n",
    "print()\n",
    "print(x)"
   ]
  }
 ],
 "metadata": {
  "kernelspec": {
   "display_name": "Python 3",
   "language": "python",
   "name": "python3"
  },
  "language_info": {
   "codemirror_mode": {
    "name": "ipython",
    "version": 3
   },
   "file_extension": ".py",
   "mimetype": "text/x-python",
   "name": "python",
   "nbconvert_exporter": "python",
   "pygments_lexer": "ipython3",
   "version": "3.8.0"
  }
 },
 "nbformat": 4,
 "nbformat_minor": 4
}
