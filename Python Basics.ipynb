{
 "cells": [
  {
   "cell_type": "markdown",
   "metadata": {},
   "source": [
    "# Starting With Python Modules"
   ]
  },
  {
   "cell_type": "code",
   "execution_count": 4,
   "metadata": {},
   "outputs": [
    {
     "name": "stdout",
     "output_type": "stream",
     "text": [
      "Hello world\n",
      "This is the First Program that I Learned so Far and Booby's World is Also unique\n"
     ]
    }
   ],
   "source": [
    "# Print the message as hello world and stored in message variable\n",
    "message='Hello world'\n",
    "print(message)\n",
    "message1='This is the First Program that I Learned so Far and Booby\\'s World is Also unique'\n",
    "print(message1)"
   ]
  },
  {
   "cell_type": "code",
   "execution_count": 1,
   "metadata": {},
   "outputs": [
    {
     "name": "stdout",
     "output_type": "stream",
     "text": [
      "This is Asif's Tandel\n",
      "21\n",
      "this is asif's tandel\n",
      "Tandel\n",
      " Asif\n",
      "1\n",
      "Booby's World\n"
     ]
    }
   ],
   "source": [
    "#print some text that is not commmon or has some parathesis\n",
    "message=\"\"\"This is Asif's Tandel\"\"\"\n",
    "print(message)\n",
    "#printing the length of the string\n",
    "print(len(message))\n",
    "print(message.lower())\n",
    "print(message[15:21])\n",
    "print(message.count('A'))\n",
    "new_message='Booby\\'s World'\n",
    "print(new_message)"
   ]
  },
  {
   "cell_type": "markdown",
   "metadata": {},
   "source": [
    "# WORKING WITH STRING"
   ]
  },
  {
   "cell_type": "code",
   "execution_count": 12,
   "metadata": {},
   "outputs": [
    {
     "name": "stdout",
     "output_type": "stream",
     "text": [
      "HelloAsif\n",
      "Hello Asif\n",
      "Hello, Asif.Welcome!\n",
      "Hello,Asif.Welcome!\n",
      "Hello, Asif.Welcome!\n",
      "Hello,Yogesh.Welcome!\n",
      "Sabbir ahmed\n"
     ]
    }
   ],
   "source": [
    "#Working with textual data\n",
    "greeting='Hello'\n",
    "name='Asif'\n",
    "message_no=greeting+name\n",
    "print(message_no)\n",
    "message_withspace=greeting + ' ' + name\n",
    "print(message_withspace)\n",
    "message_withnoplussign='{}, {}.Welcome!'.format(greeting,name)\n",
    "print(message_withnoplussign)\n",
    "#Formatted Strings\n",
    "message_withwelcome=f'{greeting},{name}.Welcome!'\n",
    "print(message_withwelcome)\n",
    "print(message_withnoplussign)\n",
    "message_withwelcome=message_withwelcome.replace('Asif','Yogesh')\n",
    "print(message_withwelcome)\n",
    "new_word='sabbir ahmed'\n",
    "print(new_word.capitalize())"
   ]
  },
  {
   "cell_type": "markdown",
   "metadata": {},
   "source": [
    "# Working With Operators"
   ]
  },
  {
   "cell_type": "code",
   "execution_count": 5,
   "metadata": {
    "scrolled": true
   },
   "outputs": [
    {
     "name": "stdout",
     "output_type": "stream",
     "text": [
      "<class 'float'>\n",
      "5\n",
      "1\n",
      "6\n",
      "1.5\n",
      "1\n",
      "0\n",
      "Enter the value : 1 \n",
      "1 \n",
      "Enter the first value : 2\n",
      "Enter the second value : 2\n",
      "True\n",
      "Enter the two value : 2 4\n",
      "8\n",
      "Enter the two value : 1 1\n",
      " The first value is 1 and the second value is 1\n",
      "\n",
      "The resultant is :  0\n",
      "Enter the three value: 1 5 6\n",
      "The resultant is: 31\n"
     ]
    }
   ],
   "source": [
    "# Working With Operators\n",
    "num=3.14\n",
    "print(type(num))\n",
    "#Arithmetic Operators 1) Addition num1+num2 2)Substraction num1-num2 3)Multiplication num1*num2 4)Division num1/num2 5)Division\n",
    "#num1/num2 6)Floor Division- num1 // num 2 7)Modulus - num1 % num2\n",
    "#Floor Division Help us to floor the value back to the whole number i.e 1.5 will be converted into 1\n",
    "#Addition Operators\n",
    "print(3+2)\n",
    "print(3-2)\n",
    "print(3*2)\n",
    "print(3/2)\n",
    "print(3//2)\n",
    "print(2%2)\n",
    "#This shows how to take input from the user \n",
    "#How the input function works in Python :\n",
    "#When input() function executes program flow will be stopped until the user has given an input.\n",
    "#The text or message display on the output screen to ask a user to enter input value is optional i.e. the prompt, will be printed on the screen is optional.\n",
    "#Whatever you enter as input, input function convert it into a string. if you enter an integer value still input() function convert it into a string. \n",
    "#You need to explicitly convert it into an integer in your code using typecasting.\n",
    "val_user=input(\"Enter the value : \")\n",
    "print(val_user)\n",
    "val_addition1=input(\"Enter the first value : \")\n",
    "val_addition2=input(\"Enter the second value : \")\n",
    "print(int(val_addition1)==int(val_addition2)) # By default the Python datatype is String.So we have explicitly converted the\n",
    "#String datatype to integer datatype(called typecasting)\n",
    "#Using split() method :\n",
    "#This function helps in getting a multiple inputs from user .\n",
    "#It breaks the given input by the specified separator. \n",
    "#If separator is not provided then any white space is a separator. \n",
    "#a split() method to split a Python string but one can used it in taking multiple input.\n",
    "val_multiplication1,val_multipllication2=input(\"Enter the two value : \").split()\n",
    "print(int(val_multiplication1)*int(val_multipllication2))\n",
    "# taking two input at a time\n",
    "val_sub1,val_sub2=input(\"Enter the two value : \").split()\n",
    "print(\" The first value is {} and the second value is {}\".format(val_sub1,val_sub2))\n",
    "print()\n",
    "print(\"The resultant is : \",int(val_sub1)-int(val_sub2))# Very Important Thing in This Concept\n",
    "val_add1,val_add2,val_mult1=input(\"Enter the three value: \").split()\n",
    "print(\"The resultant is:\",int(val_add1)+int(val_add2)*int(val_mult1))"
   ]
  },
  {
   "cell_type": "markdown",
   "metadata": {},
   "source": [
    "# WORKING WITH COMPARISON OPERATORS"
   ]
  },
  {
   "cell_type": "code",
   "execution_count": 27,
   "metadata": {},
   "outputs": [
    {
     "name": "stdout",
     "output_type": "stream",
     "text": [
      "False\n",
      "True\n",
      "False\n",
      "True\n",
      "False\n",
      "True\n",
      "300\n",
      "100\n"
     ]
    }
   ],
   "source": [
    "#Comparison Operators:- 1)Equal num1==num2 2)Not Equal num1!=num2 3)Greater than num1>num2 4)Less than num<num2 5)Greater or equak\n",
    "# num>=num2 6)Less than or equal to num1<=num2\n",
    "num1=3.14\n",
    "num2=4.12\n",
    "print(num1==num2)\n",
    "print(num1!=num2)\n",
    "print(num1>num2)\n",
    "print(num1<num2)\n",
    "print(num1>=num2)\n",
    "print(num1<=num2)\n",
    "# How to Convert String to Number\n",
    "num_String_conv1='100'\n",
    "num_String2_conv2='200'\n",
    "num_String=int(num_String_conv1)\n",
    "num_String2=int(num_String2_conv2)\n",
    "print(num_String + num_String2)\n",
    "# How to Convert Number to String\n",
    "number1=100\n",
    "print(str(number1))"
   ]
  },
  {
   "cell_type": "markdown",
   "metadata": {},
   "source": [
    "# Doing More with the String"
   ]
  },
  {
   "cell_type": "code",
   "execution_count": 67,
   "metadata": {},
   "outputs": [
    {
     "name": "stdout",
     "output_type": "stream",
     "text": [
      "Initial String Geeks\n",
      "For\n",
      "Geeks\n",
      "\n",
      "Resultant prefix ['Geeks', 'For', 'Geeks']\n",
      "Initial String Geeks\n",
      "For\n",
      "Geeks\n",
      "\n",
      "Resultant prefix ['Geeks', 'For', 'Geeks']\n",
      "Initial String \n",
      "This\n",
      "is\n",
      "Asif\n",
      "Tandel\n",
      "\n",
      "Resultant: ['', 'This', 'is', 'Asif', 'Tandel']\n",
      "The number is at position 18\n"
     ]
    }
   ],
   "source": [
    "\"\"\" Doing More with the String\n",
    "  Python code to demonstrate  \n",
    " to split strings  \n",
    " on newline delimiter \n",
    " \"\"\"\n",
    "# Method1 : Using SplitLines Method\n",
    "# Initialising string \n",
    "ini_str = 'Geeks\\nFor\\nGeeks\\n'\n",
    "\n",
    "# Printing Initial string \n",
    "print (\"Initial String\", ini_str) \n",
    "  \n",
    "# Splitting on newline delimiter \n",
    "res_list = ini_str.splitlines() \n",
    "  \n",
    "# Printing result \n",
    "print(\"Resultant prefix\", str(res_list))\n",
    "#Method2:Using The Split()\n",
    "# Python code to demonstrate \n",
    "# to split strings \n",
    "# on newline delimiter \n",
    "\n",
    "# Initialising string \n",
    "ini_str = 'Geeks\\nFor\\nGeeks\\n'\n",
    "\n",
    "# Printing Initial string \n",
    "print (\"Initial String\", ini_str) \n",
    "#  What is rstrip(It is used to remove trailing characters)\n",
    "# Splitting on newline delimiter \n",
    "res_list = (ini_str.rstrip().split('\\n')) \n",
    "\n",
    "# Printing result \n",
    "print(\"Resultant prefix\", str(res_list)) \n",
    "\n",
    "init_str1='\\nThis\\nis\\nAsif\\nTandel\\n'\n",
    "print(\"Initial String\",init_str1)\n",
    "res_pref=(init_str1.rstrip().split(\"\\n\"))\n",
    "print(\"Resultant:\",str(res_pref))\n",
    "#Find the variable position \n",
    "print(\"The number is at position\",init_str1.rfind('e'))"
   ]
  },
  {
   "cell_type": "code",
   "execution_count": 50,
   "metadata": {},
   "outputs": [
    {
     "name": "stdout",
     "output_type": "stream",
     "text": [
      "The original string : gfg, is, good, better, and best\n",
      "The splitted list at the last comma : ['gfg, is, good, better', 'and best']\n",
      "The splitted list at the last comma: ['gfg, is', 'good', 'better', 'and best']\n"
     ]
    }
   ],
   "source": [
    "\"\"\"\n",
    "Method 1 : Using rsplit(str, 1)\n",
    "The normal string split can perform the split from the front, but Python also offers another method which can perform this very task from the rear end,\n",
    "and hence increasing the versatility of applications.\n",
    "\"\"\"\n",
    "# Python3 code to demonstrate \n",
    "# Split on last occurrence of delimiter \n",
    "# using rsplit() \n",
    "\n",
    "# initializing string \n",
    "test_string = \"gfg, is, good, better, and best\"\n",
    "\n",
    "# printing original string \n",
    "print(\"The original string : \" + str(test_string)) \n",
    "\n",
    "# using rsplit() \n",
    "# Split on last occurrence of delimiter \n",
    "res = test_string.rsplit(', ', 1) #Very Important Concept\n",
    "res1=test_string.rsplit(', ',3)\n",
    "\n",
    "# print result \n",
    "print(\"The splitted list at the last comma : \" + str(res)) \n",
    "print(\"The splitted list at the last comma: \" +str(res1))"
   ]
  },
  {
   "cell_type": "markdown",
   "metadata": {},
   "source": [
    "# Python end parameter"
   ]
  },
  {
   "cell_type": "code",
   "execution_count": 64,
   "metadata": {},
   "outputs": [
    {
     "name": "stdout",
     "output_type": "stream",
     "text": [
      "Asif@Tandel\n"
     ]
    }
   ],
   "source": [
    "\"\"\"Python end parameter in print()\n",
    "By default python’s print() function ends with a newline. A programmer with C/C++ background may wonder how to print without newline.\n",
    "Python’s print() function comes with a parameter called ‘end’. By default, the value of this parameter is ‘\\n’, i.e. the new line character. You can end a print statement with any character/string using this parameter.\n",
    " Here we are print two display statement in one line with the help of end\n",
    "\"\"\"\n",
    "print('Asif',end= \"@\")\n",
    "print('Tandel')\n"
   ]
  },
  {
   "cell_type": "markdown",
   "metadata": {},
   "source": [
    "# PYTHON DATA STRUCTURES\n",
    "\n",
    "1.LIST\n",
    "\n",
    "2.TUPLES\n",
    "\n",
    "3.SETS\n",
    "\n",
    "4.DICTIONARY\n",
    "\n",
    "5.SETS"
   ]
  },
  {
   "cell_type": "markdown",
   "metadata": {},
   "source": [
    "# WORKING WITH LIST"
   ]
  },
  {
   "cell_type": "code",
   "execution_count": 1,
   "metadata": {},
   "outputs": [
    {
     "name": "stdout",
     "output_type": "stream",
     "text": [
      "['History', 'Maths', 'Physics', 'London']\n",
      "['History', 'Maths', 'Physics', 'London', 'Art']\n",
      "['History', 'Mathematics', 'Physics', 'London', 'Art']\n",
      "[1, 5, 4, 2, 3]\n",
      "Art\n",
      "['History', 'Mathematics', 'Physics', 'London']\n",
      "['History', 'London', 'Mathematics', 'Physics']\n",
      "[1, 2, 3, 4, 5]\n",
      "['History', 'London', 'Mathematics', 'Physics', 1, 5, 4, 2, 3]\n",
      "Physics\n",
      "['History', 'Maths', 'Physics', 'London']\n",
      "['Maths', 'London']\n",
      "['Physics', 'Maths', 'London', 'History']\n",
      "History-Maths-Physics-London\n",
      "['History', 'Maths', 'Physics', 'London']\n",
      "History\n",
      "Maths\n",
      "Physics\n",
      "London\n",
      "0 History\n",
      "1 Maths\n",
      "2 Physics\n",
      "3 London\n"
     ]
    }
   ],
   "source": [
    "# How List,Tuples,Dictionary are used in Real Life scenario\n",
    "'''Lists are what they seem - a list of values. Each one of them is numbered, starting from zero - the first one is numbered zero, the second 1, the third 2, etc.\n",
    "You can remove values from the list, and add new values to the end. Example: Your many cats' names.\n",
    "Tuples are just like lists, but you can't change their values. The values that you give it first up, are the values that you are stuck with for the rest of the program. Again, each value is numbered starting from zero, for easy reference. \n",
    "Example: the names of the months of the year.\n",
    "Dictionaries are similar to what their name suggests - a dictionary. In a dictionary, you have an 'index' of words, and for each of them a definition. \n",
    "In python, the word is called a 'key', and the definition a 'value'. The values in a dictionary aren't numbered - tare similar to what their name suggests - a dictionary. \n",
    "In a dictionary, you have an 'index' of words, and for each of them a definition. In python, the word is called a 'key', and the definition a 'value'. The values in a dictionary aren't numbered - they aren't in any specific order, either - the key does the same thing. You can add, remove, and modify the values in dictionaries.\n",
    "Example: telephone book.'''\n",
    "#Working With List\n",
    "#List are mutable elements(creating a list and modifying as many times we want)\n",
    "# Sequential Data is any kind of data where the order matters as you said.(List)\n",
    "#You can use a List to store the steps necessary to cook a chicken, because Lists support sequential access and you can access the steps in order.\n",
    "#Creating A List\n",
    "Courses=['History','Maths','Physics','London']\n",
    "#Displaying A List\n",
    "print(Courses)\n",
    "# Adding an item in List\n",
    "Courses.append('Art')\n",
    "print(Courses)\n",
    "#Updating A List\n",
    "Courses[1]='Mathematics'\n",
    "print(Courses)\n",
    "Course_num=[1,5,4,2,3]\n",
    "print(Course_num)\n",
    "#Deleting a Item from the List\n",
    "Pop_Course=Courses.pop()\n",
    "print(Pop_Course)\n",
    "print(Courses)\n",
    "Courses.sort()\n",
    "print(Courses)\n",
    "Sorted_num=sorted(Course_num)\n",
    "print(Sorted_num)\n",
    "# Adding Course_num into Course(2 List Together)\n",
    "Courses.extend(Course_num)\n",
    "print(Courses)\n",
    "print(Courses[3])\n",
    "\n",
    "\n",
    "#Converting List Into String\n",
    "Courses=['History','Maths','Physics','London']\n",
    "print(Courses)\n",
    "Sorted_Courses=sorted(Courses,reverse=True)\n",
    "print(Sorted_Courses[1:3]) #Slicing through the list\n",
    "print(Sorted_Courses)\n",
    "Courses_str='-'.join(Courses)\n",
    "print(Courses_str)\n",
    "# Got Back to List Again\n",
    "Courses_list=Courses_str.split('-')\n",
    "print(Courses_list)\n",
    "# Looping through the variable item \n",
    "for item in Courses:\n",
    "    print(item)\n",
    "# Specifying index and string using enumerate \n",
    "for index,courses in enumerate(Courses):\n",
    "    print(index,courses)"
   ]
  },
  {
   "cell_type": "markdown",
   "metadata": {},
   "source": [
    "# CREATING A MULTI-DIMENSIONAL LIST"
   ]
  },
  {
   "cell_type": "code",
   "execution_count": 7,
   "metadata": {},
   "outputs": [
    {
     "name": "stdout",
     "output_type": "stream",
     "text": [
      "['Yogesh Patole', 'Asif Tandel']\n",
      "['IOT', 'Machine Learning']\n",
      "['Yogesh Patole', 'Asif Tandel', 'Sanjay Sarkar']\n",
      "['Data Science', 'IOT', 'Machine Learning']\n",
      "['Yogesh Patole', 'Asif Tandel', 'Sanjay Sarkar']\n"
     ]
    }
   ],
   "source": [
    "#Creating a Multi-Dimensional List \n",
    "Name_Course=[['Yogesh Patole','Asif Tandel','Sanjay Sarkar'],['Data Science','IOT','Machine Learning']]\n",
    "print(Name_Course[0][0:2])# This is List Slicing\n",
    "print(Name_Course[-1][1:])\n",
    "# Iterating through the List\n",
    "for item in Name_Course:\n",
    "    print(item)\n",
    "Name_Course.pop(1)\n",
    "Popped_Courses=Name_Course.pop()\n",
    "print(Popped_Courses)"
   ]
  },
  {
   "cell_type": "code",
   "execution_count": 22,
   "metadata": {},
   "outputs": [
    {
     "name": "stdout",
     "output_type": "stream",
     "text": [
      "[1, 2, 3, 4]\n",
      "[1, 3, 5, 7, 9]\n",
      "[9, 8, 7, 6, 5, 4, 3, 2, 1, 0]\n",
      "[9, 7, 5, 3]\n",
      "17\n",
      "g\n",
      "o\n",
      "o\n",
      "g\n",
      "l\n",
      "e\n",
      "moc.elgoog//:ptth\n",
      "google\n",
      "http\n",
      "com\n"
     ]
    }
   ],
   "source": [
    "# Slicing Of The List\n",
    "List=[0,1,2,3,4,5,6,7,8,9]\n",
    "#     0 1 2 3 4 5 6 7 8 9\n",
    "#    -10-9-8-7-6-5-4-3-2-1               \n",
    "# Slicing A list(What is SLicing:Extract the item from the list with the help of the indexing & positioning)\n",
    "print(List[1:5])\n",
    "# List[start:stop:step] step is used as leap function to skip by 2 value\n",
    "print(List[1::2])\n",
    "# Reversing the List\n",
    "print(List[::-1])\n",
    "print(List[:-8:-2])\n",
    "List_domain='http://google.com'\n",
    "print(len(List_domain))\n",
    "for item in List_domain[7:13]:\n",
    "    print(item)\n",
    "# Reverse the String\n",
    "print(List_domain[::-1])\n",
    "#Getting the website name\n",
    "print(List_domain[7:13])\n",
    "# Getting the http \n",
    "print(List_domain[:4])\n",
    "print(List_domain[14:])"
   ]
  },
  {
   "cell_type": "code",
   "execution_count": 2,
   "metadata": {},
   "outputs": [
    {
     "name": "stdout",
     "output_type": "stream",
     "text": [
      "The Sorted List after using Sort Methods: ['Helsinki', 'London', 'Oslo', 'Peru', 'Stockholm']\n",
      "The Sorted List after using Sorted Function: ['Helsinki', 'London', 'Oslo', 'Peru', 'Stockholm']\n",
      "London\n",
      "Oslo\n",
      "['Stockholm', 'Peru', 'Oslo', 'London', 'Helsinki']\n",
      "[1, 2, -4, -5, -6, 3]\n",
      "-9\n",
      "True\n",
      "False\n"
     ]
    }
   ],
   "source": [
    "# Sorting The List\n",
    "List_City=['London','Stockholm','Oslo','Helsinki','Peru']\n",
    "List_City.sort()\n",
    "print(\"The Sorted List after using Sort Methods:\",List_City)\n",
    "Sort_City=sorted(List_City)\n",
    "print(\"The Sorted List after using Sorted Function:\",Sort_City)\n",
    "for item in List_City[1:3]:\n",
    "    print(item)\n",
    "List_City.sort(reverse=True)\n",
    "print(List_City)\n",
    "#The main difference between sort methods and Sorted Function is that If we are working on multiple data structures then it is advisable \n",
    "#to go for sorted function and if we have one List then sort method is Sufficient \n",
    "List_num=[1,2,-4,-5,-6,3]\n",
    "print(List_num)\n",
    "#Sorted_num=sorted(List_num,key=abs)# The main reason behind doing key parameters is whenever we define a function and after that\n",
    "#what atrribute to be refered is given by key \n",
    "#print(\"The Sorted Num after doing absolute\",Sorted_num)\n",
    "Sum_Int=sum(List_num)\n",
    "print(Sum_Int)\n",
    "# Displaying whether the number is present in the List with the help of 'IN' Keyword\n",
    "print(1 in List_num)\n",
    "print(6 in List_num)"
   ]
  },
  {
   "cell_type": "code",
   "execution_count": 12,
   "metadata": {},
   "outputs": [
    {
     "name": "stdout",
     "output_type": "stream",
     "text": [
      "1\n"
     ]
    }
   ],
   "source": [
    "#  Count Function\n",
    "# Creating A List and then count the item in the List\n",
    "List=['Asif','Yogesh','Sanjay']\n",
    "# Count how much Times this String occurs\n",
    "print(List.count('Asif'))\n",
    "#If more then 1 parameter is passed in count() method, \n",
    "#it returns a TypeError.\n",
    "#print(List.count('Asif','Yogesh'))"
   ]
  },
  {
   "cell_type": "code",
   "execution_count": 27,
   "metadata": {},
   "outputs": [
    {
     "name": "stdout",
     "output_type": "stream",
     "text": [
      "2\n",
      "2\n",
      "[('Cat', 'Sat'), ('Cat', 'Bat'), ('Sat', 'Cat'), ('Cat', 'Bat'), ('Cat', 'Bat', 'Sat'), [1, 2], [1, 2, 3], [1, 2]]\n",
      "The Popped Element is ('Cat', 'Sat')\n",
      "The List are removing its first item: [('Cat', 'Bat'), ('Sat', 'Cat'), ('Cat', 'Bat'), ('Cat', 'Bat', 'Sat'), [1, 2], [1, 2, 3], [1, 2]]\n"
     ]
    }
   ],
   "source": [
    "#If more then 1 parameter is passed in count() method, \n",
    "#it returns a TypeError.\n",
    "#print(List.count('Asif','Yogesh'))\n",
    "#This problem is solved by using passing argument as One item in the List rather than independent item in the List\n",
    "# Python3 program to count the number of times \n",
    "# an object appears in a list using count() method \n",
    "\n",
    "list1 = [ ('Cat', 'Bat'), ('Sat', 'Cat'), ('Cat', 'Bat'), \n",
    "\t\t('Cat', 'Bat', 'Sat'), [1, 2], [1, 2, 3], [1, 2] ] \n",
    "\n",
    "# Counts the number of times 'Cat' appears in list1 \n",
    "print(list1.count(('Cat', 'Bat'))) \n",
    "# Count the number of times sublist \n",
    "# '[1, 2]' appears in list1 \n",
    "print(list1.count([1, 2])) \n",
    "list1.insert(0,('Cat','Sat'))\n",
    "print(list1)\n",
    "Popped_List=list1.pop(0)\n",
    "print(\"The Popped Element is {}\".format(Popped_List))\n",
    "print(\"The List are removing its first item:\",list1)"
   ]
  },
  {
   "cell_type": "markdown",
   "metadata": {},
   "source": [
    "# WORKING WITH TUPLES"
   ]
  },
  {
   "cell_type": "code",
   "execution_count": 35,
   "metadata": {},
   "outputs": [
    {
     "name": "stdout",
     "output_type": "stream",
     "text": [
      "('Asif', 'Yogesh', 'Rishabh')\n",
      "2026860673928\n",
      "2026859727912\n",
      "Initial empty Tuple: \n",
      "()\n",
      "\n",
      "Tuple with the use of String: \n",
      "('Geeks', 'For')\n",
      "0 Geeks\n",
      "1 For\n",
      "1\n",
      "3\n",
      "5\n",
      "7\n",
      "9\n",
      "\n",
      "Tuple using List:  (1, 2, 4, 5, 6)\n",
      "\n",
      "Tuple with the use of function:  ('G', 'e', 'e', 'k', 's')\n",
      "Value before packing:\n",
      "('This', 'is', 'Asif', 'Tandel')\n",
      "Value after unpacking:\n",
      "This\n",
      "is\n",
      "Asif\n",
      "Tandel\n",
      "The Tuples in Ascending Order: (1, 2, 3, 4)\n",
      "The Tuples in Descending Order: [4, 3, 2, 1]\n"
     ]
    }
   ],
   "source": [
    "\n",
    "'''Empty lists vs. empty tuples\n",
    "Empty tuple acts as a singleton, that is, there is always only one tuple with a length of zero. \n",
    "When creating an empty tuple Python points to already preallocated one, in such way that any empty tuple has the same address in the memory. \n",
    "This is possible because tuples are immutable and sometimes saves a lot of memory\n",
    "'''\n",
    "# Working With Tuple\n",
    "'''Tuples are used when\n",
    "working with arguments and parameters\n",
    "returning 2 or more items from a function\n",
    "iterating over dictionary's key-value pairs\n",
    "using string formatting\n",
    "Concept:Free List:Dynamic memory Allocation \n",
    "'''\n",
    "# The main difference between Tuple and List are Immutable and Mutable.Mutable means we can add,remove from the list but Immutable \n",
    "#means once created It can't be changed\n",
    "# The basic aim behind deleting Tuple and again Creating a tuple is to see whether a destroy tuple id is same for new tuple\n",
    "#(Note: The allocation should be done immediately othewise the id will be changed as seen in my case) \n",
    "Tuples_Intro=('Asif','Yogesh','Rishabh')\n",
    "print(Tuples_Intro)\n",
    "a=(1,2,3,4)\n",
    "print(id(a))\n",
    "del a\n",
    "b=(1,2,4)\n",
    "print(id(b))\n",
    "#Creating an empty Tuple \n",
    "Tuple1 = () \n",
    "print(\"Initial empty Tuple: \") \n",
    "print (Tuple1) \n",
    "\n",
    "#Creating a Tuple \n",
    "#with the use of string \n",
    "Tuple1 = ('Geeks', 'For') \n",
    "print(\"\\nTuple with the use of String: \") \n",
    "print(Tuple1) \n",
    "# Iterating through a Tuple \n",
    "for index,Tuple1 in enumerate(Tuple1):\n",
    "    print(index,Tuple1)\n",
    "Tuple_top10num=(1,2,3,4,5,6,7,8,9,10)\n",
    "for i in Tuple_top10num[0:9:2]:\n",
    "    print(i)\n",
    "\n",
    "# Creating a Tuple with \n",
    "# the use of list \n",
    "list1 = [1, 2, 4, 5, 6] \n",
    "print(\"\\nTuple using List: \",tuple(list1)) \n",
    "\n",
    "#Creating a Tuple \n",
    "#with the use of built-in function \n",
    "Tuple1 = tuple('Geeks') \n",
    "print(\"\\nTuple with the use of function: \",Tuple1) \n",
    "\n",
    "# Tuple Packing\n",
    "#Creation of Python tuple without the use of parentheses is known as Tuple Packing.\n",
    "#a,b,c=Tuples1-Basic Struture of Tuple Packing\n",
    "print(\"Value before packing:\")\n",
    "Tuples_packing=('This','is','Asif','Tandel')\n",
    "print(Tuples_packing)\n",
    "a,b,c,d=Tuples_packing\n",
    "print(\"Value after unpacking:\")\n",
    "print(a)\n",
    "print(b)\n",
    "print(c)\n",
    "print(d)\n",
    "# Converting List to Tuples\n",
    "List_convert_Tuples= (1,2,3,4)\n",
    "print(\"The Tuples in Ascending Order:\",List_convert_Tuples)\n",
    "Sorted_Tuples=sorted(List_convert_Tuples,reverse=True)\n",
    "print(\"The Tuples in Descending Order:\",Sorted_Tuples)\n"
   ]
  },
  {
   "cell_type": "markdown",
   "metadata": {},
   "source": [
    "# WORKING WITH SETS"
   ]
  },
  {
   "cell_type": "code",
   "execution_count": 41,
   "metadata": {},
   "outputs": [
    {
     "name": "stdout",
     "output_type": "stream",
     "text": [
      "The Set after Intersection: {'Art', 'History'}\n",
      "The Set After Union: {'Mathematics', 'Maths', 'Art', 'History', 'Science'}\n",
      "The Set After Sorted Union: ['Art', 'History', 'Mathematics', 'Science']\n",
      "The Set After Difference is: {'Maths'}\n",
      "[(1, 'Java'), (2, 'C'), (3, 'C++'), (4, 'Python'), (5, 'Silqa')]\n"
     ]
    }
   ],
   "source": [
    "'''In Python, Set is an unordered collection of data type that is iterable, mutable and has no duplicate elements. \n",
    "The order of elements in a set is undefined though it may consist of various elements.\n",
    "The major advantage of using a set, as opposed to a list, is that it has a highly optimized method for checking whether a specfic element is contained in the set.\n",
    "Python's set class represents the mathematical notion of a set.\n",
    "The major advantage of using a set, as opposed to a list, is that it has a highly optimized method for checking whether a specific element is contained in the set.\n",
    "This is based on a data structure known as a hash table.\n",
    "'''\n",
    "#Working With Sets:-\n",
    "#Creating With Sets\n",
    "Set_Courses={'History','Maths','Art'}\n",
    "Set_Courses2={'History','Mathematics','Art','Science'}\n",
    "print(\"The Set after Intersection:\",Set_Courses2.intersection(Set_Courses))\n",
    "print(\"The Set After Union:\",Set_Courses.union(Set_Courses2))\n",
    "Sorted_Set=sorted(Set_Courses2)\n",
    "print(\"The Set After Sorted Union:\",Sorted_Set)\n",
    "print(\"The Set After Difference is:\",Set_Courses.difference(Set_Courses2))\n",
    "#Working with enumerate function\n",
    "#Basic Syntax Of enumerate Function enumerate(iterable, start=0)\n",
    "''''The enumerate() function in Python is commonly used instead of the for loop.\n",
    "That’s because enumerate() can iterate over the index of an item, as well as the item itself.\n",
    "Using enumerate() also makes the code cleaner, since you have to write fewer lines.'''\n",
    "List_Language=['Java','C','C++','Python','Silqa']\n",
    "print(list(enumerate(List_Language,start=1)))"
   ]
  },
  {
   "cell_type": "markdown",
   "metadata": {},
   "source": [
    "# WORKING WITH DICTIONARIES"
   ]
  },
  {
   "cell_type": "code",
   "execution_count": 16,
   "metadata": {},
   "outputs": [
    {
     "name": "stdout",
     "output_type": "stream",
     "text": [
      "{'name': 'Asif', 'age': 25, 'courses': ['Maths', 'CompSci']}\n",
      "Asif\n",
      "Not Found\n",
      "{'name': 'John', 'age': 35, 'courses': ['Maths', 'CompSci']}\n",
      "3\n",
      "dict_items([('name', 'John'), ('age', 35), ('courses', ['Maths', 'CompSci'])])\n",
      "name John\n",
      "age 35\n",
      "courses ['Maths', 'CompSci']\n",
      "{'age': 35, 'courses': ['Maths', 'CompSci']}\n",
      "{'name': 'John', 'age': 35, 'courses': ['Maths', 'CompSci']}\n",
      "{}\n",
      "The original dictionary is {'name': 'John'}\n",
      "The updated dictionary is {'name': 'Andrew'}\n",
      "The Original Dictionary is {'name': 'Ande', 'age': 56}\n",
      "The New Dictionary after copying the contents is {'name': 'Ande', 'age': 56}\n",
      "{'name': 'Ande', 'age': 56}\n",
      "{}\n",
      "The new Dictionary: {'name': 'Londo', 'age': 89}\n",
      "{}\n",
      "{}\n"
     ]
    }
   ],
   "source": [
    "''''Python dictionary is an unordered collection of items. Each item of a dictionary has a key/value pair.\n",
    "Dictionaries are optimized to retrieve values when the key is known.'''\n",
    "\n",
    "# Creating a Dictionary\n",
    "New_Dict={'name':'Asif','age':25,'courses':['Maths','CompSci']}\n",
    "New_Dict1={'name':'John'}\n",
    "print(New_Dict)\n",
    "# Accessing The Dictionary with specific key\n",
    "print(New_Dict['name'])\n",
    "print(New_Dict.get('phone','Not Found'))\n",
    "#Updating the value of the Dictionary\n",
    "New_Dict.update({'name':'John','age':35})\n",
    "print(New_Dict)\n",
    "print(len(New_Dict))\n",
    "print(New_Dict.items())\n",
    "# Iterating through the dictionary\n",
    "for key,value in New_Dict.items():\n",
    "    print(key,value)\n",
    "New_Dict.pop('name')\n",
    "print(New_Dict)\n",
    "New_Dict1.update(New_Dict)\n",
    "print(New_Dict1)\n",
    "# Removing all elements from the dictionary\n",
    "New_Dict.clear()\n",
    "print(New_Dict)\n",
    "New_Dict={'name':'John'}\n",
    "print(\"The original dictionary is {}\".format(New_Dict))\n",
    "New_Dict.update({'name':'Andrew'})\n",
    "print(\"The updated dictionary is {}\".format(New_Dict))\n",
    "# Using Some Basic Operations in Dictionary\n",
    "#1)Copy method\n",
    "#When copy() method is used, a new dictionary is created which is filled with a copy of the references from the original dictionary.\n",
    "Original_Dict={'name':'Ande','age':56}\n",
    "New_Dictionary=Original_Dict.copy()\n",
    "print(\"The Original Dictionary is {}\".format(Original_Dict))\n",
    "print(\"The New Dictionary after copying the contents is {}\".format(New_Dictionary))\n",
    "New_Dictionary.clear()\n",
    "print(Original_Dict)\n",
    "print(New_Dictionary)\n",
    "'''Difference in Using copy() method, and = Operator to Copy Dictionaries\n",
    "When copy() method is used, a new dictionary is created which is filled with a copy of the references from the original dictionary.\n",
    "When = operator is used, a new reference to the original dictionary is created.'''\n",
    "#2)Using = Operator to Copy Dictionaries\n",
    "#Creating A Dictionary\n",
    "Origin={'name':'Londo','age':89}\n",
    "new=Origin\n",
    "print(\"The new Dictionary:\",new)\n",
    "new.clear()\n",
    "print(Origin)\n",
    "print(new)"
   ]
  },
  {
   "cell_type": "markdown",
   "metadata": {},
   "source": [
    "# PYTHON STATEMENTS\n",
    "1.IF STATEMENT\n",
    "\n",
    "2.IF-ELSE STATEMENT\n",
    "\n",
    "3.IF-ELIF-ELSE STATEMENT\n",
    "\n",
    "4.BREAK STATEMENT\n",
    "\n",
    "5.CONTINUE STATEMENT"
   ]
  },
  {
   "cell_type": "code",
   "execution_count": 16,
   "metadata": {},
   "outputs": [
    {
     "name": "stdout",
     "output_type": "stream",
     "text": [
      "No match\n",
      "2539990996040\n",
      "2539990996040\n",
      "True\n"
     ]
    }
   ],
   "source": [
    "#Creating a Conditional Statement\n",
    "Language='Julia'\n",
    "if Language=='Python':\n",
    "    print('Language is Python')\n",
    "elif Language=='Java':\n",
    "    print('Language is Java')\n",
    "else:\n",
    "    print('No match')\n",
    "#Working with Comparison Operators and Boolean in Conditional Statement\n",
    "a=[1,2,3]\n",
    "b=a\n",
    "print(id(a))\n",
    "print(id(b))\n",
    "print(a is b)"
   ]
  },
  {
   "cell_type": "code",
   "execution_count": 38,
   "metadata": {},
   "outputs": [
    {
     "name": "stdout",
     "output_type": "stream",
     "text": [
      "Enter a number: 17\n",
      "This is an odd number\n"
     ]
    }
   ],
   "source": [
    "# Checking If the number is multiple of 2 or 4\n",
    "num=float(input(\"Enter a number: \"))\n",
    "if num % 2==0 or num % 4==0:\n",
    "    print('This is an multiple of 2 or 4')\n",
    "elif num<0:\n",
    "    print('This is a Negative Number')\n",
    "elif num==0:\n",
    "    print('This is a zero number')\n",
    "else:\n",
    "    print('This is an odd number')"
   ]
  },
  {
   "cell_type": "code",
   "execution_count": 103,
   "metadata": {},
   "outputs": [
    {
     "name": "stdout",
     "output_type": "stream",
     "text": [
      "Enter the no:12 24\n",
      "The resultant is good\n",
      "Enter the no:12\n",
      "12 is a even number\n",
      "Enter the city:Kolkata Pune\n",
      "Out of my redar\n"
     ]
    }
   ],
   "source": [
    "# Working with If Statement\n",
    "#Program Description:-Add two numbers\n",
    "num1,num2=input(\"Enter the no:\").split()\n",
    "num3=int(num1)+int(num2)\n",
    "if int(num3)>25:\n",
    "    print(\"The resultant is good\")\n",
    "# Working with If-else Statement\n",
    "'''Checking if the number is even or not'''\n",
    "num_even=input(\"Enter the no:\")\n",
    "if int(num_even) % 2==0:\n",
    "    print(num_even,\"is a even number\")\n",
    "else:\n",
    "    print(num_even,\"is not a even number\")\n",
    "#Working with If-elif-else Statement\n",
    "city={'Portugal':'Lisbon','Austria':'Hamburg','Switzerland':'Zurich','Sweden':'Stockholm','India':'Kolkata'}\n",
    "city_name1,city_name2=input(\"Enter the city:\").split()\n",
    "if city_name1=='Lisbon' and city_name2=='London':\n",
    "    print('Western Europe')\n",
    "elif city_name1=='Hamburg' and city_name2=='Zurich':\n",
    "    print('Central Europe')\n",
    "else:\n",
    "    print('Out of my redar')\n",
    "   "
   ]
  },
  {
   "cell_type": "markdown",
   "metadata": {},
   "source": [
    "# PYTHON LOOP\n",
    "1.FOR LOOP\n",
    "\n",
    "2.WHILE LOOP"
   ]
  },
  {
   "cell_type": "code",
   "execution_count": 6,
   "metadata": {},
   "outputs": [
    {
     "name": "stdout",
     "output_type": "stream",
     "text": [
      "0\n",
      "1\n",
      "2\n",
      "Found\n"
     ]
    }
   ],
   "source": [
    "#Creating A List and Iterating through for loop\n",
    "'''nums=[1,2,3,4,5]\n",
    "for num in nums:\n",
    "    print(num)\n",
    "\n",
    "alphabet_vowels=['a','e','i','o','u']\n",
    "for items in alphabet_vowels:\n",
    "    if items=='i':\n",
    "        print(\"Found\")\n",
    "        break\n",
    "    print(items)\n",
    "#Using continue statement\n",
    "alphabet_vowels=['a','e','i','o','u']\n",
    "for items in alphabet_vowels:\n",
    "    if items=='i':\n",
    "        print(\"Found\")\n",
    "        continue\n",
    "    print(items)\n",
    "'''\n",
    "#Using Range Method\n",
    "#for i in range(0,10):\n",
    "#    print(i)\n",
    "#Using Nested For Loops\n",
    "'''\n",
    "num=[1,2,3,4,5]\n",
    "for num in nums:\n",
    "    for letter in 'abc':\n",
    "        print(num,letter)'''\n",
    "# Using While Loop\n",
    "x=0\n",
    "\n",
    "while x<10:\n",
    "        if x==3:\n",
    "            print(\"Found\")\n",
    "            break\n",
    "        print(x)\n",
    "        x+=1\n",
    "#Pass Statement\n",
    "nums=[1,2,3]\n",
    "for val in nums:\n",
    "    pass"
   ]
  },
  {
   "cell_type": "markdown",
   "metadata": {},
   "source": [
    "# USING DATA STRUCTURES USING BREAK STATEMENT"
   ]
  },
  {
   "cell_type": "code",
   "execution_count": 12,
   "metadata": {},
   "outputs": [
    {
     "name": "stdout",
     "output_type": "stream",
     "text": [
      "AI MachineLearning DeepLearning Found\n"
     ]
    }
   ],
   "source": [
    "# Creating A Multi-Dimensional List using Break Statement\n",
    "List_Courses=['AI','MachineLearning','DeepLearning',['MachineLearning','DataScience']]\n",
    "for i in List_Courses:\n",
    "    if i==['MachineLearning','DataScience']:\n",
    "        print('Found')\n",
    "        break\n",
    "    print(i,end=\" \")"
   ]
  },
  {
   "cell_type": "markdown",
   "metadata": {},
   "source": [
    "# USING DATA STRUCTURES USING CONTINUE STATEMENT"
   ]
  },
  {
   "cell_type": "code",
   "execution_count": 15,
   "metadata": {},
   "outputs": [
    {
     "name": "stdout",
     "output_type": "stream",
     "text": [
      "10th Standard,11th Standard,Continue the Study after 12th Standard\n",
      "UnderGraduate,Graduate,PostGraduate,PHD,"
     ]
    }
   ],
   "source": [
    "#Creating A Tuple and using Continue Statement\n",
    "Tuple_Degree=('10th Standard','11th Standard','12th Standard','UnderGraduate','Graduate','PostGraduate','PHD')\n",
    "for i in Tuple_Degree:\n",
    "    if i=='12th Standard':\n",
    "        print('Continue the Study after 12th Standard')\n",
    "        continue\n",
    "    print(i,end=\",\")"
   ]
  },
  {
   "cell_type": "markdown",
   "metadata": {},
   "source": [
    "# USING DATA STRUCTURES USING PASS STATEMENT"
   ]
  },
  {
   "cell_type": "code",
   "execution_count": 18,
   "metadata": {},
   "outputs": [],
   "source": [
    "# The pass statement is only used to check if the code is executed sucessfully \n",
    "Tuple_Degree=('10th Standard','11th Standard','12th Standard','UnderGraduate','Graduate','PostGraduate','PHD')\n",
    "for i in Tuple_Degree:\n",
    "    if i=='12th Standard':\n",
    "        pass"
   ]
  },
  {
   "cell_type": "markdown",
   "metadata": {},
   "source": [
    "# WORKING WITH WHILE LOOP"
   ]
  },
  {
   "cell_type": "code",
   "execution_count": null,
   "metadata": {},
   "outputs": [],
   "source": [
    "#In while loop first the condition is check and then we print the results.If the condition is false It will run an infinite loop\n",
    "#we should stop it because it recursively want to make the condition true."
   ]
  },
  {
   "cell_type": "code",
   "execution_count": 20,
   "metadata": {},
   "outputs": [
    {
     "name": "stdout",
     "output_type": "stream",
     "text": [
      "0\n",
      "1\n",
      "2\n",
      "3\n",
      "4\n",
      "Found\n"
     ]
    }
   ],
   "source": [
    "# This is a simple while loop\n",
    "i=0\n",
    "while i<10:\n",
    "        if i==5:\n",
    "            print('Found')\n",
    "            break\n",
    "        print(i)\n",
    "        i+=1"
   ]
  },
  {
   "cell_type": "code",
   "execution_count": 21,
   "metadata": {},
   "outputs": [
    {
     "name": "stdout",
     "output_type": "stream",
     "text": [
      "Enter the value:12\n",
      "the sum is 78\n"
     ]
    }
   ],
   "source": [
    "#This is a simple example of taking the input from the user and calcualing the sum\n",
    "n=int(input('Enter the value:'))\n",
    "sum=0\n",
    "i=1\n",
    "while i<=n:\n",
    "        sum=sum+i\n",
    "        i=i+1\n",
    "print('the sum is',sum)"
   ]
  },
  {
   "cell_type": "code",
   "execution_count": 28,
   "metadata": {},
   "outputs": [],
   "source": []
  },
  {
   "cell_type": "markdown",
   "metadata": {},
   "source": [
    "# WORKING WITH FUNCTION\n",
    "\n",
    "What is  Function?\n",
    "\n",
    "In programming, a function is a self-contained block of code that encapsulates a specific task or related group of tasks.\n",
    "\n",
    "Syntax of Functions:-\n",
    "\n",
    "\n",
    "def <function_name>([<parameters>]):\n",
    "    <statement(s)>"
   ]
  },
  {
   "cell_type": "code",
   "execution_count": 1,
   "metadata": {},
   "outputs": [
    {
     "name": "stdout",
     "output_type": "stream",
     "text": [
      "Before calling the function\n",
      "first function\n",
      "After calling the function\n"
     ]
    }
   ],
   "source": [
    "#Create A Function \n",
    "def first_function():\n",
    "    s='first function'\n",
    "    print(s)# Body of the Function\n",
    "\n",
    "print('Before calling the function')\n",
    "first_function() # Function is called and it will executes the body of the function\n",
    "print('After calling the function')"
   ]
  },
  {
   "cell_type": "markdown",
   "metadata": {},
   "source": [
    "# Argument Passing\n",
    "The functions you’ve defined haven’t taken any arguments. That can sometimes be useful, and you’ll occasionally write such functions. More often, though, you’ll want to pass data into a function so that its behavior can vary from one invocation to the next. Let’s see how to do that.\n",
    "\n",
    "POSITIONAL ARGUMENTS\n",
    "\n",
    "The most straightforward way to pass arguments to a Python function is with positional arguments (also called required arguments). In the function definition, you specify a comma-separated list of parameters inside the parentheses:"
   ]
  },
  {
   "cell_type": "code",
   "execution_count": 69,
   "metadata": {},
   "outputs": [
    {
     "name": "stdout",
     "output_type": "stream",
     "text": [
      "12000000 is a valid Account\n",
      "788888 is a Visa Card\n"
     ]
    }
   ],
   "source": [
    "#Argument Passing\n",
    "#Positional Arguments\n",
    "#The parameters (qty, item, and price) behave like variables that are defined locally to the function. \n",
    "#When the function is called, the arguments that are passed (6, 'bananas', and 1.74) are bound to the parameters in order, as though by variable assignment:\n",
    "def Account_Details(Account_No,Card_Details):#  (Account_No,Card_Details) are Formal Parameters\n",
    "    print(f'{Account_No} is a valid Account')\n",
    "    print(f'{Card_Details} is a Visa Card')\n",
    "Account_Details(12000000,788888)# actual parameters"
   ]
  },
  {
   "cell_type": "code",
   "execution_count": 82,
   "metadata": {},
   "outputs": [
    {
     "name": "stdout",
     "output_type": "stream",
     "text": [
      "12000000 is a valid Account 788888 is a VISA Card 233 Asid Vasurthi\n"
     ]
    }
   ],
   "source": [
    "##Positional Arguments and wrong ordering\n",
    "def Account_Details(Account_No,Card_Details,CVV,Account_Name):#  (Account_No,Card_Details) are Formal Parameters\n",
    "    print(f'{Account_No} is a valid Account',end=\" \")\n",
    "    print(f'{Card_Details} is a VISA Card',end=\" \")\n",
    "    print(f'{CVV}',end=\" \")\n",
    "    print(f'{Account_Name}')\n",
    "Account_Details(12000000,788888,233,'Asid Vasurthi')# actual parameters"
   ]
  },
  {
   "cell_type": "code",
   "execution_count": 89,
   "metadata": {},
   "outputs": [],
   "source": [
    "#Referencing a keyword that doesn’t match any of the declared parameters generates an exception:\n",
    "def quality(time,price,length):\n",
    "    print(f'{time} is good')\n",
    "    print(f'{price} is high/expensive')\n",
    "    print(f'{length} is satisfactory')\n",
    "#quality(time=20,price=1000,quantity=4)"
   ]
  },
  {
   "cell_type": "markdown",
   "metadata": {},
   "source": [
    "Using keyword arguments lifts the restriction on argument order. Each keyword argument explicitly designates a specific parameter by name, so you can specify them in any order and Python will still know which argument goes with which parameter:\n",
    "So, keyword arguments allow flexibility in the order that function arguments are specified, but the number of arguments is still rigid.You can call a function using both positional and keyword arguments:"
   ]
  },
  {
   "cell_type": "markdown",
   "metadata": {},
   "source": [
    "#IN SUMMARY\n",
    "\n",
    "Positional arguments must agree in order and number with the parameters declared in the function definition.\n",
    "\n",
    "Keyword arguments must agree with declared parameters in number, but they may be specified in arbitrary order.\n",
    "\n",
    "Default parameters allow some arguments to be omitted when the function is called."
   ]
  },
  {
   "cell_type": "markdown",
   "metadata": {},
   "source": [
    "# Mutable Default Parameter Values\n",
    "\n",
    "Things can get weird if you specify a default parameter value that is a mutable object. Consider this Python function definition:"
   ]
  },
  {
   "cell_type": "code",
   "execution_count": 95,
   "metadata": {},
   "outputs": [
    {
     "data": {
      "text/plain": [
       "[1, 2, 3, 4, 5, '###']"
      ]
     },
     "execution_count": 95,
     "metadata": {},
     "output_type": "execute_result"
    }
   ],
   "source": [
    "def f(my_list=[]):\n",
    "    my_list.append(\"###\")\n",
    "    return my_list\n",
    "f([1,2,3,4,5])"
   ]
  },
  {
   "cell_type": "code",
   "execution_count": 1,
   "metadata": {},
   "outputs": [
    {
     "data": {
      "text/plain": [
       "(1, 2, 3, 4, 5)"
      ]
     },
     "execution_count": 1,
     "metadata": {},
     "output_type": "execute_result"
    }
   ],
   "source": [
    "# Why my_tuple has no attribute append because tuple is a immutable object meaning once created we cannot update the tuple,but \n",
    "#can perform all the operation of the list,dictionaries,sets excepts extends,update the tuple\n",
    "def f(my_tuple=()):\n",
    "    #my_tuple.append(\"##\")\n",
    "    return my_tuple\n",
    "f((1,2,3,4,5))"
   ]
  },
  {
   "cell_type": "markdown",
   "metadata": {},
   "source": [
    "f() takes a single list parameter, appends the string '###' to the end of the list, and returns the result:"
   ]
  },
  {
   "cell_type": "code",
   "execution_count": 104,
   "metadata": {},
   "outputs": [
    {
     "data": {
      "text/plain": [
       "['###', '###', '###']"
      ]
     },
     "execution_count": 104,
     "metadata": {},
     "output_type": "execute_result"
    }
   ],
   "source": [
    "# Empty List with no parameters\n",
    "def f(my_list=[]):\n",
    "    my_list.append(\"###\")\n",
    "    return my_list\n",
    "f()\n",
    "f()\n",
    "f()"
   ]
  },
  {
   "cell_type": "markdown",
   "metadata": {},
   "source": [
    "Everything makes sense so far. Now, what would you expect to happen if f() is called without any parameters a second and a third time? Let’s see:\n",
    "\n",
    "Oops! You might have expected each subsequent call to also return the singleton list ['###'], just like the first. Instead, the return value keeps growing. What happened?\n",
    "\n",
    "In Python, default parameter values are defined only once when the function is defined (that is, when the def statement is executed). The default value isn’t re-defined each time the function is called. Thus, each time you call f() without a parameter, you’re performing .append() on the same list."
   ]
  },
  {
   "cell_type": "markdown",
   "metadata": {},
   "source": [
    "The object identifier displayed confirms that, when my_list is allowed to default, the value is the same object with each call. Since lists are mutable, each subsequent .append() call causes the list to get longer. This is a common and pretty well-documented pitfall when you’re using a mutable object as a parameter’s default value. It potentially leads to confusing code behavior, and is probably best avoided.\n",
    "\n",
    "As a workaround, consider using a default argument value that signals no argument has been specified. Most any value would work, but None is a common choice. When the sentinel value indicates no argument is given, create a new empty list inside the function:"
   ]
  },
  {
   "cell_type": "code",
   "execution_count": 107,
   "metadata": {},
   "outputs": [
    {
     "data": {
      "text/plain": [
       "['###']"
      ]
     },
     "execution_count": 107,
     "metadata": {},
     "output_type": "execute_result"
    }
   ],
   "source": [
    "# When we give parameters as None then append will be performed once for each function call\n",
    "def f(my_list=None):\n",
    "    if my_list is None:\n",
    "        my_list=[]\n",
    "        my_list.append(\"###\")\n",
    "    return my_list\n",
    "f()\n",
    "f()\n",
    "f()"
   ]
  },
  {
   "cell_type": "markdown",
   "metadata": {},
   "source": [
    "#Note how this ensures that my_list now truly defaults to an empty list whenever f() is called without an argument.\n",
    "\n",
    "Argument passing in Python is somewhat of a hybrid between pass-by-value and pass-by-reference. What gets passed to the function is a reference to an object, but the reference is passed by value.\n",
    "\n",
    "Note: Python’s argument-passing mechanism has been called pass-by-assignment. This is because parameter names are bound to objects on function entry in Python, and assignment is also the process of binding a name to an object. You may also see the terms pass-by-object, pass-by-object-reference, or pass-by-sharing."
   ]
  },
  {
   "cell_type": "markdown",
   "metadata": {},
   "source": [
    "# Argument Passing Summary\n",
    "\n",
    "Argument passing in Python can be summarized as follows. Passing an immutable object, like an int, str, tuple, or frozenset, to a Python function acts like pass-by-value. The function can’t modify the object in the calling environment.\n",
    "\n",
    "Passing a mutable object such as a list, dict, or set acts somewhat—but not exactly—like pass-by-reference. The function can’t reassign the object wholesale, but it can change items in place within the object, and these changes will be reflected in the calling environment.\n",
    "\n",
    "Side Effects\n",
    "So, in Python, it’s possible for you to modify an argument from within a function so that the change is reflected in the calling environment. But should you do this? This is an example of what’s referred to in programming lingo as a side effect.\n",
    "\n",
    "More generally, a Python function is said to cause a side effect if it modifies its calling environment in any way. Changing the value of a function argument is just one of the possibilities.\n",
    "\n",
    "Note: You’re probably familiar with side effects from the field of human health, where the term typically refers to an unintended consequence of medication. Often, the consequence is undesirable, like vomiting or sedation. On the other hand, side effects can be used intentionally. For example, some medications cause appetite stimulation, which can be used to an advantage, even if that isn’t the medication’s primary intent.\n",
    "\n",
    "The concept is similar in programming. If a side effect is a well-documented part of the function specification, and the user of the function is expressly aware of when and how the calling environment might be modified, then it can be okay. But a programmer may not always properly document side effects, or they may not even be aware that side effects are occurring.\n",
    "\n",
    "When they’re hidden or unexpected, side effects can lead to program errors that are very difficult to track down. Generally, it’s best to avoid them."
   ]
  },
  {
   "cell_type": "markdown",
   "metadata": {},
   "source": [
    "# Return Statement\n",
    "What’s a Python function to do then? After all, in many cases, if a function doesn’t cause some change in the calling environment, then there isn’t much point in calling it at all. How should a function affect its caller?\n",
    "\n",
    "Well, one possibility is to use function return values. A return statement in a Python function serves two purposes:\n",
    "\n",
    "It immediately terminates the function and passes execution control back to the caller.\n",
    "It provides a mechanism by which the function can pass data back to the caller\n",
    "\n",
    "###Exiting a Function:-\n",
    "\n",
    "\n",
    "Within a function, a return statement causes immediate exit from the Python function and transfer of execution back to the caller:"
   ]
  },
  {
   "cell_type": "code",
   "execution_count": 132,
   "metadata": {},
   "outputs": [
    {
     "data": {
      "text/plain": [
       "6"
      ]
     },
     "execution_count": 132,
     "metadata": {},
     "output_type": "execute_result"
    }
   ],
   "source": [
    "def add_num(a,b):\n",
    "    return a+b\n",
    "add_num(1,5)"
   ]
  },
  {
   "cell_type": "markdown",
   "metadata": {},
   "source": [
    "In this example, the return statement is actually superfluous. A function will return to the caller when it falls off the end—that is, after the last statement of the function body is executed. So, this function would behave identically without the return statement.\n",
    "\n",
    "However, return statements don’t need to be at the end of a function. They can appear anywhere in a function body, and even multiple times."
   ]
  },
  {
   "cell_type": "code",
   "execution_count": 144,
   "metadata": {},
   "outputs": [
    {
     "name": "stdout",
     "output_type": "stream",
     "text": [
      "12\n",
      "95\n"
     ]
    }
   ],
   "source": [
    "def f(x):\n",
    "    if x < 0:\n",
    "         return\n",
    "    if x > 100:\n",
    "         return\n",
    "    print(x)\n",
    "\n",
    "\n",
    "f(12)\n",
    "f(95)\n",
    "f(120)"
   ]
  },
  {
   "cell_type": "markdown",
   "metadata": {},
   "source": [
    "The first two calls to f() don’t cause any output, because a return statement is executed and the function exits prematurely, before the print() statement on line 6 is reached.\n",
    "\n",
    "This sort of paradigm can be useful for error checking in a function. You can check several error conditions at the start of the function, with return statements that bail out if there’s a problem:"
   ]
  },
  {
   "cell_type": "code",
   "execution_count": 148,
   "metadata": {},
   "outputs": [
    {
     "data": {
      "text/plain": [
       "'\\n    def f():\\n        if error_cond1:\\n            return\\n        if error_cond2:\\n            return\\n        if error_cond3:\\n            return\\n    <normal processing>\\n'"
      ]
     },
     "execution_count": 148,
     "metadata": {},
     "output_type": "execute_result"
    }
   ],
   "source": [
    "# Syntax if we want to check the error condition\n",
    "\"\"\"\n",
    "    def f():\n",
    "        if error_cond1:\n",
    "            return\n",
    "        if error_cond2:\n",
    "            return\n",
    "        if error_cond3:\n",
    "            return\n",
    "    <normal processing>\n",
    "\"\"\""
   ]
  },
  {
   "cell_type": "markdown",
   "metadata": {},
   "source": [
    "# RETURNING DATA TO THE CALLER\n",
    "\n",
    "In addition to exiting a function, the return statement is also used to pass data back to the caller. If a return statement inside a Python function is followed by an expression, then in the calling environment, the function call evaluates to the value of that expression:"
   ]
  },
  {
   "cell_type": "code",
   "execution_count": 153,
   "metadata": {},
   "outputs": [
    {
     "data": {
      "text/plain": [
       "5"
      ]
     },
     "execution_count": 153,
     "metadata": {},
     "output_type": "execute_result"
    }
   ],
   "source": [
    "#Returning Data to the Caller\n",
    "\n",
    "def f():\n",
    "    return 5\n",
    "\n",
    "s=f()\n",
    "s"
   ]
  },
  {
   "cell_type": "markdown",
   "metadata": {},
   "source": [
    "Here, the value of the expression f() on line 5 is 5, which is subsequently assigned to variable s.\n",
    "\n",
    "A function can return any type of object. In Python, that means pretty much anything whatsoever. In the calling environment, the function call can be used syntactically in any way that makes sense for the type of object the function returns."
   ]
  },
  {
   "cell_type": "code",
   "execution_count": 159,
   "metadata": {},
   "outputs": [
    {
     "data": {
      "text/plain": [
       "{'name': 'asif', 'age': 25}"
      ]
     },
     "execution_count": 159,
     "metadata": {},
     "output_type": "execute_result"
    }
   ],
   "source": [
    "# Create A Function with dictionary in return statement\n",
    "def first_dict():\n",
    "    return dict(name='asif',age=25)\n",
    "\n",
    "first_dict()"
   ]
  },
  {
   "cell_type": "code",
   "execution_count": 161,
   "metadata": {},
   "outputs": [
    {
     "data": {
      "text/plain": [
       "('Asif', 'London')"
      ]
     },
     "execution_count": 161,
     "metadata": {},
     "output_type": "execute_result"
    }
   ],
   "source": [
    "# Create Tuple using return statements\n",
    "def first_tuple():\n",
    "    return tuple(('Asif','London'))\n",
    "\n",
    "first_tuple()"
   ]
  },
  {
   "cell_type": "code",
   "execution_count": 170,
   "metadata": {},
   "outputs": [
    {
     "name": "stdout",
     "output_type": "stream",
     "text": [
      "[['AI', 'MachineLearning'], ['DataScience', 'DeepLearning']]\n",
      "['DataScience', 'DeepLearning']\n"
     ]
    }
   ],
   "source": [
    "#Create A List Using return statements\n",
    "def first_list():\n",
    "    return list([['AI','MachineLearning'],['DataScience','DeepLearning']])\n",
    "\n",
    "s=first_list() # first_list()  is called\n",
    "print(s)\n",
    "p=first_list()[1]# Slicing the function called\n",
    "print(p)"
   ]
  },
  {
   "cell_type": "markdown",
   "metadata": {},
   "source": [
    "If multiple comma-separated expressions are specified in a return statement, then they’re packed and returned as a tuple:"
   ]
  },
  {
   "cell_type": "code",
   "execution_count": 174,
   "metadata": {},
   "outputs": [
    {
     "name": "stdout",
     "output_type": "stream",
     "text": [
      "<class 'tuple'>\n",
      "('foo', 'bar', 'baz', 'qux')\n",
      "a = foo, b = bar, c = baz, d = qux\n"
     ]
    }
   ],
   "source": [
    " def f():\n",
    "    return 'foo', 'bar', 'baz', 'qux'\n",
    "\n",
    "print(type(f()))\n",
    "t = f()\n",
    "print(t)\n",
    "a, b, c, d = f()\n",
    "print(f'a = {a}, b = {b}, c = {c}, d = {d}')"
   ]
  },
  {
   "cell_type": "markdown",
   "metadata": {},
   "source": [
    "When no return value is given, a Python function returns the special Python value"
   ]
  },
  {
   "cell_type": "code",
   "execution_count": 179,
   "metadata": {},
   "outputs": [
    {
     "name": "stdout",
     "output_type": "stream",
     "text": [
      "None\n"
     ]
    }
   ],
   "source": [
    "\n",
    "def f():\n",
    "    return\n",
    "\n",
    "print(f())"
   ]
  },
  {
   "cell_type": "markdown",
   "metadata": {},
   "source": [
    "The same thing happens if the function body doesn’t contain a return statement at all and the function falls off the end"
   ]
  },
  {
   "cell_type": "code",
   "execution_count": 180,
   "metadata": {},
   "outputs": [
    {
     "name": "stdout",
     "output_type": "stream",
     "text": [
      "None\n"
     ]
    }
   ],
   "source": [
    "def g():\n",
    "    pass\n",
    "\n",
    "print(g())"
   ]
  },
  {
   "cell_type": "markdown",
   "metadata": {},
   "source": [
    "Recall that None is falsy when evaluated in a boolean context.\n",
    "\n",
    "Since functions that exit through a bare return statement or fall off the end return None, a call to such a function can be used in a boolean context:"
   ]
  },
  {
   "cell_type": "code",
   "execution_count": 182,
   "metadata": {},
   "outputs": [
    {
     "name": "stdout",
     "output_type": "stream",
     "text": [
      "Yes\n"
     ]
    }
   ],
   "source": [
    "def f():\n",
    "    \n",
    "    return '\n",
    "\n",
    "def g():\n",
    "    \n",
    "    pass\n",
    "\n",
    "if f() or g():\n",
    "    print('Yes')\n",
    "else:\n",
    "    print('No')"
   ]
  },
  {
   "cell_type": "markdown",
   "metadata": {},
   "source": [
    "Here, calls to both f() and g() are falsy, so f() or g() is as well, and the else clause executes."
   ]
  },
  {
   "cell_type": "markdown",
   "metadata": {},
   "source": [
    "Revisiting Side Effects"
   ]
  },
  {
   "cell_type": "markdown",
   "metadata": {},
   "source": [
    "In Python, this won’t work. As you now know, Python integers are immutable, so a Python function can’t change an integer argument by side effect:"
   ]
  },
  {
   "cell_type": "code",
   "execution_count": 188,
   "metadata": {},
   "outputs": [
    {
     "name": "stdout",
     "output_type": "stream",
     "text": [
      "5\n",
      "5\n"
     ]
    }
   ],
   "source": [
    "def double(x):\n",
    "    x*=2\n",
    "    \n",
    "x=5\n",
    "print(x)\n",
    "double(x)\n",
    "print(x)"
   ]
  },
  {
   "cell_type": "markdown",
   "metadata": {},
   "source": [
    "However, you can use a return value to obtain a similar effect. Simply write double() so that it takes an integer argument, doubles it, and returns the doubled value. Then, the caller is responsible for the assignment that modifies the original value:"
   ]
  },
  {
   "cell_type": "code",
   "execution_count": 192,
   "metadata": {},
   "outputs": [
    {
     "name": "stdout",
     "output_type": "stream",
     "text": [
      "10\n",
      "5\n"
     ]
    }
   ],
   "source": [
    "x=5\n",
    "def double(x):\n",
    "    return x*2\n",
    "\n",
    "s=double(5)\n",
    "print(s)\n",
    "print(x)"
   ]
  },
  {
   "cell_type": "code",
   "execution_count": 195,
   "metadata": {},
   "outputs": [
    {
     "data": {
      "text/plain": [
       "[2, 4, 6, 8, 10]"
      ]
     },
     "execution_count": 195,
     "metadata": {},
     "output_type": "execute_result"
    }
   ],
   "source": [
    "def double_list(x):\n",
    "    i=0\n",
    "    while i<len(x):\n",
    "        x[i]*=2\n",
    "        i+=1\n",
    "        \n",
    "a=[1,2,3,4,5]\n",
    "double_list(a)\n",
    "a"
   ]
  },
  {
   "cell_type": "markdown",
   "metadata": {},
   "source": [
    "Unlike double() in the previous example, double_list() actually works as intended. If the documentation for the function clearly states that the list argument’s contents are changed, then this may be a reasonable implementation.\n",
    "\n",
    "However, you can also write double_list() to pass the desired list back by return value and allow the caller to make the assignment,"
   ]
  },
  {
   "cell_type": "code",
   "execution_count": 197,
   "metadata": {},
   "outputs": [
    {
     "data": {
      "text/plain": [
       "(1, 2, 3, 4, 5)"
      ]
     },
     "execution_count": 197,
     "metadata": {},
     "output_type": "execute_result"
    }
   ],
   "source": [
    "def double_tuple(x):\n",
    "    i=0\n",
    "    while i<len(x):\n",
    "        x[(i)]*2\n",
    "        i+=1\n",
    "a=(1,2,3,4,5)\n",
    "double_tuple(a)\n",
    "a"
   ]
  },
  {
   "cell_type": "markdown",
   "metadata": {},
   "source": [
    "Either approach works equally well. As is often the case, this is a matter of style, and personal preferences vary. Side effects aren’t necessarily consummate evil, and they have their place, but because virtually anything can be returned from a function, the same thing can usually be accomplished through return values as well."
   ]
  },
  {
   "cell_type": "markdown",
   "metadata": {},
   "source": [
    "# Variable length arguments\n",
    "\n",
    "In some cases, when you’re defining a function, you may not know beforehand how many arguments you’ll want it to take. Suppose, for example, that you want to write a Python function that computes the average of several values. You could start with something like this:"
   ]
  },
  {
   "cell_type": "code",
   "execution_count": 15,
   "metadata": {},
   "outputs": [
    {
     "name": "stdout",
     "output_type": "stream",
     "text": [
      "The avg is 2.0\n"
     ]
    }
   ],
   "source": [
    "def avg(a,b,c):\n",
    "    \n",
    "    return (a + b +c) /3\n",
    "\n",
    "s=avg(1,2,3)\n",
    "print('The avg is',s)"
   ]
  },
  {
   "cell_type": "markdown",
   "metadata": {},
   "source": [
    "However, as you’ve already seen, when positional arguments are used, the number of arguments passed must agree with the number of parameters declared. Clearly then, all isn’t well with this implementation of avg() for any number of values other than three:"
   ]
  },
  {
   "cell_type": "code",
   "execution_count": 16,
   "metadata": {},
   "outputs": [
    {
     "ename": "TypeError",
     "evalue": "avg() takes 3 positional arguments but 4 were given",
     "output_type": "error",
     "traceback": [
      "\u001b[1;31m---------------------------------------------------------------------------\u001b[0m",
      "\u001b[1;31mTypeError\u001b[0m                                 Traceback (most recent call last)",
      "\u001b[1;32m<ipython-input-16-71776da85a6e>\u001b[0m in \u001b[0;36m<module>\u001b[1;34m\u001b[0m\n\u001b[1;32m----> 1\u001b[1;33m \u001b[0mavg\u001b[0m\u001b[1;33m(\u001b[0m\u001b[1;36m1\u001b[0m\u001b[1;33m,\u001b[0m\u001b[1;36m2\u001b[0m\u001b[1;33m,\u001b[0m\u001b[1;36m3\u001b[0m\u001b[1;33m,\u001b[0m\u001b[1;36m4\u001b[0m\u001b[1;33m)\u001b[0m\u001b[1;33m\u001b[0m\u001b[1;33m\u001b[0m\u001b[0m\n\u001b[0m",
      "\u001b[1;31mTypeError\u001b[0m: avg() takes 3 positional arguments but 4 were given"
     ]
    }
   ],
   "source": [
    "avg(1,2,3,4)"
   ]
  },
  {
   "cell_type": "markdown",
   "metadata": {},
   "source": [
    "You could try to define avg() with optional parameters:"
   ]
  },
  {
   "cell_type": "code",
   "execution_count": 23,
   "metadata": {},
   "outputs": [
    {
     "data": {
      "text/plain": [
       "' \\navg(1)\\navg(1,2)\\navg(1,2,3)\\navg(1,2,3,4)\\navg(1,2,3,4,5)\\n'"
      ]
     },
     "execution_count": 23,
     "metadata": {},
     "output_type": "execute_result"
    }
   ],
   "source": [
    "def avg(a,b=0,c=0,d=0,e=0):\n",
    "    pass\n",
    "    \n",
    "''' \n",
    "avg(1)\n",
    "avg(1,2)\n",
    "avg(1,2,3)\n",
    "avg(1,2,3,4)\n",
    "avg(1,2,3,4,5)\n",
    "'''"
   ]
  },
  {
   "cell_type": "markdown",
   "metadata": {},
   "source": [
    "But this approach still suffers from a couple of problems. For starters, it still only allows up to five arguments, not an arbitrary number. Worse yet, there’s no way to distinguish between the arguments that were specified and those that were allowed to default. The function has no way to know how many arguments were actually passed, so it doesn’t know what to divide by"
   ]
  },
  {
   "cell_type": "markdown",
   "metadata": {},
   "source": [
    "You could write avg() to take a single list argument:"
   ]
  },
  {
   "cell_type": "code",
   "execution_count": 24,
   "metadata": {},
   "outputs": [],
   "source": [
    "def avg(a):\n",
    "    total=0\n",
    "    for v in a:\n",
    "        total+=v\n",
    "    return total/len(a)."
   ]
  },
  {
   "cell_type": "code",
   "execution_count": 27,
   "metadata": {},
   "outputs": [
    {
     "data": {
      "text/plain": [
       "13.777777777777779"
      ]
     },
     "execution_count": 27,
     "metadata": {},
     "output_type": "execute_result"
    }
   ],
   "source": [
    "avg([1,2,3,4,6,6,6,7,89])"
   ]
  },
  {
   "cell_type": "markdown",
   "metadata": {},
   "source": [
    "At least this works. It allows an arbitrary number of values and produces a correct result. As an added bonus, it works when the argument is a tuple as well:"
   ]
  },
  {
   "cell_type": "code",
   "execution_count": 30,
   "metadata": {},
   "outputs": [
    {
     "data": {
      "text/plain": [
       "3.5"
      ]
     },
     "execution_count": 30,
     "metadata": {},
     "output_type": "execute_result"
    }
   ],
   "source": [
    "t=(1,2,3,4,5,6)\n",
    "avg(t)"
   ]
  },
  {
   "cell_type": "markdown",
   "metadata": {},
   "source": [
    "The drawback is that the added step of having to group the values into a list or tuple is probably not something the user of the function would expect, and it isn’t very elegant. Whenever you find Python code that looks inelegant, there’s probably a better option.\n",
    "\n",
    "In this case, indeed there is! Python provides a way to pass a function a variable number of arguments with argument tuple packing and unpacking using the asterisk (*) operator."
   ]
  },
  {
   "cell_type": "markdown",
   "metadata": {},
   "source": [
    "# Argument Tuple Packing"
   ]
  },
  {
   "cell_type": "markdown",
   "metadata": {},
   "source": [
    "When a parameter name in a Python function definition is preceded by an asterisk (*), it indicates argument tuple packing. Any corresponding arguments in the function call are packed into a tuple that the function can refer to by the given parameter name."
   ]
  },
  {
   "cell_type": "code",
   "execution_count": 48,
   "metadata": {},
   "outputs": [],
   "source": [
    "#*args we can add any number of parameters as we want.\n",
    "def avg(*args):\n",
    "    for v in args:\n",
    "        print(v,end=\" \")\n",
    "        \n",
    "    return 'argument passed:',len(args)"
   ]
  },
  {
   "cell_type": "code",
   "execution_count": 49,
   "metadata": {},
   "outputs": [
    {
     "name": "stdout",
     "output_type": "stream",
     "text": [
      "1 2 3 4 "
     ]
    },
    {
     "data": {
      "text/plain": [
       "('argument passed:', 4)"
      ]
     },
     "execution_count": 49,
     "metadata": {},
     "output_type": "execute_result"
    }
   ],
   "source": [
    "avg(1,2,3,4)"
   ]
  },
  {
   "cell_type": "code",
   "execution_count": 55,
   "metadata": {},
   "outputs": [],
   "source": [
    "def avg(*args):\n",
    "    total=0 # Initialization of the counter\n",
    "    for v in args:\n",
    "        total+=v # Counter operator\n",
    "        return total/len(args)"
   ]
  },
  {
   "cell_type": "code",
   "execution_count": 56,
   "metadata": {},
   "outputs": [
    {
     "data": {
      "text/plain": [
       "0.2"
      ]
     },
     "execution_count": 56,
     "metadata": {},
     "output_type": "execute_result"
    }
   ],
   "source": [
    "avg(1,2,3,4,5)"
   ]
  },
  {
   "cell_type": "code",
   "execution_count": 62,
   "metadata": {},
   "outputs": [
    {
     "name": "stdout",
     "output_type": "stream",
     "text": [
      "The avg is: 2.5\n"
     ]
    }
   ],
   "source": [
    "# Sum of the no\n",
    "def avg(*args):\n",
    "    \n",
    "    return sum(args)/len(args)\n",
    "\n",
    "s=avg(1,2,3,4)\n",
    "print('The avg is:',s)"
   ]
  },
  {
   "cell_type": "markdown",
   "metadata": {},
   "source": [
    "Better still, you can tidy it up even further by replacing the for loop with the built-in Python function sum(), which sums the numeric values in any iterable:"
   ]
  },
  {
   "cell_type": "code",
   "execution_count": 63,
   "metadata": {},
   "outputs": [
    {
     "ename": "TypeError",
     "evalue": "unsupported operand type(s) for +: 'int' and 'str'",
     "output_type": "error",
     "traceback": [
      "\u001b[1;31m---------------------------------------------------------------------------\u001b[0m",
      "\u001b[1;31mTypeError\u001b[0m                                 Traceback (most recent call last)",
      "\u001b[1;32m<ipython-input-63-18ea75930b8d>\u001b[0m in \u001b[0;36m<module>\u001b[1;34m\u001b[0m\n\u001b[1;32m----> 1\u001b[1;33m \u001b[0mavg\u001b[0m\u001b[1;33m(\u001b[0m\u001b[1;36m1\u001b[0m\u001b[1;33m,\u001b[0m\u001b[1;34m'Asid'\u001b[0m\u001b[1;33m,\u001b[0m\u001b[1;34m'Asif'\u001b[0m\u001b[1;33m)\u001b[0m\u001b[1;33m\u001b[0m\u001b[1;33m\u001b[0m\u001b[0m\n\u001b[0m",
      "\u001b[1;32m<ipython-input-62-1615a5a0eb79>\u001b[0m in \u001b[0;36mavg\u001b[1;34m(*args)\u001b[0m\n\u001b[0;32m      2\u001b[0m \u001b[1;32mdef\u001b[0m \u001b[0mavg\u001b[0m\u001b[1;33m(\u001b[0m\u001b[1;33m*\u001b[0m\u001b[0margs\u001b[0m\u001b[1;33m)\u001b[0m\u001b[1;33m:\u001b[0m\u001b[1;33m\u001b[0m\u001b[1;33m\u001b[0m\u001b[0m\n\u001b[0;32m      3\u001b[0m \u001b[1;33m\u001b[0m\u001b[0m\n\u001b[1;32m----> 4\u001b[1;33m     \u001b[1;32mreturn\u001b[0m \u001b[0msum\u001b[0m\u001b[1;33m(\u001b[0m\u001b[0margs\u001b[0m\u001b[1;33m)\u001b[0m\u001b[1;33m/\u001b[0m\u001b[0mlen\u001b[0m\u001b[1;33m(\u001b[0m\u001b[0margs\u001b[0m\u001b[1;33m)\u001b[0m\u001b[1;33m\u001b[0m\u001b[1;33m\u001b[0m\u001b[0m\n\u001b[0m\u001b[0;32m      5\u001b[0m \u001b[1;33m\u001b[0m\u001b[0m\n\u001b[0;32m      6\u001b[0m \u001b[0ms\u001b[0m\u001b[1;33m=\u001b[0m\u001b[0mavg\u001b[0m\u001b[1;33m(\u001b[0m\u001b[1;36m1\u001b[0m\u001b[1;33m,\u001b[0m\u001b[1;36m2\u001b[0m\u001b[1;33m,\u001b[0m\u001b[1;36m3\u001b[0m\u001b[1;33m,\u001b[0m\u001b[1;36m4\u001b[0m\u001b[1;33m)\u001b[0m\u001b[1;33m\u001b[0m\u001b[1;33m\u001b[0m\u001b[0m\n",
      "\u001b[1;31mTypeError\u001b[0m: unsupported operand type(s) for +: 'int' and 'str'"
     ]
    }
   ],
   "source": [
    "avg(1,'Asid','Asif')"
   ]
  },
  {
   "cell_type": "markdown",
   "metadata": {},
   "source": [
    "Now, avg() is concisely written and works as intended.\n",
    "\n",
    "Still, depending on how this code will be used, there may still be work to do. As written, avg() will produce a TypeError exception if any arguments are non-numeric:"
   ]
  },
  {
   "cell_type": "markdown",
   "metadata": {},
   "source": [
    "To be as robust as possible, you should add code to check that the arguments are of the proper type."
   ]
  },
  {
   "cell_type": "markdown",
   "metadata": {},
   "source": [
    "# Argument Tuple Unpacking\n",
    "\n",
    "An analogous operation is available on the other side of the equation in a Python function call. When an argument in a function call is preceded by an asterisk (*), it indicates that the argument is a tuple that should be unpacked and passed to the function as separate values"
   ]
  },
  {
   "cell_type": "code",
   "execution_count": 73,
   "metadata": {},
   "outputs": [
    {
     "name": "stdout",
     "output_type": "stream",
     "text": [
      "x=1\n",
      "y=2\n",
      "z=4\n",
      "x=1\n",
      "y=2\n",
      "z=3\n"
     ]
    }
   ],
   "source": [
    "def norm(x,y,z):\n",
    "    print(f'x={x}')\n",
    "    print(f'y={y}')\n",
    "    print(f'z={z}')\n",
    "    \n",
    "norm(1,2,4)\n",
    "t=(1,2,3) # Packing all the value in a tuple\n",
    "norm(*t) # unpacking of all the values"
   ]
  },
  {
   "cell_type": "markdown",
   "metadata": {},
   "source": [
    "In this example, *t in the function call indicates that t is a tuple that should be unpacked. The unpacked values 1, 2, and 3 are assigned to the parameters x, y, and z, respectively.\n",
    "\n",
    "Although this type of unpacking is called tuple unpacking, it doesn’t only work with tuples. The asterisk (*) operator can be applied to any iterable in a Python function call. For example, a list or set can be unpacked as well"
   ]
  },
  {
   "cell_type": "code",
   "execution_count": 76,
   "metadata": {},
   "outputs": [
    {
     "name": "stdout",
     "output_type": "stream",
     "text": [
      "x=1\n",
      "y=2\n",
      "z=3\n",
      "x=1\n",
      "y=2\n",
      "z=3\n"
     ]
    }
   ],
   "source": [
    "# List UnPacking\n",
    "a=[1,2,3]\n",
    "norm(*a)\n",
    "# Set packing\n",
    "a={1,2,3}\n",
    "norm(*a)"
   ]
  },
  {
   "cell_type": "markdown",
   "metadata": {},
   "source": [
    "You can even use tuple packing and unpacking at the same time:"
   ]
  },
  {
   "cell_type": "code",
   "execution_count": 88,
   "metadata": {},
   "outputs": [
    {
     "name": "stdout",
     "output_type": "stream",
     "text": [
      "<class 'tuple'> (1, 2, 3, 4)\n"
     ]
    }
   ],
   "source": [
    "def f(*args):\n",
    "    print(type(args),args)\n",
    "    \n",
    "a=[1,2,3,4]\n",
    "f(*a)"
   ]
  },
  {
   "cell_type": "markdown",
   "metadata": {},
   "source": [
    "Here, f(*a) indicates that list a should be unpacked and the items passed to f() as individual values. The parameter specification *args causes the values to be packed back up into the tuple args."
   ]
  },
  {
   "cell_type": "markdown",
   "metadata": {},
   "source": [
    "# Argument Dictionary Packing\n",
    "Python has a similar operator, the double asterisk (**), which can be used with Python function parameters and arguments to specify dictionary packing and unpacking. Preceding a parameter in a Python function definition by a double asterisk (**) indicates that the corresponding arguments, which are expected to be key=value pairs, should be packed into a dictionary:"
   ]
  },
  {
   "cell_type": "code",
   "execution_count": 96,
   "metadata": {},
   "outputs": [
    {
     "name": "stdout",
     "output_type": "stream",
     "text": [
      "<class 'dict'>\n",
      "{'name': 'Sifat', 'age': 24, 'place': 'Dubai'}\n"
     ]
    }
   ],
   "source": [
    "# This is a simple argument dictionary \n",
    "def f(**kwargs):\n",
    "    print(type(kwargs))\n",
    "    print(kwargs)\n",
    "    \n",
    "f(name='Sifat',age=24,place='Dubai')"
   ]
  },
  {
   "cell_type": "code",
   "execution_count": 94,
   "metadata": {},
   "outputs": [
    {
     "name": "stdout",
     "output_type": "stream",
     "text": [
      "<class 'dict'>\n",
      "name -> Arfat\n",
      "age -> 25\n",
      "place -> london\n"
     ]
    }
   ],
   "source": [
    "# This is a \n",
    "def f(**kwargs):\n",
    "    print(type(kwargs))\n",
    "    \n",
    "    for key,value in kwargs.items():\n",
    "        print(key, '->' ,value)\n",
    "    \n",
    "f(name='Arfat',age=25,place='london')"
   ]
  },
  {
   "cell_type": "markdown",
   "metadata": {},
   "source": [
    "In this case, the arguments name='sifat', age=25, and place='dubai' are packed into a dictionary that the function can reference by the name kwargs. Again, any name can be used, but the peculiar kwargs (which is short for keyword args) is nearly standard. You don’t have to adhere to it, but if you do, then anyone familiar with Python coding conventions will know straightaway what you mean."
   ]
  },
  {
   "cell_type": "markdown",
   "metadata": {},
   "source": [
    "# Argument Dictionary Unpacking\n",
    "\n",
    "Argument dictionary unpacking is analogous to argument tuple unpacking. When the double asterisk (**) precedes an argument in a Python function call, it specifies that the argument is a dictionary that should be unpacked, with the resulting items passed to the function as keyword arguments:"
   ]
  },
  {
   "cell_type": "code",
   "execution_count": 108,
   "metadata": {},
   "outputs": [
    {
     "name": "stdout",
     "output_type": "stream",
     "text": [
      "name=Yogesh\n",
      "age=24\n",
      "place=oslo\n"
     ]
    }
   ],
   "source": [
    "def f(name,age,place):\n",
    "    print(F'name={name}')\n",
    "    print(F'age={age}')\n",
    "    print(F'place={place}')\n",
    "d={'name':'Yogesh','age':24,'place':'oslo'}\n",
    "f(**d)"
   ]
  },
  {
   "cell_type": "markdown",
   "metadata": {},
   "source": [
    " The items in the dictionary d are unpacked and passed to f() as keyword arguments. So, f(**d) is equivalent to f(name='yogesh', age=25, place='oslo'):"
   ]
  },
  {
   "cell_type": "code",
   "execution_count": 109,
   "metadata": {},
   "outputs": [
    {
     "name": "stdout",
     "output_type": "stream",
     "text": [
      "name=Sanjay\n",
      "age=25\n",
      "place=london\n"
     ]
    }
   ],
   "source": [
    "f(**dict(name='Sanjay',age=25,place='london'))"
   ]
  },
  {
   "cell_type": "markdown",
   "metadata": {},
   "source": [
    "Here, dict(name='Sanjay', age=25, place='london') creates a dictionary from the specified key/value pairs. Then, the double asterisk operator (**) unpacks it and passes the keywords to f()."
   ]
  },
  {
   "cell_type": "markdown",
   "metadata": {},
   "source": [
    "# Putting It All Together\n",
    "\n",
    "All three—standard positional parameters, *args, and **kwargs—can be used in one Python function definition. If so, then they should be specified in that order:"
   ]
  },
  {
   "cell_type": "code",
   "execution_count": 113,
   "metadata": {},
   "outputs": [
    {
     "name": "stdout",
     "output_type": "stream",
     "text": [
      "a=1\n",
      "b=2\n",
      "args=('London', 'New York', 'Lauterbrunnen')\n",
      "kwargs={'x': 100, 'y': 200, 'z': 400}\n"
     ]
    }
   ],
   "source": [
    "def f(a,b,*args,**kwargs):\n",
    "    print(f'a={a}')\n",
    "    print(f'b={b}')\n",
    "    print(f'args={args}')\n",
    "    print(f'kwargs={kwargs}')\n",
    "    \n",
    "f(1,2,'London','New York','Lauterbrunnen',x=100,y=200,z=400)"
   ]
  },
  {
   "cell_type": "markdown",
   "metadata": {},
   "source": [
    "This provides just about as much flexibility as you could ever need in a function interface!"
   ]
  },
  {
   "cell_type": "markdown",
   "metadata": {},
   "source": [
    "# Multiple Unpackings in a Python Function Call\n",
    "\n",
    "Python version 3.5 introduced support for additional unpacking generalizations, as outlined in PEP 448. One thing these enhancements allow is multiple unpackings in a single Python function call:"
   ]
  },
  {
   "cell_type": "code",
   "execution_count": 114,
   "metadata": {},
   "outputs": [
    {
     "name": "stdout",
     "output_type": "stream",
     "text": [
      "1\n",
      "2\n",
      "3\n",
      "3\n",
      "4\n",
      "5\n",
      "8\n",
      "9\n"
     ]
    }
   ],
   "source": [
    "def f(*args):\n",
    "    for i in args:\n",
    "        print(i)\n",
    "a=(1,2,3)\n",
    "b=[3,4,5]\n",
    "c={8,9,8}\n",
    "f(*a,*b,*c)"
   ]
  },
  {
   "cell_type": "markdown",
   "metadata": {},
   "source": [
    "You can specify multiple dictionary unpackings in a Python function call as well:"
   ]
  },
  {
   "cell_type": "code",
   "execution_count": 120,
   "metadata": {},
   "outputs": [
    {
     "name": "stdout",
     "output_type": "stream",
     "text": [
      "name -> asid\n",
      "age -> 25\n",
      "place -> copehnagen\n",
      "name1 -> as\n",
      "age1 -> 45\n",
      "place1 -> greenland\n"
     ]
    }
   ],
   "source": [
    "def f(**kwargs):\n",
    "    for key,value in kwargs.items():\n",
    "        print(key, '->',value)\n",
    "        \n",
    "d1={'name':'asid','age':25,'place':'copehnagen'}\n",
    "d2={'name1':'as','age1':45,'place1':'greenland'}\n",
    "f(**d1,**d2)"
   ]
  },
  {
   "cell_type": "markdown",
   "metadata": {},
   "source": [
    "By the way, the unpacking operators * and ** don’t apply only to variables, as in the examples above. You can also use them with literals that are iterable:"
   ]
  },
  {
   "cell_type": "code",
   "execution_count": 133,
   "metadata": {},
   "outputs": [
    {
     "name": "stdout",
     "output_type": "stream",
     "text": [
      "<class 'dict'>\n",
      "kwargs={'1': 2, '4': 5}\n"
     ]
    }
   ],
   "source": [
    "def f(**kwargs):\n",
    "    print(type(kwargs))\n",
    "    print(f'kwargs={kwargs}')\n",
    "        \n",
    "f(**{'1':2},**{'4':5})"
   ]
  },
  {
   "cell_type": "code",
   "execution_count": 138,
   "metadata": {},
   "outputs": [
    {
     "name": "stdout",
     "output_type": "stream",
     "text": [
      "<class 'tuple'>\n",
      "args=(1, 2, 3, 1, 5, 6)\n",
      "1 2 3 1 5 6 "
     ]
    }
   ],
   "source": [
    "def f(*args):\n",
    "    print(type(args))\n",
    "    print(f'args={args}')\n",
    "    for i in args:\n",
    "        print(i,end=\" \")\n",
    "        \n",
    "f(*[1,2,3],*[1,5,6])"
   ]
  },
  {
   "cell_type": "markdown",
   "metadata": {},
   "source": [
    "# Keyword-Only Arguments\n",
    "A Python function in version 3.x can be defined so that it takes keyword-only arguments. These are function arguments that must be specified by keyword. Let’s explore a situation where this might be beneficial.\n",
    "\n",
    "Suppose you want to write a Python function that takes a variable number of string arguments, concatenates them together separated by a dot (\".\"), and prints them to the console. Something like this will do to start:"
   ]
  },
  {
   "cell_type": "code",
   "execution_count": 4,
   "metadata": {},
   "outputs": [
    {
     "name": "stdout",
     "output_type": "stream",
     "text": [
      "-> a.b.c\n"
     ]
    }
   ],
   "source": [
    "def concat(*args):\n",
    "    print(f'-> {\".\".join(args)}')\n",
    "    \n",
    "concat('a','b','c')"
   ]
  },
  {
   "cell_type": "code",
   "execution_count": 23,
   "metadata": {},
   "outputs": [
    {
     "name": "stdout",
     "output_type": "stream",
     "text": [
      "lama-fernades\n"
     ]
    }
   ],
   "source": [
    "def concat_name(*args):\n",
    "    print(f'{\"-\".join(args)}')\n",
    "    \n",
    "concat_name('lama','fernades')"
   ]
  },
  {
   "cell_type": "markdown",
   "metadata": {},
   "source": [
    "As it stands, the output prefix is hard-coded to the string '-> '. What if you want to modify the function to accept this as an argument as well, so the user can specify something else? This is one possibility:"
   ]
  },
  {
   "cell_type": "code",
   "execution_count": 26,
   "metadata": {},
   "outputs": [
    {
     "name": "stdout",
     "output_type": "stream",
     "text": [
      "->a.b.c\n",
      "-a.c.d\n"
     ]
    }
   ],
   "source": [
    "def concat(prefix,*args):\n",
    "    print(f'{prefix}{\".\".join(args)}')\n",
    "    \n",
    "concat('->','a','b','c')\n",
    "concat('-',\"a\",\"c\",\"d\")"
   ]
  },
  {
   "cell_type": "markdown",
   "metadata": {},
   "source": [
    "This works as advertised, but there are a couple of undesirable things about this solution:\n",
    "\n",
    "1.The prefix string is lumped together with the strings to be concatenated. Just from looking at the function call, it isn’t clear that the first argument is treated differently from the rest. To know that, you’d have to go back and look at the function definition.\n",
    "\n",
    "2.prefix isn’t optional. It always has to be included, and there’s no way to assume a default value.\n",
    "\n",
    "You might think you could overcome the second issue by specifying a parameter with a default value, like this perhaps in the below cell"
   ]
  },
  {
   "cell_type": "code",
   "execution_count": 27,
   "metadata": {},
   "outputs": [
    {
     "name": "stdout",
     "output_type": "stream",
     "text": [
      "ab.c\n"
     ]
    }
   ],
   "source": [
    "def concat(prefix=\"_>\",*args):\n",
    "    print(f'{prefix}{\".\".join(args)}')\n",
    "    \n",
    "concat(\"a\",\"b\",\"c\")"
   ]
  },
  {
   "cell_type": "markdown",
   "metadata": {},
   "source": [
    "Unfortunately, this doesn’t work quite right. prefix is a positional parameter, so the interpreter assumes that the first argument specified in the function call is the intended output prefix. This means there isn’t any way to omit it and obtain the default value:"
   ]
  },
  {
   "cell_type": "markdown",
   "metadata": {},
   "source": [
    "What if you try to specify prefix as a keyword argument? Well, you can’t specify it first:"
   ]
  },
  {
   "cell_type": "code",
   "execution_count": 28,
   "metadata": {},
   "outputs": [
    {
     "ename": "SyntaxError",
     "evalue": "positional argument follows keyword argument (<ipython-input-28-88f0aacf5bf0>, line 1)",
     "output_type": "error",
     "traceback": [
      "\u001b[1;36m  File \u001b[1;32m\"<ipython-input-28-88f0aacf5bf0>\"\u001b[1;36m, line \u001b[1;32m1\u001b[0m\n\u001b[1;33m    concat(prefix=\"//\",\"a\",\"b\",\"c\")\u001b[0m\n\u001b[1;37m                       ^\u001b[0m\n\u001b[1;31mSyntaxError\u001b[0m\u001b[1;31m:\u001b[0m positional argument follows keyword argument\n"
     ]
    }
   ],
   "source": [
    "concat(prefix=\"//\",\"a\",\"b\",\"c\")"
   ]
  },
  {
   "cell_type": "markdown",
   "metadata": {},
   "source": [
    "As you’ve seen previously, when both types of arguments are given, all positional arguments must come before any keyword arguments.\n",
    "\n",
    "However, you can’t specify it last either:"
   ]
  },
  {
   "cell_type": "code",
   "execution_count": 29,
   "metadata": {},
   "outputs": [
    {
     "ename": "TypeError",
     "evalue": "concat() got multiple values for argument 'prefix'",
     "output_type": "error",
     "traceback": [
      "\u001b[1;31m---------------------------------------------------------------------------\u001b[0m",
      "\u001b[1;31mTypeError\u001b[0m                                 Traceback (most recent call last)",
      "\u001b[1;32m<ipython-input-29-6f45f0f7bc98>\u001b[0m in \u001b[0;36m<module>\u001b[1;34m\u001b[0m\n\u001b[1;32m----> 1\u001b[1;33m \u001b[0mconcat\u001b[0m\u001b[1;33m(\u001b[0m\u001b[1;34m'a'\u001b[0m\u001b[1;33m,\u001b[0m\u001b[1;34m'b'\u001b[0m\u001b[1;33m,\u001b[0m\u001b[1;34m'c'\u001b[0m\u001b[1;33m,\u001b[0m\u001b[0mprefix\u001b[0m\u001b[1;33m=\u001b[0m\u001b[1;34m'//'\u001b[0m\u001b[1;33m)\u001b[0m\u001b[1;33m\u001b[0m\u001b[1;33m\u001b[0m\u001b[0m\n\u001b[0m",
      "\u001b[1;31mTypeError\u001b[0m: concat() got multiple values for argument 'prefix'"
     ]
    }
   ],
   "source": [
    "concat('a','b','c',prefix='//')"
   ]
  },
  {
   "cell_type": "markdown",
   "metadata": {},
   "source": [
    "Again, prefix is a positional parameter, so it’s assigned the first argument specified in the call (which is 'a' in this case). Then, when it’s specified again as a keyword argument at the end, Python thinks it’s been assigned twice."
   ]
  },
  {
   "cell_type": "markdown",
   "metadata": {},
   "source": [
    "# Solution\n",
    "\n",
    "Keyword-only parameters help solve this dilemma. In the function definition, specify *args to indicate a variable number of positional arguments, and then specify prefix after that:"
   ]
  },
  {
   "cell_type": "code",
   "execution_count": 32,
   "metadata": {},
   "outputs": [
    {
     "data": {
      "text/plain": [
       "'->a.b.c'"
      ]
     },
     "execution_count": 32,
     "metadata": {},
     "output_type": "execute_result"
    }
   ],
   "source": [
    "def concat(*args,prefix):\n",
    "    return(f'{prefix}{\".\".join(args)}')\n",
    "           \n",
    "concat('a','b','c',prefix=\"->\")"
   ]
  },
  {
   "cell_type": "markdown",
   "metadata": {},
   "source": [
    "Note that this is only possible in Python 3. In versions 2.x of Python, specifying additional parameters after the *args variable arguments parameter raises an error.\n",
    "\n",
    "Keyword-only arguments allow a Python function to take a variable number of arguments, followed by one or more additional options as keyword arguments. If you wanted to modify concat() so that the separator character can optionally be specified as well, then you could add an additional keyword-only argument:"
   ]
  },
  {
   "cell_type": "code",
   "execution_count": 48,
   "metadata": {},
   "outputs": [
    {
     "name": "stdout",
     "output_type": "stream",
     "text": [
      "-<a.b.c\n",
      "...Mukesh-Tata-Piramal\n"
     ]
    }
   ],
   "source": [
    "# Keyword only argument with a separator\n",
    "def separator_arguments(*args,prefix,sep=\".\"):\n",
    "    \n",
    "    print(f'{prefix}{sep.join(args)}')\n",
    "          \n",
    "s=separator_arguments('a','b','c',prefix='-<')\n",
    "s\n",
    "f=separator_arguments('Mukesh','Tata','Piramal',prefix=\"...\",sep=\"-\")\n",
    "f"
   ]
  },
  {
   "cell_type": "markdown",
   "metadata": {},
   "source": [
    "If a keyword-only parameter is given a default value in the function definition (as it is in the example above), and the keyword is omitted when the function is called, then the default value is supplied:"
   ]
  },
  {
   "cell_type": "code",
   "execution_count": 58,
   "metadata": {},
   "outputs": [
    {
     "name": "stdout",
     "output_type": "stream",
     "text": [
      " a.b.v\n"
     ]
    }
   ],
   "source": [
    "def default_prefix(*args,prefix=\" \"):\n",
    "    print(f'{prefix}{\".\".join(args)}')\n",
    "    \n",
    "default_prefix('a','b','v')"
   ]
  },
  {
   "cell_type": "markdown",
   "metadata": {},
   "source": [
    "If, on the other hand, the parameter isn’t given a default value, then it becomes required, and failure to specify it results in an error:"
   ]
  },
  {
   "cell_type": "code",
   "execution_count": 61,
   "metadata": {},
   "outputs": [
    {
     "ename": "TypeError",
     "evalue": "error_parameter() missing 1 required keyword-only argument: 'prefix'",
     "output_type": "error",
     "traceback": [
      "\u001b[1;31m---------------------------------------------------------------------------\u001b[0m",
      "\u001b[1;31mTypeError\u001b[0m                                 Traceback (most recent call last)",
      "\u001b[1;32m<ipython-input-61-ea2de33c85fc>\u001b[0m in \u001b[0;36m<module>\u001b[1;34m\u001b[0m\n\u001b[0;32m      3\u001b[0m     \u001b[0mprint\u001b[0m\u001b[1;33m(\u001b[0m\u001b[1;34mf'{prefix}{\".\".join(args)}'\u001b[0m\u001b[1;33m)\u001b[0m\u001b[1;33m\u001b[0m\u001b[1;33m\u001b[0m\u001b[0m\n\u001b[0;32m      4\u001b[0m \u001b[1;33m\u001b[0m\u001b[0m\n\u001b[1;32m----> 5\u001b[1;33m \u001b[0merror_parameter\u001b[0m\u001b[1;33m(\u001b[0m\u001b[1;34m'a'\u001b[0m\u001b[1;33m,\u001b[0m\u001b[1;34m'b'\u001b[0m\u001b[1;33m,\u001b[0m\u001b[1;34m'c'\u001b[0m\u001b[1;33m)\u001b[0m\u001b[1;33m\u001b[0m\u001b[1;33m\u001b[0m\u001b[0m\n\u001b[0m",
      "\u001b[1;31mTypeError\u001b[0m: error_parameter() missing 1 required keyword-only argument: 'prefix'"
     ]
    }
   ],
   "source": [
    "def error_parameter(*args,prefix):\n",
    "    \n",
    "    print(f'{prefix}{\".\".join(args)}')\n",
    "    \n",
    "error_parameter('a','b','c')"
   ]
  },
  {
   "cell_type": "markdown",
   "metadata": {},
   "source": [
    "What if you want to define a Python function that takes a keyword-only argument but doesn’t take a variable number of positional arguments? For example, the following function performs the specified operation on two numerical arguments:"
   ]
  },
  {
   "cell_type": "code",
   "execution_count": 62,
   "metadata": {},
   "outputs": [
    {
     "data": {
      "text/plain": [
       "7"
      ]
     },
     "execution_count": 62,
     "metadata": {},
     "output_type": "execute_result"
    }
   ],
   "source": [
    "# Normal Function with keyword_parameter as addition\n",
    "def oper(x,y,op=\"+\"):\n",
    "    \n",
    "    return x+y\n",
    "oper(3,4)"
   ]
  },
  {
   "cell_type": "code",
   "execution_count": 83,
   "metadata": {},
   "outputs": [
    {
     "data": {
      "text/plain": [
       "True"
      ]
     },
     "execution_count": 83,
     "metadata": {},
     "output_type": "execute_result"
    }
   ],
   "source": [
    "def oper_subject(x,y,op=\"+\"):\n",
    "    if op==\"+\":\n",
    "        return x+y\n",
    "    elif op==\"-\":\n",
    "        return x-y\n",
    "    else:\n",
    "        return True\n",
    "\n",
    "oper_subject(3,4,op=\" \")"
   ]
  },
  {
   "cell_type": "markdown",
   "metadata": {},
   "source": [
    "If you wanted to make op a keyword-only parameter, then you could add an extraneous dummy variable argument parameter and just ignore it:"
   ]
  },
  {
   "cell_type": "code",
   "execution_count": 94,
   "metadata": {},
   "outputs": [
    {
     "data": {
      "text/plain": [
       "7"
      ]
     },
     "execution_count": 94,
     "metadata": {},
     "output_type": "execute_result"
    }
   ],
   "source": [
    "def func(x,y,*ignore,op):\n",
    "    if op==\"+\":\n",
    "        return x+y\n",
    "    \n",
    "    elif op==\"-\":\n",
    "        return x-y\n",
    "    else:\n",
    "        return None \n",
    "    \n",
    "func(3,4,op=\"+\")"
   ]
  },
  {
   "cell_type": "markdown",
   "metadata": {},
   "source": [
    "The problem with this solution is that *ignore absorbs any extraneous positional arguments that might happen to be included"
   ]
  },
  {
   "cell_type": "code",
   "execution_count": 95,
   "metadata": {},
   "outputs": [
    {
     "data": {
      "text/plain": [
       "7"
      ]
     },
     "execution_count": 95,
     "metadata": {},
     "output_type": "execute_result"
    }
   ],
   "source": [
    "func(3,4,5,6,7,op=\"+\")"
   ]
  },
  {
   "cell_type": "markdown",
   "metadata": {},
   "source": [
    "In this example, the extra argument shouldn’t be there (as the argument itself announces). Instead of quietly succeeding, it should really result in an error. The fact that it doesn’t is untidy at best. At worst, it may cause a result that appears misleading:"
   ]
  },
  {
   "cell_type": "code",
   "execution_count": 96,
   "metadata": {},
   "outputs": [
    {
     "data": {
      "text/plain": [
       "7"
      ]
     },
     "execution_count": 96,
     "metadata": {},
     "output_type": "execute_result"
    }
   ],
   "source": [
    "func(3,4,'/',op=\"+\")"
   ]
  },
  {
   "cell_type": "markdown",
   "metadata": {},
   "source": [
    "To remedy this, version 3 allows a variable argument parameter in a Python function definition to be just a bare asterisk (*), with the name omitted:"
   ]
  },
  {
   "cell_type": "code",
   "execution_count": 101,
   "metadata": {},
   "outputs": [
    {
     "data": {
      "text/plain": [
       "-4"
      ]
     },
     "execution_count": 101,
     "metadata": {},
     "output_type": "execute_result"
    }
   ],
   "source": [
    "def operation_maths(x,y,z,*,op=\"+\"):\n",
    "    if op==\"+\":\n",
    "        return x+y+z\n",
    "    elif op==\"-\":\n",
    "        return x-y-z\n",
    "    else:\n",
    "        return None\n",
    "    \n",
    "operation_maths(1,2,3,op='-')"
   ]
  },
  {
   "cell_type": "code",
   "execution_count": 102,
   "metadata": {},
   "outputs": [
    {
     "ename": "TypeError",
     "evalue": "operation_maths() takes 3 positional arguments but 4 were given",
     "output_type": "error",
     "traceback": [
      "\u001b[1;31m---------------------------------------------------------------------------\u001b[0m",
      "\u001b[1;31mTypeError\u001b[0m                                 Traceback (most recent call last)",
      "\u001b[1;32m<ipython-input-102-ea1f1d376228>\u001b[0m in \u001b[0;36m<module>\u001b[1;34m\u001b[0m\n\u001b[1;32m----> 1\u001b[1;33m \u001b[0moperation_maths\u001b[0m\u001b[1;33m(\u001b[0m\u001b[1;36m1\u001b[0m\u001b[1;33m,\u001b[0m\u001b[1;36m2\u001b[0m\u001b[1;33m,\u001b[0m\u001b[1;36m3\u001b[0m\u001b[1;33m,\u001b[0m\u001b[1;36m4\u001b[0m\u001b[1;33m)\u001b[0m\u001b[1;33m\u001b[0m\u001b[1;33m\u001b[0m\u001b[0m\n\u001b[0m",
      "\u001b[1;31mTypeError\u001b[0m: operation_maths() takes 3 positional arguments but 4 were given"
     ]
    }
   ],
   "source": [
    "operation_maths(1,2,3,4)"
   ]
  },
  {
   "cell_type": "markdown",
   "metadata": {},
   "source": [
    "The bare variable argument parameter * indicates that there aren’t any more positional parameters. This behavior generates appropriate error messages if extra ones are specified. It allows keyword-only parameters to follow."
   ]
  },
  {
   "cell_type": "markdown",
   "metadata": {},
   "source": [
    "# Positionally-Only Arguments:-\n",
    "\n",
    "As of Python 3.8, function parameters can also be declared positional-only, meaning the corresponding arguments must be supplied positionally and can’t be specified by keyword.\n",
    "\n",
    "To designate some parameters as positional-only, you specify a bare slash (/) in the parameter list of a function definition. Any parameters to the left of the slash (/) must be specified positionally. For example, in the following function definition, x and y are positional-only parameters, but z may be specified by keyword:"
   ]
  },
  {
   "cell_type": "code",
   "execution_count": 120,
   "metadata": {},
   "outputs": [
    {
     "name": "stdout",
     "output_type": "stream",
     "text": [
      "x=3,y=4,z=5\n",
      "x=3,y=4,z=6\n"
     ]
    }
   ],
   "source": [
    "def position_arguments(x,y,/,z):\n",
    "    print(f'x={x}',end=\",\")\n",
    "    print(f'y={y}',end=\",\")\n",
    "    print(f'z={z}')\n",
    "    \n",
    "s=position_arguments(3,4,5)\n",
    "s\n",
    "position_arguments(3,4,z=6)\n",
    "f"
   ]
  },
  {
   "cell_type": "markdown",
   "metadata": {},
   "source": [
    "The following call to f(), however, is not valid:"
   ]
  },
  {
   "cell_type": "code",
   "execution_count": 122,
   "metadata": {},
   "outputs": [
    {
     "ename": "TypeError",
     "evalue": "position_arguments() got some positional-only arguments passed as keyword arguments: 'x, y'",
     "output_type": "error",
     "traceback": [
      "\u001b[1;31m---------------------------------------------------------------------------\u001b[0m",
      "\u001b[1;31mTypeError\u001b[0m                                 Traceback (most recent call last)",
      "\u001b[1;32m<ipython-input-122-773a04dee8ac>\u001b[0m in \u001b[0;36m<module>\u001b[1;34m\u001b[0m\n\u001b[1;32m----> 1\u001b[1;33m \u001b[0mposition_arguments\u001b[0m\u001b[1;33m(\u001b[0m\u001b[0mx\u001b[0m\u001b[1;33m=\u001b[0m\u001b[1;36m1\u001b[0m\u001b[1;33m,\u001b[0m\u001b[0my\u001b[0m\u001b[1;33m=\u001b[0m\u001b[1;36m2\u001b[0m\u001b[1;33m,\u001b[0m\u001b[0mz\u001b[0m\u001b[1;33m=\u001b[0m\u001b[1;36m3\u001b[0m\u001b[1;33m)\u001b[0m\u001b[1;33m\u001b[0m\u001b[1;33m\u001b[0m\u001b[0m\n\u001b[0m",
      "\u001b[1;31mTypeError\u001b[0m: position_arguments() got some positional-only arguments passed as keyword arguments: 'x, y'"
     ]
    }
   ],
   "source": [
    "position_arguments(x=1,y=2,z=3)"
   ]
  },
  {
   "cell_type": "markdown",
   "metadata": {},
   "source": [
    "The positional-only and keyword-only designators may both be used in the same function definition:"
   ]
  },
  {
   "cell_type": "code",
   "execution_count": 127,
   "metadata": {},
   "outputs": [
    {
     "name": "stdout",
     "output_type": "stream",
     "text": [
      "1 2 3 4 5 6\n"
     ]
    }
   ],
   "source": [
    "def same_function(x,y,/,z,w,a,b):\n",
    "    print(x,y,z,w,a,b)\n",
    "    \n",
    "same_function(1,2,z=3,w=4,a=5,b=6)"
   ]
  },
  {
   "cell_type": "markdown",
   "metadata": {},
   "source": [
    "In this example:\n",
    "\n",
    "x and y are positional-only.\n",
    "\n",
    "a and b are keyword-only.\n",
    "\n",
    "z and w may be specified positionally or by keyword."
   ]
  },
  {
   "cell_type": "markdown",
   "metadata": {},
   "source": [
    "# DOCSTRING\n",
    "\n",
    "When the first statement in the body of a Python function is a string literal, it’s known as the function’s docstring. A docstring is used to supply documentation for a function. It can contain the function’s purpose, what arguments it takes, information about return values, or any other information you think would be useful."
   ]
  },
  {
   "cell_type": "code",
   "execution_count": 133,
   "metadata": {},
   "outputs": [
    {
     "data": {
      "text/plain": [
       "7"
      ]
     },
     "execution_count": 133,
     "metadata": {},
     "output_type": "execute_result"
    }
   ],
   "source": [
    "def func_addition(a,b,*args):\n",
    "    # This  \"\"\"This is addition of two numbers\"\"\" is the documentation of the function so we can understand what the body of \n",
    "    # function is doing.\n",
    "    \"\"\"This is addition of two numbers\"\"\" # DocString\n",
    "    return a+b\n",
    "func_addition(3,4)"
   ]
  },
  {
   "cell_type": "markdown",
   "metadata": {},
   "source": [
    "Technically, docstrings can use any of Python’s quoting mechanisms, but the recommended convention is to triple-quote using double-quote characters (\"\"\"), as shown above. If the docstring fits on one line, then the closing quotes should be on the same line as the opening quotes."
   ]
  },
  {
   "cell_type": "markdown",
   "metadata": {},
   "source": [
    "Multi-line docstrings are used for lengthier documentation. A multi-line docstring should consist of a summary line, followed by a blank line, followed by a more detailed description. The closing quotes should be on a line by themselves\n",
    "\n",
    "We are using this operation_sub function to only implement the Multi-line doctrings.The example is shown below:"
   ]
  },
  {
   "cell_type": "code",
   "execution_count": 139,
   "metadata": {},
   "outputs": [
    {
     "data": {
      "text/plain": [
       "True"
      ]
     },
     "execution_count": 139,
     "metadata": {},
     "output_type": "execute_result"
    }
   ],
   "source": [
    "def operation_sub(a,b,*args,op=\"+\"):\n",
    "    \"\"\"This is the addition of two numbers\n",
    "    Where we are using op as a keyword only arguments\n",
    "    and a,b as a positionally arguments\"\"\"\n",
    "    \n",
    "    if op==\"+\":\n",
    "        return a+b\n",
    "    elif op==\"-\":\n",
    "        return a-b\n",
    "    else:\n",
    "        return True\n",
    "\n",
    "operation_sub(3,4,op='/')"
   ]
  },
  {
   "cell_type": "markdown",
   "metadata": {},
   "source": [
    "When a docstring is defined, the Python interpreter assigns it to a special attribute of the function called __doc__. This attribute is one of a set of specialized identifiers in Python that are sometimes called magic attributes or magic methods because they provide special language functionality.\n",
    "\n",
    "These attributes are also referred to by the colorful nickname dunder attributes and dunder methods. The word dunder combines the d from double and under from the underscore character (_). \n",
    "\n",
    "You can access a function’s docstring with the expression <function_name>.__doc__. The docstrings for the above examples can be displayed as follows:"
   ]
  },
  {
   "cell_type": "code",
   "execution_count": 143,
   "metadata": {},
   "outputs": [
    {
     "name": "stdout",
     "output_type": "stream",
     "text": [
      "This is the addition of two numbers\n",
      "    Where we are using op as a keyword only arguments\n",
      "    and a,b as a positionally arguments\n"
     ]
    }
   ],
   "source": [
    "print(operation_sub.__doc__)"
   ]
  },
  {
   "cell_type": "code",
   "execution_count": 144,
   "metadata": {},
   "outputs": [
    {
     "name": "stdout",
     "output_type": "stream",
     "text": [
      "Help on function operation_sub in module __main__:\n",
      "\n",
      "operation_sub(a, b, *args, op='+')\n",
      "    This is the addition of two numbers\n",
      "    Where we are using op as a keyword only arguments\n",
      "    and a,b as a positionally arguments\n",
      "\n"
     ]
    }
   ],
   "source": [
    "help(operation_sub)"
   ]
  },
  {
   "cell_type": "markdown",
   "metadata": {},
   "source": [
    "It’s considered good coding practice to specify a docstring for each Python function you define"
   ]
  },
  {
   "cell_type": "markdown",
   "metadata": {},
   "source": [
    "# Python Function Annotations\n",
    "\n",
    "Python provides an additional feature for documenting a function called a function annotation. Annotations provide a way to attach metadata to a function’s parameters and return value.\n",
    "\n",
    "To add an annotation to a Python function parameter, insert a colon (:) followed by any expression after the parameter name in the function definition. To add an annotation to the return value, add the characters -> and any expression between the closing parenthesis of the parameter list and the colon that terminates the function header."
   ]
  },
  {
   "cell_type": "code",
   "execution_count": 146,
   "metadata": {},
   "outputs": [],
   "source": [
    "def function_annotation(a:'<a>',b:'<b>') -> ('ret-value'):\n",
    "    pass"
   ]
  },
  {
   "cell_type": "markdown",
   "metadata": {},
   "source": [
    "The annotation for parameter a is the string '<a>', for b the string '<b>', and for the function return value the string '<ret_value>'.\n",
    "\n",
    "The Python interpreter creates a dictionary from the annotations and assigns them to another special dunder attribute of the function called __annotations__. "
   ]
  },
  {
   "cell_type": "code",
   "execution_count": 148,
   "metadata": {},
   "outputs": [
    {
     "data": {
      "text/plain": [
       "{'a': '<a>', 'b': '<b>', 'return': 'ret-value'}"
      ]
     },
     "execution_count": 148,
     "metadata": {},
     "output_type": "execute_result"
    }
   ],
   "source": [
    "function_annotation.__annotations__"
   ]
  },
  {
   "cell_type": "code",
   "execution_count": 154,
   "metadata": {},
   "outputs": [
    {
     "data": {
      "text/plain": [
       "'<a>'"
      ]
     },
     "execution_count": 154,
     "metadata": {},
     "output_type": "execute_result"
    }
   ],
   "source": [
    "function_annotation.__annotations__['a']\n",
    "#function_annotation.__annotations__['return']\n",
    "#function_annotation.__annotations__['b']"
   ]
  },
  {
   "cell_type": "markdown",
   "metadata": {},
   "source": [
    "Note that annotations aren’t restricted to string values. They can be any expression or object. For example, you might annotate with type objects:"
   ]
  },
  {
   "cell_type": "code",
   "execution_count": 165,
   "metadata": {},
   "outputs": [
    {
     "name": "stdout",
     "output_type": "stream",
     "text": [
      "1 foo\n",
      "{'a': <class 'int'>, 'b': <class 'str'>, 'return': 'float'}\n"
     ]
    }
   ],
   "source": [
    "def annotation_string(a: int,b: str) -> 'float':\n",
    "    print(a,b)\n",
    "    return(3.5)\n",
    "\n",
    "annotation_string(1,'foo')\n",
    "s=annotation_string.__annotations__\n",
    "print(s)"
   ]
  },
  {
   "cell_type": "markdown",
   "metadata": {},
   "source": [
    "An annotation can even be a composite object like a list or a dictionary, so it’s possible to attach multiple items of metadata to the parameters and return value:"
   ]
  },
  {
   "cell_type": "code",
   "execution_count": 166,
   "metadata": {},
   "outputs": [],
   "source": [
    " def area(\n",
    "       r: {\n",
    "           'desc': 'radius of circle',\n",
    "            'type': float\n",
    "          }) -> \\\n",
    "       {\n",
    "          'desc': 'area of circle',\n",
    "          'type': float\n",
    "       }:\n",
    "\n",
    "        return 3.14159 * (r ** 2)"
   ]
  },
  {
   "cell_type": "code",
   "execution_count": 168,
   "metadata": {},
   "outputs": [
    {
     "data": {
      "text/plain": [
       "63.617197499999996"
      ]
     },
     "execution_count": 168,
     "metadata": {},
     "output_type": "execute_result"
    }
   ],
   "source": [
    "area(4.5)"
   ]
  },
  {
   "cell_type": "code",
   "execution_count": 172,
   "metadata": {},
   "outputs": [
    {
     "data": {
      "text/plain": [
       "{'r': {'desc': 'radius of circle', 'type': float},\n",
       " 'return': {'desc': 'area of circle', 'type': float}}"
      ]
     },
     "execution_count": 172,
     "metadata": {},
     "output_type": "execute_result"
    }
   ],
   "source": [
    "area.__annotations__"
   ]
  },
  {
   "cell_type": "code",
   "execution_count": 175,
   "metadata": {},
   "outputs": [
    {
     "data": {
      "text/plain": [
       "'radius of circle'"
      ]
     },
     "execution_count": 175,
     "metadata": {},
     "output_type": "execute_result"
    }
   ],
   "source": [
    "area.__annotations__['r']['desc']"
   ]
  },
  {
   "cell_type": "code",
   "execution_count": 181,
   "metadata": {},
   "outputs": [
    {
     "name": "stdout",
     "output_type": "stream",
     "text": [
      "<class 'float'>\n"
     ]
    }
   ],
   "source": [
    "s=area.__annotations__['return']['type']\n",
    "print(s)"
   ]
  },
  {
   "cell_type": "markdown",
   "metadata": {},
   "source": [
    "In the example above, an annotation is attached to the parameter r and to the return value. Each annotation is a dictionary containing a string description and a type object.\n",
    "\n",
    "If you want to assign a default value to a parameter that has an annotation, then the default value goes after the annotation:"
   ]
  },
  {
   "cell_type": "code",
   "execution_count": 187,
   "metadata": {},
   "outputs": [
    {
     "name": "stdout",
     "output_type": "stream",
     "text": [
      "{'a': <class 'int'>, 'b': <class 'str'>, 'return': 'float'}\n"
     ]
    }
   ],
   "source": [
    "def default(a:int=12,b:str='baz') -> 'float':\n",
    "    print(a,b)\n",
    "    return(3.5)\n",
    "\n",
    "s=default.__annotations__\n",
    "print(s)"
   ]
  },
  {
   "cell_type": "code",
   "execution_count": 188,
   "metadata": {},
   "outputs": [
    {
     "name": "stdout",
     "output_type": "stream",
     "text": [
      "12 baz\n"
     ]
    },
    {
     "data": {
      "text/plain": [
       "3.5"
      ]
     },
     "execution_count": 188,
     "metadata": {},
     "output_type": "execute_result"
    }
   ],
   "source": [
    "default()"
   ]
  },
  {
   "cell_type": "markdown",
   "metadata": {},
   "source": [
    "What do annotations do? Frankly, they don’t do much of anything. They’re just kind of there.\n",
    "\n"
   ]
  },
  {
   "cell_type": "code",
   "execution_count": 190,
   "metadata": {},
   "outputs": [
    {
     "name": "stdout",
     "output_type": "stream",
     "text": [
      "12 Adil\n"
     ]
    },
    {
     "data": {
      "text/plain": [
       "(1, 2, 3)"
      ]
     },
     "execution_count": 190,
     "metadata": {},
     "output_type": "execute_result"
    }
   ],
   "source": [
    "def f(a:int=12,b:str='Adil') -> float:\n",
    "    print(a,b)\n",
    "    return 1,2,3\n",
    "\n",
    "f()"
   ]
  },
  {
   "cell_type": "markdown",
   "metadata": {},
   "source": [
    "What’s going on here? The annotations for f() indicate that the first argument is int, the second argument str, and the return value float. But the subsequent call to f() breaks all the rules! The arguments are str and float, respectively, and the return value is a tuple. Yet the interpreter lets it all slide with no complaint at all.\n",
    "\n",
    "Annotations don’t impose any semantic restrictions on the code whatsoever. They’re simply bits of metadata attached to the Python function parameters and return value. Python dutifully stashes them in a dictionary, assigns the dictionary to the function’s __annotations__ dunder attribute, and that’s it. Annotations are completely optional and don’t have any impact on Python function execution at all.\n",
    "\n",
    "Annotations don’t impose any semantic restrictions on the code whatsoever. They’re simply bits of metadata attached to the Python function parameters and return value. Python dutifully stashes them in a dictionary, assigns the dictionary to the function’s __annotations__ dunder attribute, and that’s it. Annotations are completely optional and don’t have any impact on Python function execution at all.\n",
    "\n",
    "def  f(a:int,b:str) -> float:\n",
    "\n",
    "Granted, the interpreter doesn’t enforce adherence to the types specified, but at least they’re clear to someone reading the function definition."
   ]
  },
  {
   "cell_type": "code",
   "execution_count": null,
   "metadata": {},
   "outputs": [],
   "source": []
  },
  {
   "cell_type": "code",
   "execution_count": 98,
   "metadata": {},
   "outputs": [
    {
     "name": "stdout",
     "output_type": "stream",
     "text": [
      "Hi,Asif\n",
      "('Maths', 'Art')\n",
      "{'name': 'Asif', 'age': 25}\n",
      "28\n"
     ]
    }
   ],
   "source": [
    "#Creating A Function\n",
    "def hello_func(greeting,name):\n",
    "    #print('Hello Function!')\n",
    "    return '{},{}'.format(greeting,name)\n",
    "#Calling A Function and Passing Parameters\n",
    "print(hello_func('Hi','Asif'))\n",
    "#Working with args and kwargs\n",
    "def Student_Info(*args,**kwargs):\n",
    "        print(args)\n",
    "        print(kwargs)\n",
    "Courses=['Maths','Art']\n",
    "Info={'name':'Asif','age':25}\n",
    "Student_Info(*Courses,**Info)\n",
    "#Checkking if the year is a leap year or not\n",
    "#Number of days per month \n",
    "months_days=[0,31,28,31,30,31,30,31,30,31,30,31]\n",
    "def is_leap(year):\n",
    "    \"\"\"Return true for leap years,false for non-leap years\"\"\"\n",
    "    return year % 4==0 and (year%100!=0 or year%400==0)\n",
    "def days_in_month(year, month):\n",
    "    \"\"\"Return number of days in that month in that year.\"\"\"\n",
    "\n",
    "    if not 1 <= month <= 12:\n",
    "        return 'Invalid Month'\n",
    "\n",
    "    if month == 2 and is_leap(year):\n",
    "        return 29\n",
    "\n",
    "    return months_days[month]\n",
    "\n",
    "print(days_in_month(2017,2))\n"
   ]
  },
  {
   "cell_type": "code",
   "execution_count": null,
   "metadata": {},
   "outputs": [],
   "source": []
  },
  {
   "cell_type": "code",
   "execution_count": null,
   "metadata": {},
   "outputs": [],
   "source": []
  },
  {
   "cell_type": "code",
   "execution_count": 17,
   "metadata": {},
   "outputs": [
    {
     "name": "stdout",
     "output_type": "stream",
     "text": [
      "Enter the Two :1 3\n"
     ]
    },
    {
     "data": {
      "text/plain": [
       "4"
      ]
     },
     "execution_count": 17,
     "metadata": {},
     "output_type": "execute_result"
    }
   ],
   "source": [
    "# How to add two no using Function\n",
    "def add_num():\n",
    "    a,b=input(\"Enter the Two :\").split()\n",
    "    c=int(a)+int(b)\n",
    "    return c\n",
    "add_num()"
   ]
  },
  {
   "cell_type": "code",
   "execution_count": 30,
   "metadata": {},
   "outputs": [
    {
     "name": "stdout",
     "output_type": "stream",
     "text": [
      "Enter the Two:12 23\n"
     ]
    },
    {
     "data": {
      "text/plain": [
       "-11"
      ]
     },
     "execution_count": 30,
     "metadata": {},
     "output_type": "execute_result"
    }
   ],
   "source": [
    "# How to Create Function:\n",
    "def sub_num():\n",
    "    a,b=input('Enter the Two:').split()\n",
    "    c=int(a)-int(b)\n",
    "    return c\n",
    "sub_num()"
   ]
  },
  {
   "cell_type": "code",
   "execution_count": 31,
   "metadata": {},
   "outputs": [
    {
     "name": "stdout",
     "output_type": "stream",
     "text": [
      "Hi,Asif\n"
     ]
    }
   ],
   "source": [
    "def hello_func(greeting,name):\n",
    "    #print('Hello Function!')\n",
    "    return '{},{}'.format(greeting,name)\n",
    "#Calling A Function and Passing Parameters\n",
    "print(hello_func('Hi','Asif'))"
   ]
  },
  {
   "cell_type": "code",
   "execution_count": 37,
   "metadata": {},
   "outputs": [
    {
     "name": "stdout",
     "output_type": "stream",
     "text": [
      "9\n"
     ]
    }
   ],
   "source": [
    "# Calling A Function and passing parameters\n",
    "def add_num(a,b):\n",
    "     return a+b\n",
    "print(add_num(4,5))"
   ]
  },
  {
   "cell_type": "code",
   "execution_count": 54,
   "metadata": {},
   "outputs": [
    {
     "name": "stdout",
     "output_type": "stream",
     "text": [
      "-1\n"
     ]
    }
   ],
   "source": [
    "# Calling A Function and passing parameters\n",
    "def sub_num(a,b):\n",
    "        return a-b\n",
    "print(sub_num(1,2))"
   ]
  },
  {
   "cell_type": "code",
   "execution_count": 57,
   "metadata": {},
   "outputs": [
    {
     "name": "stdout",
     "output_type": "stream",
     "text": [
      "('Maths', 'Art')\n",
      "{'name': 'Asif', 'age': 25}\n"
     ]
    }
   ],
   "source": [
    "#Working with args and kwargs\n",
    "def Student_Info(*args,**kwargs):\n",
    "    print(args)\n",
    "    print(kwargs)\n",
    "Courses=['Maths','Art']\n",
    "Info={'name':'Asif','age':25}\n",
    "Student_Info(*Courses,**Info)"
   ]
  },
  {
   "cell_type": "code",
   "execution_count": 61,
   "metadata": {},
   "outputs": [
    {
     "name": "stdout",
     "output_type": "stream",
     "text": [
      "('Saving', 'Current')\n",
      "{'name': 'Lath', 'age': 34}\n"
     ]
    }
   ],
   "source": [
    "#Working with args and kwargs\n",
    "def Account_Info(*args,**kwargs):\n",
    "    print(args)\n",
    "    print(kwargs)\n",
    "Account=['Saving','Current']\n",
    "Info={'name':'Lath','age':34}\n",
    "Account_Info(*Account,**Info)"
   ]
  },
  {
   "cell_type": "markdown",
   "metadata": {},
   "source": [
    " any() takes an iterable as its argument and returns True if any of the items in the iterable are truthy and False otherwise:"
   ]
  },
  {
   "cell_type": "code",
   "execution_count": 62,
   "metadata": {},
   "outputs": [
    {
     "data": {
      "text/plain": [
       "False"
      ]
     },
     "execution_count": 62,
     "metadata": {},
     "output_type": "execute_result"
    }
   ],
   "source": [
    "any([False,False,False])"
   ]
  },
  {
   "cell_type": "code",
   "execution_count": 63,
   "metadata": {},
   "outputs": [
    {
     "data": {
      "text/plain": [
       "True"
      ]
     },
     "execution_count": 63,
     "metadata": {},
     "output_type": "execute_result"
    }
   ],
   "source": [
    "any([False,True,False])"
   ]
  },
  {
   "cell_type": "markdown",
   "metadata": {},
   "source": [
    "# Working with global and local variable scope of Function"
   ]
  },
  {
   "cell_type": "code",
   "execution_count": 13,
   "metadata": {},
   "outputs": [
    {
     "name": "stdout",
     "output_type": "stream",
     "text": [
      "global x\n",
      "global x\n"
     ]
    }
   ],
   "source": [
    "#Working with global and local variable scope of Function\n",
    "#LEGB- Local,Enclosing,Global,Builtin\n",
    "''''x='Global x'\n",
    "\n",
    "def local_scope():\n",
    "    global x # Explicitly try to make the scope of the variable 'local'\n",
    "    x='Local x'\n",
    "    print(x)\n",
    "    \n",
    "local_scope()\n",
    "print(x) \n",
    "#Using Builtin\n",
    "import builtins\n",
    "\n",
    "m=min([1,2,3,4,5])\n",
    "print(m)'''\n",
    "# Using Enclosing scope\n",
    "x='global x'\n",
    "def outer():\n",
    "    #x='outer x'\n",
    "    \n",
    "    def inner():\n",
    "        \n",
    "        #x='inner x'\n",
    "        print(x)\n",
    "        \n",
    "    inner()\n",
    "    print(x)\n",
    "outer()"
   ]
  },
  {
   "cell_type": "code",
   "execution_count": null,
   "metadata": {},
   "outputs": [],
   "source": []
  }
 ],
 "metadata": {
  "kernelspec": {
   "display_name": "Python 3",
   "language": "python",
   "name": "python3"
  },
  "language_info": {
   "codemirror_mode": {
    "name": "ipython",
    "version": 3
   },
   "file_extension": ".py",
   "mimetype": "text/x-python",
   "name": "python",
   "nbconvert_exporter": "python",
   "pygments_lexer": "ipython3",
   "version": "3.8.0"
  }
 },
 "nbformat": 4,
 "nbformat_minor": 2
}
