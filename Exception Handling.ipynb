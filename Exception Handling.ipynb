{
 "cells": [
  {
   "cell_type": "markdown",
   "metadata": {},
   "source": [
    "# Exception Handling In Python\n",
    "\n",
    "Error in Python can be of two types i.e. Syntax errors and Exceptions. Errors are the problems in a program due to which the program will stop the execution. On the other hand, exceptions are raised when some internal events occur which changes the normal flow of the program."
   ]
  },
  {
   "cell_type": "code",
   "execution_count": 12,
   "metadata": {},
   "outputs": [
    {
     "ename": "SyntaxError",
     "evalue": "invalid syntax (<ipython-input-12-db3957958e99>, line 6)",
     "output_type": "error",
     "traceback": [
      "\u001b[1;36m  File \u001b[1;32m\"<ipython-input-12-db3957958e99>\"\u001b[1;36m, line \u001b[1;32m6\u001b[0m\n\u001b[1;33m    if(amount>2999)\u001b[0m\n\u001b[1;37m                    ^\u001b[0m\n\u001b[1;31mSyntaxError\u001b[0m\u001b[1;31m:\u001b[0m invalid syntax\n"
     ]
    }
   ],
   "source": [
    "\"\"\"Syntax Error: As the name suggest this error is caused by wrong syntax in the code. It leads to the termination of the program.\n",
    "This is a Example of Syntax Error\"\"\"\n",
    "# initialize the amount variable \n",
    "amount = 10000\n",
    "  \n",
    "# check that You are eligible to \n",
    "#  purchase Dsa Self Paced or not \n",
    "if(amount>2999) \n",
    "    print(\"You are eligible to purchase Dsa Self Paced\") "
   ]
  },
  {
   "cell_type": "code",
   "execution_count": 13,
   "metadata": {},
   "outputs": [
    {
     "ename": "ZeroDivisionError",
     "evalue": "division by zero",
     "output_type": "error",
     "traceback": [
      "\u001b[1;31m---------------------------------------------------------------------------\u001b[0m",
      "\u001b[1;31mZeroDivisionError\u001b[0m                         Traceback (most recent call last)",
      "\u001b[1;32m<ipython-input-13-a577885489dc>\u001b[0m in \u001b[0;36m<module>\u001b[1;34m\u001b[0m\n\u001b[0;32m      5\u001b[0m \u001b[1;33m\u001b[0m\u001b[0m\n\u001b[0;32m      6\u001b[0m \u001b[1;31m# perform division with 0\u001b[0m\u001b[1;33m\u001b[0m\u001b[1;33m\u001b[0m\u001b[1;33m\u001b[0m\u001b[0m\n\u001b[1;32m----> 7\u001b[1;33m \u001b[0ma\u001b[0m \u001b[1;33m=\u001b[0m \u001b[0mmarks\u001b[0m \u001b[1;33m/\u001b[0m \u001b[1;36m0\u001b[0m\u001b[1;33m\u001b[0m\u001b[1;33m\u001b[0m\u001b[0m\n\u001b[0m\u001b[0;32m      8\u001b[0m \u001b[0mprint\u001b[0m\u001b[1;33m(\u001b[0m\u001b[0ma\u001b[0m\u001b[1;33m)\u001b[0m\u001b[1;33m\u001b[0m\u001b[1;33m\u001b[0m\u001b[0m\n",
      "\u001b[1;31mZeroDivisionError\u001b[0m: division by zero"
     ]
    }
   ],
   "source": [
    "\"\"\"Exceptions: Exceptions are raised when the program is syntactically correct but the code resulted in an error.\n",
    "This error does not stop the execution of the program, however, it changes the normal flow of the program.\"\"\"\n",
    "# initialize the amount variable \n",
    "marks = 10000\n",
    "  \n",
    "# perform division with 0 \n",
    "a = marks / 0\n",
    "print(a) "
   ]
  },
  {
   "cell_type": "markdown",
   "metadata": {},
   "source": [
    "In the above example raised the ZeroDivisionError as we are trying to divide a number by 0.\n",
    "Note: Exception is the base class for all the exceptions in Python. You can check the exception hierarchy here."
   ]
  },
  {
   "cell_type": "code",
   "execution_count": 18,
   "metadata": {},
   "outputs": [
    {
     "name": "stdout",
     "output_type": "stream",
     "text": [
      "Second element = 2\n",
      "An error occurred\n"
     ]
    }
   ],
   "source": [
    "\"\"\"Try and Except in Exception Handling\"\"\"\n",
    "# Python program to handle simple runtime error \n",
    "  \n",
    "a = [1, 2, 3] \n",
    "try:  \n",
    "    print(\"Second element = %d\" %(a[1]))\n",
    "  \n",
    "    # Throws error since there are only 3 elements in array \n",
    "    print(\"Fourth element = %d\" %(a[3]))\n",
    "  \n",
    "except IndexError: \n",
    "    print(\"An error occurred\")"
   ]
  },
  {
   "cell_type": "code",
   "execution_count": 56,
   "metadata": {},
   "outputs": [
    {
     "name": "stdout",
     "output_type": "stream",
     "text": [
      "\n",
      "Error Occurred and Handled\n"
     ]
    }
   ],
   "source": [
    "\"\"\"A try statement can have more than one except clause, to specify handlers for different exceptions. \n",
    "Please note that at most one handler will be executed.\"\"\"\n",
    "# Program to handle multiple errors with one except statement \n",
    "try :  \n",
    "    a = 3\n",
    "    if a < 4 : \n",
    "  \n",
    "        # throws ZeroDivisionError for a = 3 \n",
    "        b = a/(a-3) \n",
    "      \n",
    "    # throws NameError if a >= 4 \n",
    "    print(\"Value of b = \", b)\n",
    "  \n",
    "# note that braces () are necessary here for multiple exceptions \n",
    "except(ZeroDivisionError,NameError): \n",
    "    print(\"\\nError Occurred and Handled\")"
   ]
  },
  {
   "cell_type": "code",
   "execution_count": 35,
   "metadata": {},
   "outputs": [
    {
     "name": "stdout",
     "output_type": "stream",
     "text": [
      "-0.0\n",
      "a/b result in 0\n"
     ]
    }
   ],
   "source": [
    "\"\"\"Else Clause: In python, you can also use else clause on the try-except block which must be present after all the except clauses. \n",
    "The code enters the else block only if the try clause does not raise an exception.\"\"\"\n",
    "# Program to depict else clause with try-except \n",
    "  \n",
    "# Function which returns a/b \n",
    "def AbyB(a , b): \n",
    "    try: \n",
    "        c = ((a+b) / (a-b)) \n",
    "    except ZeroDivisionError: \n",
    "        print(\"a/b result in 0\")\n",
    "    else: \n",
    "        print(c) \n",
    "  \n",
    "# Driver program to test above function \n",
    "AbyB(-2.0, 2.0) \n",
    "AbyB(3.0, 3.0) "
   ]
  },
  {
   "cell_type": "code",
   "execution_count": 60,
   "metadata": {},
   "outputs": [
    {
     "name": "stdout",
     "output_type": "stream",
     "text": [
      "Can't divide by zero\n",
      "This is always executed\n"
     ]
    }
   ],
   "source": [
    "\"\"\"Finally Keyword in Python.Python provides a keyword finally, which is always executed after try and except blocks. The finally block always executes after normal termination of try block or after try block terminates due to some exception.\n",
    "Syntax:\n",
    "\n",
    "try:\n",
    "       # Some Code.... \n",
    "\n",
    "except:\n",
    "       # optional block\n",
    "       # Handling of exception (if required)\n",
    "\n",
    "else:\n",
    "       # execute if no exception\n",
    "\n",
    "finally:\n",
    "      # Some code .....(always executed)\n",
    "      \n",
    "\"\"\"\n",
    "# Python program to demonstrate finally  \n",
    "    \n",
    "# No exception Exception raised in try block\n",
    "# Python program to demonstrate finally  \n",
    "    \n",
    "# No exception Exception raised in try block  \n",
    "try:  \n",
    "    k = 5//0 # raises divide by zero exception.  \n",
    "    print(k)  \n",
    "    \n",
    "# handles zerodivision exception      \n",
    "except ZeroDivisionError:     \n",
    "    print(\"Can't divide by zero\")  \n",
    "        \n",
    "finally:  \n",
    "    # this block is always executed   \n",
    "    # regardless of exception generation.  \n",
    "    print('This is always executed')    "
   ]
  },
  {
   "cell_type": "code",
   "execution_count": 51,
   "metadata": {},
   "outputs": [
    {
     "name": "stdout",
     "output_type": "stream",
     "text": [
      "An exception\n"
     ]
    },
    {
     "ename": "NameError",
     "evalue": "Hi there",
     "output_type": "error",
     "traceback": [
      "\u001b[1;31m---------------------------------------------------------------------------\u001b[0m",
      "\u001b[1;31mNameError\u001b[0m                                 Traceback (most recent call last)",
      "\u001b[1;32m<ipython-input-51-ca09a24ea096>\u001b[0m in \u001b[0;36m<module>\u001b[1;34m\u001b[0m\n\u001b[0;32m      5\u001b[0m \u001b[1;32mtry\u001b[0m\u001b[1;33m:\u001b[0m\u001b[1;33m\u001b[0m\u001b[1;33m\u001b[0m\u001b[0m\n\u001b[0;32m      6\u001b[0m     \u001b[0ma\u001b[0m\u001b[1;33m=\u001b[0m\u001b[1;36m5\u001b[0m\u001b[1;33m\u001b[0m\u001b[1;33m\u001b[0m\u001b[0m\n\u001b[1;32m----> 7\u001b[1;33m     \u001b[1;32mraise\u001b[0m \u001b[0mNameError\u001b[0m\u001b[1;33m(\u001b[0m\u001b[1;34m\"Hi there\"\u001b[0m\u001b[1;33m)\u001b[0m  \u001b[1;31m# Raise Error\u001b[0m\u001b[1;33m\u001b[0m\u001b[1;33m\u001b[0m\u001b[0m\n\u001b[0m\u001b[0;32m      8\u001b[0m \u001b[1;32mexcept\u001b[0m \u001b[0mNameError\u001b[0m\u001b[1;33m:\u001b[0m\u001b[1;33m\u001b[0m\u001b[1;33m\u001b[0m\u001b[0m\n\u001b[0;32m      9\u001b[0m     \u001b[0mprint\u001b[0m\u001b[1;33m(\u001b[0m\u001b[1;34m\"An exception\"\u001b[0m\u001b[1;33m)\u001b[0m\u001b[1;33m\u001b[0m\u001b[1;33m\u001b[0m\u001b[0m\n",
      "\u001b[1;31mNameError\u001b[0m: Hi there"
     ]
    }
   ],
   "source": [
    "\"\"\"Raising Exception:-The raise statement allows the programmer to force a specific exception to occur.\n",
    "The sole argument in raise indicates the exception to be raised. This must be either an exception instance or an exception class (a class that derives from Exception).\"\"\"\n",
    "# Program to depict Raising Exception \n",
    "  \n",
    "try:\n",
    "    raise NameError(\"Hi there\")  # Raise Error \n",
    "except NameError: \n",
    "    print(\"An exception\")\n",
    "    raise  # To determine whether the exception was raised or not"
   ]
  },
  {
   "cell_type": "markdown",
   "metadata": {},
   "source": [
    "The output of the above code will simply line printed as “An exception” but a Runtime error will also occur in the last due to raise statement in the last line."
   ]
  },
  {
   "cell_type": "code",
   "execution_count": 4,
   "metadata": {},
   "outputs": [
    {
     "name": "stdout",
     "output_type": "stream",
     "text": [
      "Enter the factorial of no:23\n",
      "25852016738884976640000\n"
     ]
    }
   ],
   "source": [
    "\"\"\"This is A Simple Example without using Exception Handling.Write A Python Program to find factorial of a no\"\"\"\n",
    "import math\n",
    "num=int(input(\"Enter the factorial of no:\"))\n",
    "result=math.factorial(num)\n",
    "print(result)"
   ]
  },
  {
   "cell_type": "code",
   "execution_count": 11,
   "metadata": {},
   "outputs": [
    {
     "name": "stdout",
     "output_type": "stream",
     "text": [
      "Enter the factorial of the no : -9\n",
      "Cannot compute the negative values\n"
     ]
    }
   ],
   "source": [
    "#Using Simple Example for Exception Handling\n",
    "num=int(input(\"Enter the factorial of the no : \"))\n",
    "try:\n",
    "    result=math.factorial(num)\n",
    "    print(result)\n",
    "except:\n",
    "      print(\"Cannot compute the negative values\")"
   ]
  },
  {
   "cell_type": "code",
   "execution_count": 75,
   "metadata": {},
   "outputs": [
    {
     "name": "stdout",
     "output_type": "stream",
     "text": [
      "Cannot divide by zero\n",
      "\n",
      "Hurrah!! You are out of the code\n"
     ]
    }
   ],
   "source": [
    "\"\"\"Write A Python Program to divide a no and also handle Exception\"\"\"\n",
    "def div(a,b):\n",
    "    \"This is a Simple Intepretation Of Exception Handling \"\n",
    "    try:\n",
    "        result=a/b\n",
    "        print(result)\n",
    "    except ZeroDivisionError:\n",
    "        print(\"Cannot divide by zero\")\n",
    "    finally:\n",
    "        print(\"\\nHurrah!! You are out of the code\")\n",
    "    \n",
    "div(5,0)"
   ]
  },
  {
   "cell_type": "markdown",
   "metadata": {},
   "source": [
    "# Errors and Exceptions in Python\n",
    "\n",
    "Errors are the problems in a program due to which the program will stop the execution. On the other hand, exceptions are raised when the some internal events occur which changes the normal flow of the program.\n",
    "\n",
    "Two types of Error occurs in python.\n",
    "\n",
    "1.Syntax errors\n",
    "2.Logical errors (Exceptions)\n"
   ]
  },
  {
   "cell_type": "code",
   "execution_count": 76,
   "metadata": {},
   "outputs": [
    {
     "ename": "SyntaxError",
     "evalue": "invalid syntax (<ipython-input-76-a123ce6a94e4>, line 9)",
     "output_type": "error",
     "traceback": [
      "\u001b[1;36m  File \u001b[1;32m\"<ipython-input-76-a123ce6a94e4>\"\u001b[1;36m, line \u001b[1;32m9\u001b[0m\n\u001b[1;33m    if(amount>2999)\u001b[0m\n\u001b[1;37m                    ^\u001b[0m\n\u001b[1;31mSyntaxError\u001b[0m\u001b[1;31m:\u001b[0m invalid syntax\n"
     ]
    }
   ],
   "source": [
    "\"\"\"Syntax errors.When the proper syntax of the language is not followed then syntax error is thrown.\"\"\"\n",
    "\n",
    "\n",
    "# initialize the amount variable \n",
    "amount = 10000\n",
    "  \n",
    "# check that You are eligible to \n",
    "#  purchase Dsa Self Paced or not \n",
    "if(amount>2999) \n",
    "    print(\"You are eligible to purchase Dsa Self Paced\") \n",
    "\n",
    "    \n"
   ]
  },
  {
   "cell_type": "markdown",
   "metadata": {},
   "source": [
    "It returns a syntax error message because after if statement a colon : is missing. We can fix this by writing the correct syntax."
   ]
  },
  {
   "cell_type": "code",
   "execution_count": 77,
   "metadata": {},
   "outputs": [
    {
     "ename": "ZeroDivisionError",
     "evalue": "division by zero",
     "output_type": "error",
     "traceback": [
      "\u001b[1;31m---------------------------------------------------------------------------\u001b[0m",
      "\u001b[1;31mZeroDivisionError\u001b[0m                         Traceback (most recent call last)",
      "\u001b[1;32m<ipython-input-77-e03cac433da2>\u001b[0m in \u001b[0;36m<module>\u001b[1;34m\u001b[0m\n\u001b[0;32m      5\u001b[0m \u001b[1;33m\u001b[0m\u001b[0m\n\u001b[0;32m      6\u001b[0m \u001b[1;31m# perform division with 0\u001b[0m\u001b[1;33m\u001b[0m\u001b[1;33m\u001b[0m\u001b[1;33m\u001b[0m\u001b[0m\n\u001b[1;32m----> 7\u001b[1;33m \u001b[0ma\u001b[0m \u001b[1;33m=\u001b[0m \u001b[0mmarks\u001b[0m \u001b[1;33m/\u001b[0m \u001b[1;36m0\u001b[0m\u001b[1;33m\u001b[0m\u001b[1;33m\u001b[0m\u001b[0m\n\u001b[0m\u001b[0;32m      8\u001b[0m \u001b[0mprint\u001b[0m\u001b[1;33m(\u001b[0m\u001b[0ma\u001b[0m\u001b[1;33m)\u001b[0m\u001b[1;33m\u001b[0m\u001b[1;33m\u001b[0m\u001b[0m\n",
      "\u001b[1;31mZeroDivisionError\u001b[0m: division by zero"
     ]
    }
   ],
   "source": [
    "\"\"\"Logical errors(Exception):-When in the runtime an error occurs after passing the syntax test is called exception or logical type. For example, when we divide any number by zero then ZeroDivisionError exception is raised, \n",
    "or when we import a module that does not exist then ImportError is raised. \"\"\"\n",
    "# initialize the amount variable \n",
    "marks = 10000\n",
    "  \n",
    "# perform division with 0 \n",
    "a = marks / 0\n",
    "print(a) "
   ]
  },
  {
   "cell_type": "markdown",
   "metadata": {},
   "source": [
    "In the above example the ZeroDivisionError as we are trying to divide a number by 0."
   ]
  },
  {
   "cell_type": "code",
   "execution_count": 78,
   "metadata": {},
   "outputs": [
    {
     "name": "stdout",
     "output_type": "stream",
     "text": [
      "code start\n",
      "an error occurs\n",
      "GeeksForGeeks\n"
     ]
    }
   ],
   "source": [
    "\"\"\"\"Some of the common built-in exceptions are other than above mention exceptions are:\n",
    "\n",
    "IndexError             When the wrong index of a list is retrieved.\n",
    "\n",
    "AssertionError         It occurs when assert statement fails\n",
    "\n",
    "AttributeError         It occurs when an attribute assignment is failed.\n",
    "\n",
    "ImportError            It occurs when an imported module is not found.\n",
    "\n",
    "KeyError               It occurs when the key of the dictionary is not found.\n",
    "\n",
    "NameError              It occurs when the variable is not defined.\n",
    "\n",
    "MemoryError            It occurs when a program run out of memory.\n",
    "\n",
    "TypeError              It occurs when a function and operation is applied in an incorrect type.\n",
    "\n",
    "                                    Error Handling\n",
    "                                    \n",
    "When an error and an exception is raised then we handle that with the help of Handling method.\n",
    "\n",
    "Handling Exceptions with Try/Except/Finally\n",
    "We can handle error by Try/Except/Finally method.we write unsafe code in the try, fall back code in except and final code in finally block.\n",
    "\n",
    "\"\"\"\n",
    "\n",
    "# put unsafe operation in try block \n",
    "try: \n",
    "     print(\"code start\") \n",
    "          \n",
    "     # unsafe operation perform \n",
    "     print(1 / 0) \n",
    "  \n",
    "# if error occur the it goes in except block \n",
    "except: \n",
    "     print(\"an error occurs\") \n",
    "  \n",
    "# final code in finally block \n",
    "finally: \n",
    "     print(\"GeeksForGeeks\") "
   ]
  },
  {
   "cell_type": "code",
   "execution_count": 81,
   "metadata": {},
   "outputs": [
    {
     "name": "stdout",
     "output_type": "stream",
     "text": [
      "please add money in your account\n"
     ]
    }
   ],
   "source": [
    "\"\"\"Raising exceptions for a predefined condition\n",
    "\n",
    "When we want to code for limitation of certain condition then we can raise an exception.\"\"\"\n",
    "\n",
    "# try for unsafe code \n",
    "try: \n",
    "    amount = 1999\n",
    "    if amount < 2999: \n",
    "          \n",
    "        # raise the ValueError \n",
    "        raise ValueError(\"please add money in your account\") \n",
    "    else: \n",
    "        print(\"You are eligible to purchase DSA Self Paced course\") \n",
    "              \n",
    "# if false then raise the value error \n",
    "except ValueError as e: \n",
    "        print(e) "
   ]
  },
  {
   "cell_type": "markdown",
   "metadata": {},
   "source": [
    "# User-defined Exceptions in Python\n",
    "\n",
    "\"\"\"Creating User-defined Exception\"\"\"\n",
    "\n",
    "Programmers may name their own exceptions by creating a new exception class. Exceptions need to be derived from the Exception class, either directly or indirectly. Although not mandatory, most of the exceptions are named as names that end in “Error” similar to naming of the standard exceptions in python."
   ]
  },
  {
   "cell_type": "code",
   "execution_count": 103,
   "metadata": {},
   "outputs": [
    {
     "name": "stdout",
     "output_type": "stream",
     "text": [
      "A New Exception occured:  6\n"
     ]
    }
   ],
   "source": [
    "\"\"\"Writing A Python Program to create user defined Exceptions\"\"\"\n",
    "\n",
    "  \n",
    "# class MyError is derived from super class Exception \n",
    "class MyError(Exception): \n",
    "  \n",
    "    # Constructor or Initializer \n",
    "    def __init__(self, value): \n",
    "        self.value = value \n",
    "  \n",
    "    # __str__ is to print() the value \n",
    "    def __str__(self): \n",
    "        return(repr(self.value)) \n",
    "  \n",
    "try: \n",
    "    raise(MyError(3*2)) \n",
    "  \n",
    "# Value of Exception is stored in error \n",
    "except MyError as error: \n",
    "    print('A New Exception occured: ',error.value) "
   ]
  },
  {
   "cell_type": "markdown",
   "metadata": {},
   "source": [
    "# Deriving Error from Super Class Exception\n",
    "\n",
    "Super class Exceptions are created when a module needs to handle several distinct errors. One of the common way of doing this is to create a base class for exceptions defined by that module. Further, various subclasses are defined to create specific exception classes for different error conditions."
   ]
  },
  {
   "cell_type": "code",
   "execution_count": 108,
   "metadata": {},
   "outputs": [
    {
     "name": "stdout",
     "output_type": "stream",
     "text": [
      "Exception occured:  Not Allowed\n"
     ]
    }
   ],
   "source": [
    "# class Error is derived from super class Exception \n",
    "class Error(Exception): \n",
    "  \n",
    "    # Error is derived class for Exception, but \n",
    "    # Base class for exceptions in this module \n",
    "    pass\n",
    "  \n",
    "class TransitionError(Error): \n",
    "  \n",
    "    # Raised when an operation attempts a state  \n",
    "    # transition that's not allowed. \n",
    "    def __init__(self, prev, nex, msg): \n",
    "        self.prev = prev \n",
    "        self.next = nex \n",
    "  \n",
    "        # Error message thrown is saved in msg \n",
    "        self.msg = msg \n",
    "try: \n",
    "    raise(TransitionError(2,3*2,\"Not Allowed\")) \n",
    "  \n",
    "# Value of Exception is stored in error \n",
    "except TransitionError as error: \n",
    "    print('Exception occured: ',error.msg)"
   ]
  },
  {
   "cell_type": "markdown",
   "metadata": {},
   "source": [
    "How to use standard Exceptions as base class?\n",
    "\n",
    "Runtime error is a class is a standard exception which is raised when a generated error does not fall into any category. This program illustrates how to use runtime error as base class and network error as derived class. In a similar way, any exception can be derived from the standard exceptions of Python."
   ]
  },
  {
   "cell_type": "code",
   "execution_count": 117,
   "metadata": {},
   "outputs": [
    {
     "name": "stdout",
     "output_type": "stream",
     "text": [
      "('E', 'r', 'r', 'o', 'r')\n",
      "Hurrah!! We got the output\n"
     ]
    }
   ],
   "source": [
    "# NetworkError has base RuntimeError \n",
    "# and not Exception \n",
    "class Networkerror(RuntimeError): \n",
    "    def __init__(self, arg): \n",
    "        self.args = arg \n",
    "  \n",
    "try: \n",
    "    raise Networkerror(\"Error\") \n",
    "  \n",
    "except Networkerror as e: \n",
    "    print(e.args)\n",
    "    \n",
    "finally:\n",
    "    print(\"Hurrah!! We got the output\")"
   ]
  },
  {
   "cell_type": "code",
   "execution_count": null,
   "metadata": {},
   "outputs": [],
   "source": []
  }
 ],
 "metadata": {
  "kernelspec": {
   "display_name": "Python 3",
   "language": "python",
   "name": "python3"
  },
  "language_info": {
   "codemirror_mode": {
    "name": "ipython",
    "version": 3
   },
   "file_extension": ".py",
   "mimetype": "text/x-python",
   "name": "python",
   "nbconvert_exporter": "python",
   "pygments_lexer": "ipython3",
   "version": "3.8.0"
  }
 },
 "nbformat": 4,
 "nbformat_minor": 4
}
