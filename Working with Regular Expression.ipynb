{
 "cells": [
  {
   "cell_type": "markdown",
   "metadata": {},
   "source": [
    "\n",
    "Important Note for Regular Expression\n",
    "\n",
    ".       - Any Character Except New Line\n",
    "\n",
    "\\d      - Digit (0-9)\n",
    "\n",
    "\\D      - Not a Digit (0-9)\n",
    "\n",
    "\\w      - Word Character (a-z, A-Z, 0-9, _)\n",
    "\n",
    "\\W      - Not a Word Character\n",
    "\n",
    "\\s      - Whitespace (space, tab, newline)\n",
    "\n",
    "\\S      - Not Whitespace (space, tab, newline)\n",
    "\n",
    "\\b      - Word Boundary\n",
    "\n",
    "\\B      - Not a Word Boundary\n",
    "\n",
    "^       - Beginning of a String\n",
    "\n",
    "$       - End of a String\n",
    "\n",
    "[]      - Matches Characters in brackets\n",
    "\n",
    "[^ ]    - Matches Characters NOT in brackets\n",
    "|       - Either Or\n",
    "\n",
    "( )     - Group\n",
    "\n",
    "Quantifiers:\n",
    "\n",
    "[*]       - 0 or More\n",
    "\n",
    "[+]       - 1 or More\n",
    "\n",
    "[?]       - 0 or One\n",
    "\n",
    "{3}     - Exact Number\n",
    "\n",
    "{3,4}   - Range of Numbers (Minimum, Maximum)\n",
    "\n"
   ]
  },
  {
   "cell_type": "code",
   "execution_count": 17,
   "metadata": {},
   "outputs": [
    {
     "name": "stdout",
     "output_type": "stream",
     "text": [
      "<re.Match object; span=(45, 46), match='1'>\n",
      "<re.Match object; span=(46, 47), match='2'>\n",
      "<re.Match object; span=(47, 48), match='3'>\n",
      "<re.Match object; span=(48, 49), match='9'>\n"
     ]
    }
   ],
   "source": [
    "\"\"\"This is a simple Example of Regular Expression.In this Example we are only type to find all the numbers with the help of \n",
    "regular expression \"\"\"\n",
    "import re\n",
    "sentence = 'Start a sentence and then bring it to an end 1239'\n",
    "pattern=re.compile(r'\\d')\n",
    "matches=pattern.finditer(sentence)\n",
    "for match in matches:\n",
    "    print(match)"
   ]
  },
  {
   "cell_type": "code",
   "execution_count": 28,
   "metadata": {},
   "outputs": [
    {
     "name": "stdout",
     "output_type": "stream",
     "text": [
      "<re.Match object; span=(0, 1), match='\\n'>\n",
      "<re.Match object; span=(1, 2), match='a'>\n",
      "<re.Match object; span=(2, 3), match='b'>\n",
      "<re.Match object; span=(3, 4), match='c'>\n",
      "<re.Match object; span=(4, 5), match='d'>\n",
      "<re.Match object; span=(5, 6), match='e'>\n",
      "<re.Match object; span=(6, 7), match='f'>\n",
      "<re.Match object; span=(7, 8), match='g'>\n",
      "<re.Match object; span=(8, 9), match='h'>\n",
      "<re.Match object; span=(9, 10), match='i'>\n",
      "<re.Match object; span=(10, 11), match='j'>\n",
      "<re.Match object; span=(11, 12), match='k'>\n",
      "<re.Match object; span=(12, 13), match='l'>\n",
      "<re.Match object; span=(13, 14), match='m'>\n",
      "<re.Match object; span=(14, 15), match='n'>\n",
      "<re.Match object; span=(15, 16), match='o'>\n",
      "<re.Match object; span=(16, 17), match='p'>\n",
      "<re.Match object; span=(17, 18), match='q'>\n",
      "<re.Match object; span=(18, 19), match='u'>\n",
      "<re.Match object; span=(19, 20), match='r'>\n",
      "<re.Match object; span=(20, 21), match='t'>\n",
      "<re.Match object; span=(21, 22), match='u'>\n",
      "<re.Match object; span=(22, 23), match='v'>\n",
      "<re.Match object; span=(23, 24), match='w'>\n",
      "<re.Match object; span=(24, 25), match='x'>\n",
      "<re.Match object; span=(25, 26), match='y'>\n",
      "<re.Match object; span=(26, 27), match='z'>\n",
      "<re.Match object; span=(27, 28), match='\\n'>\n",
      "<re.Match object; span=(28, 29), match='A'>\n",
      "<re.Match object; span=(29, 30), match='B'>\n",
      "<re.Match object; span=(30, 31), match='C'>\n",
      "<re.Match object; span=(31, 32), match='D'>\n",
      "<re.Match object; span=(32, 33), match='E'>\n",
      "<re.Match object; span=(33, 34), match='F'>\n",
      "<re.Match object; span=(34, 35), match='G'>\n",
      "<re.Match object; span=(35, 36), match='H'>\n",
      "<re.Match object; span=(36, 37), match='I'>\n",
      "<re.Match object; span=(37, 38), match='J'>\n",
      "<re.Match object; span=(38, 39), match='K'>\n",
      "<re.Match object; span=(39, 40), match='L'>\n",
      "<re.Match object; span=(40, 41), match='M'>\n",
      "<re.Match object; span=(41, 42), match='N'>\n",
      "<re.Match object; span=(42, 43), match='O'>\n",
      "<re.Match object; span=(43, 44), match='P'>\n",
      "<re.Match object; span=(44, 45), match='Q'>\n",
      "<re.Match object; span=(45, 46), match='R'>\n",
      "<re.Match object; span=(46, 47), match='S'>\n",
      "<re.Match object; span=(47, 48), match='T'>\n",
      "<re.Match object; span=(48, 49), match='U'>\n",
      "<re.Match object; span=(49, 50), match='V'>\n",
      "<re.Match object; span=(50, 51), match='W'>\n",
      "<re.Match object; span=(51, 52), match='X'>\n",
      "<re.Match object; span=(52, 53), match='Y'>\n",
      "<re.Match object; span=(53, 54), match='Z'>\n",
      "<re.Match object; span=(54, 55), match='\\n'>\n",
      "<re.Match object; span=(65, 66), match='\\n'>\n",
      "<re.Match object; span=(66, 67), match='H'>\n",
      "<re.Match object; span=(67, 68), match='a'>\n",
      "<re.Match object; span=(68, 69), match=' '>\n",
      "<re.Match object; span=(69, 70), match='H'>\n",
      "<re.Match object; span=(70, 71), match='a'>\n",
      "<re.Match object; span=(71, 72), match='H'>\n",
      "<re.Match object; span=(72, 73), match='a'>\n",
      "<re.Match object; span=(73, 74), match='\\n'>\n",
      "<re.Match object; span=(74, 75), match='M'>\n",
      "<re.Match object; span=(75, 76), match='e'>\n",
      "<re.Match object; span=(76, 77), match='t'>\n",
      "<re.Match object; span=(77, 78), match='a'>\n",
      "<re.Match object; span=(78, 79), match='C'>\n",
      "<re.Match object; span=(79, 80), match='h'>\n",
      "<re.Match object; span=(80, 81), match='a'>\n",
      "<re.Match object; span=(81, 82), match='r'>\n",
      "<re.Match object; span=(82, 83), match='a'>\n",
      "<re.Match object; span=(83, 84), match='c'>\n",
      "<re.Match object; span=(84, 85), match='t'>\n",
      "<re.Match object; span=(85, 86), match='e'>\n",
      "<re.Match object; span=(86, 87), match='r'>\n",
      "<re.Match object; span=(87, 88), match='s'>\n",
      "<re.Match object; span=(88, 89), match=' '>\n",
      "<re.Match object; span=(89, 90), match='('>\n",
      "<re.Match object; span=(90, 91), match='N'>\n",
      "<re.Match object; span=(91, 92), match='e'>\n",
      "<re.Match object; span=(92, 93), match='e'>\n",
      "<re.Match object; span=(93, 94), match='d'>\n",
      "<re.Match object; span=(94, 95), match=' '>\n",
      "<re.Match object; span=(95, 96), match='t'>\n",
      "<re.Match object; span=(96, 97), match='o'>\n",
      "<re.Match object; span=(97, 98), match=' '>\n",
      "<re.Match object; span=(98, 99), match='b'>\n",
      "<re.Match object; span=(99, 100), match='e'>\n",
      "<re.Match object; span=(100, 101), match=' '>\n",
      "<re.Match object; span=(101, 102), match='e'>\n",
      "<re.Match object; span=(102, 103), match='s'>\n",
      "<re.Match object; span=(103, 104), match='c'>\n",
      "<re.Match object; span=(104, 105), match='a'>\n",
      "<re.Match object; span=(105, 106), match='p'>\n",
      "<re.Match object; span=(106, 107), match='e'>\n",
      "<re.Match object; span=(107, 108), match='d'>\n",
      "<re.Match object; span=(108, 109), match=')'>\n",
      "<re.Match object; span=(109, 110), match=':'>\n",
      "<re.Match object; span=(110, 111), match='\\n'>\n",
      "<re.Match object; span=(111, 112), match='.'>\n",
      "<re.Match object; span=(112, 113), match=' '>\n",
      "<re.Match object; span=(113, 114), match='^'>\n",
      "<re.Match object; span=(114, 115), match=' '>\n",
      "<re.Match object; span=(115, 116), match='$'>\n",
      "<re.Match object; span=(116, 117), match=' '>\n",
      "<re.Match object; span=(117, 118), match='*'>\n",
      "<re.Match object; span=(118, 119), match=' '>\n",
      "<re.Match object; span=(119, 120), match='+'>\n",
      "<re.Match object; span=(120, 121), match=' '>\n",
      "<re.Match object; span=(121, 122), match='?'>\n",
      "<re.Match object; span=(122, 123), match=' '>\n",
      "<re.Match object; span=(123, 124), match='{'>\n",
      "<re.Match object; span=(124, 125), match=' '>\n",
      "<re.Match object; span=(125, 126), match='}'>\n",
      "<re.Match object; span=(126, 127), match=' '>\n",
      "<re.Match object; span=(127, 128), match='['>\n",
      "<re.Match object; span=(128, 129), match=' '>\n",
      "<re.Match object; span=(129, 130), match=']'>\n",
      "<re.Match object; span=(130, 131), match=' '>\n",
      "<re.Match object; span=(131, 132), match='\\\\'>\n",
      "<re.Match object; span=(132, 133), match=' '>\n",
      "<re.Match object; span=(133, 134), match='|'>\n",
      "<re.Match object; span=(134, 135), match=' '>\n",
      "<re.Match object; span=(135, 136), match='('>\n",
      "<re.Match object; span=(136, 137), match=' '>\n",
      "<re.Match object; span=(137, 138), match=')'>\n",
      "<re.Match object; span=(138, 139), match='\\n'>\n",
      "<re.Match object; span=(139, 140), match='c'>\n",
      "<re.Match object; span=(140, 141), match='o'>\n",
      "<re.Match object; span=(141, 142), match='r'>\n",
      "<re.Match object; span=(142, 143), match='e'>\n",
      "<re.Match object; span=(143, 144), match='y'>\n",
      "<re.Match object; span=(144, 145), match='m'>\n",
      "<re.Match object; span=(145, 146), match='s'>\n",
      "<re.Match object; span=(146, 147), match='.'>\n",
      "<re.Match object; span=(147, 148), match='c'>\n",
      "<re.Match object; span=(148, 149), match='o'>\n",
      "<re.Match object; span=(149, 150), match='m'>\n",
      "<re.Match object; span=(150, 151), match='\\n'>\n",
      "<re.Match object; span=(154, 155), match='-'>\n",
      "<re.Match object; span=(158, 159), match='-'>\n",
      "<re.Match object; span=(163, 164), match='\\n'>\n",
      "<re.Match object; span=(167, 168), match='.'>\n",
      "<re.Match object; span=(171, 172), match='.'>\n",
      "<re.Match object; span=(176, 177), match='\\n'>\n",
      "<re.Match object; span=(180, 181), match='*'>\n",
      "<re.Match object; span=(184, 185), match='*'>\n",
      "<re.Match object; span=(189, 190), match='\\n'>\n",
      "<re.Match object; span=(193, 194), match='-'>\n",
      "<re.Match object; span=(197, 198), match='-'>\n",
      "<re.Match object; span=(202, 203), match='\\n'>\n",
      "<re.Match object; span=(206, 207), match='-'>\n",
      "<re.Match object; span=(210, 211), match='-'>\n",
      "<re.Match object; span=(215, 216), match='\\n'>\n",
      "<re.Match object; span=(216, 217), match='M'>\n",
      "<re.Match object; span=(217, 218), match='r'>\n",
      "<re.Match object; span=(218, 219), match='.'>\n",
      "<re.Match object; span=(219, 220), match=' '>\n",
      "<re.Match object; span=(220, 221), match='S'>\n",
      "<re.Match object; span=(221, 222), match='c'>\n",
      "<re.Match object; span=(222, 223), match='h'>\n",
      "<re.Match object; span=(223, 224), match='a'>\n",
      "<re.Match object; span=(224, 225), match='f'>\n",
      "<re.Match object; span=(225, 226), match='e'>\n",
      "<re.Match object; span=(226, 227), match='r'>\n",
      "<re.Match object; span=(227, 228), match='\\n'>\n",
      "<re.Match object; span=(228, 229), match='M'>\n",
      "<re.Match object; span=(229, 230), match='r'>\n",
      "<re.Match object; span=(230, 231), match=' '>\n",
      "<re.Match object; span=(231, 232), match='S'>\n",
      "<re.Match object; span=(232, 233), match='m'>\n",
      "<re.Match object; span=(233, 234), match='i'>\n",
      "<re.Match object; span=(234, 235), match='t'>\n",
      "<re.Match object; span=(235, 236), match='h'>\n",
      "<re.Match object; span=(236, 237), match='\\n'>\n",
      "<re.Match object; span=(237, 238), match='M'>\n",
      "<re.Match object; span=(238, 239), match='s'>\n",
      "<re.Match object; span=(239, 240), match=' '>\n",
      "<re.Match object; span=(240, 241), match='D'>\n",
      "<re.Match object; span=(241, 242), match='a'>\n",
      "<re.Match object; span=(242, 243), match='v'>\n",
      "<re.Match object; span=(243, 244), match='i'>\n",
      "<re.Match object; span=(244, 245), match='s'>\n",
      "<re.Match object; span=(245, 246), match='\\n'>\n",
      "<re.Match object; span=(246, 247), match='M'>\n",
      "<re.Match object; span=(247, 248), match='r'>\n",
      "<re.Match object; span=(248, 249), match='s'>\n",
      "<re.Match object; span=(249, 250), match='.'>\n",
      "<re.Match object; span=(250, 251), match=' '>\n",
      "<re.Match object; span=(251, 252), match='R'>\n",
      "<re.Match object; span=(252, 253), match='o'>\n",
      "<re.Match object; span=(253, 254), match='b'>\n",
      "<re.Match object; span=(254, 255), match='i'>\n",
      "<re.Match object; span=(255, 256), match='n'>\n",
      "<re.Match object; span=(256, 257), match='s'>\n",
      "<re.Match object; span=(257, 258), match='o'>\n",
      "<re.Match object; span=(258, 259), match='n'>\n",
      "<re.Match object; span=(259, 260), match='\\n'>\n",
      "<re.Match object; span=(260, 261), match='M'>\n",
      "<re.Match object; span=(261, 262), match='r'>\n",
      "<re.Match object; span=(262, 263), match='.'>\n",
      "<re.Match object; span=(263, 264), match=' '>\n",
      "<re.Match object; span=(264, 265), match='T'>\n",
      "<re.Match object; span=(265, 266), match='\\n'>\n",
      "<re.Match object; span=(266, 267), match='c'>\n",
      "<re.Match object; span=(267, 268), match='a'>\n",
      "<re.Match object; span=(268, 269), match='t'>\n",
      "<re.Match object; span=(269, 270), match='\\n'>\n",
      "<re.Match object; span=(270, 271), match='m'>\n",
      "<re.Match object; span=(271, 272), match='a'>\n",
      "<re.Match object; span=(272, 273), match='t'>\n",
      "<re.Match object; span=(273, 274), match='\\n'>\n",
      "<re.Match object; span=(274, 275), match='p'>\n",
      "<re.Match object; span=(275, 276), match='a'>\n",
      "<re.Match object; span=(276, 277), match='t'>\n",
      "<re.Match object; span=(277, 278), match='\\n'>\n",
      "<re.Match object; span=(278, 279), match='b'>\n",
      "<re.Match object; span=(279, 280), match='a'>\n",
      "<re.Match object; span=(280, 281), match='t'>\n",
      "<re.Match object; span=(281, 282), match='\\n'>\n"
     ]
    }
   ],
   "source": [
    "# . is a special charcaters in regular expressions\n",
    "# pattern = re.compile(r'abc')\n",
    "# pattern=re.compile(r'\\.')\n",
    "\n",
    "text_to_search = '''\n",
    "abcdefghijklmnopqurtuvwxyz\n",
    "ABCDEFGHIJKLMNOPQRSTUVWXYZ\n",
    "1234567890\n",
    "Ha HaHa\n",
    "MetaCharacters (Need to be escaped):\n",
    ". ^ $ * + ? { } [ ] \\ | ( )\n",
    "coreyms.com\n",
    "321-555-4321\n",
    "123.555.1234\n",
    "123*555*1234\n",
    "800-555-1234\n",
    "900-555-1234\n",
    "91-9130891234\n",
    "Mr. Schafer\n",
    "Mr Smith\n",
    "Ms Davis\n",
    "Mrs. Robinson\n",
    "Mr. T\n",
    "cat\n",
    "mat\n",
    "pat\n",
    "bat\n",
    "'''\n",
    "# This Regular Expression is trying to check If the sentence contains no digit.\n",
    "pattern=re.compile(r'\\D')\n",
    "matches = pattern.finditer(text_to_search)\n",
    "for match in matches:\n",
    "    print(match)"
   ]
  },
  {
   "cell_type": "code",
   "execution_count": 29,
   "metadata": {},
   "outputs": [
    {
     "name": "stdout",
     "output_type": "stream",
     "text": [
      "<re.Match object; span=(190, 202), match='800-555-1234'>\n",
      "<re.Match object; span=(203, 215), match='900-555-1234'>\n"
     ]
    }
   ],
   "source": [
    "# Matching the Phone Numbers\n",
    "# Matching the Numbers which is 800 and 900\n",
    "pattern_numbers = re.compile(r'[89]00[-.]\\d\\d\\d[-.]\\d\\d\\d\\d')\n",
    "matches_num = pattern_numbers.finditer(text_to_search)\n",
    "for match_n in matches_num:\n",
    "    print(match_n)"
   ]
  },
  {
   "cell_type": "code",
   "execution_count": 32,
   "metadata": {},
   "outputs": [
    {
     "name": "stdout",
     "output_type": "stream",
     "text": [
      "<re.Match object; span=(151, 163), match='321-555-4321'>\n"
     ]
    }
   ],
   "source": [
    "#Matching the Phone No\n",
    "pattern_no=re.compile(r'[3]21[-.]\\d\\d\\d[-.]\\d\\d\\d\\d')\n",
    "matches_n=pattern_no.finditer(text_to_search)\n",
    "for matches in matches_n:\n",
    "    print(matches)"
   ]
  },
  {
   "cell_type": "code",
   "execution_count": 39,
   "metadata": {},
   "outputs": [
    {
     "name": "stdout",
     "output_type": "stream",
     "text": [
      "<re.Match object; span=(266, 269), match='cat'>\t<re.Match object; span=(274, 277), match='pat'>\t"
     ]
    }
   ],
   "source": [
    "# Filter out some way\n",
    "# a-z is the range of character from a to z\n",
    "\n",
    "pattern_alphabets = re.compile(r'[^bm]at') #^ in this meaning outside of this block all characters\n",
    "matches_alphabets = pattern_alphabets.finditer(text_to_search)\n",
    "for matches_alp in matches_alphabets:\n",
    "    print(matches_alp, end='\\t')"
   ]
  },
  {
   "cell_type": "code",
   "execution_count": 40,
   "metadata": {},
   "outputs": [
    {
     "name": "stdout",
     "output_type": "stream",
     "text": [
      "<re.Match object; span=(151, 163), match='321-555-4321'>\n",
      "<re.Match object; span=(190, 202), match='800-555-1234'>\n",
      "<re.Match object; span=(203, 215), match='900-555-1234'>\n"
     ]
    }
   ],
   "source": [
    "# Handling Multiple Characters\n",
    "#{3} is a Exact Number\n",
    "pattern_multiple = re.compile(r'\\d{3}\\-\\d{3}\\-\\d{4}')\n",
    "matches_multiple = pattern_multiple.finditer(text_to_search)\n",
    "for matches_mu in matches_multiple:\n",
    "    print(matches_mu)"
   ]
  },
  {
   "cell_type": "code",
   "execution_count": 41,
   "metadata": {},
   "outputs": [
    {
     "name": "stdout",
     "output_type": "stream",
     "text": [
      "<re.Match object; span=(216, 227), match='Mr. Schafer'>\n",
      "<re.Match object; span=(228, 236), match='Mr Smith'>\n",
      "<re.Match object; span=(237, 245), match='Ms Davis'>\n",
      "<re.Match object; span=(246, 259), match='Mrs. Robinson'>\n",
      "<re.Match object; span=(260, 265), match='Mr. T'>\n"
     ]
    }
   ],
   "source": [
    "# Handling Multiple Character and Condition-Very Important Concept\n",
    "\n",
    "pattern_multi = re.compile(r'(Mr|Ms|Mrs)\\.?\\s[A-Z]\\w*')\n",
    "matches_multi = pattern_multi.finditer(text_to_search)\n",
    "for matches_multi in matches_multi:\n",
    "    print(matches_multi)"
   ]
  },
  {
   "cell_type": "code",
   "execution_count": 44,
   "metadata": {},
   "outputs": [
    {
     "name": "stdout",
     "output_type": "stream",
     "text": [
      "<re.Match object; span=(1, 23), match='asiftandel22@gmail.com'>\n",
      "<re.Match object; span=(24, 48), match='asif-tandel89@my-edu.net'>\n",
      "<re.Match object; span=(49, 77), match='CoreySchafer-189@my-work.edu'>\n",
      "<re.Match object; span=(78, 105), match='londondreams.22@outlook.com'>\n"
     ]
    }
   ],
   "source": [
    "# Write A Regular Expression for email\n",
    "\n",
    "email = '''\n",
    "asiftandel22@gmail.com\n",
    "asif-tandel89@my-edu.net\n",
    "CoreySchafer-189@my-work.edu\n",
    "londondreams.22@outlook.com\n",
    "'''\n",
    "\n",
    "pattern_com = re.compile(r'[a-zA-z0-9-.]+@[a-zA-z-]+\\.(com|net|edu|outlook)')\n",
    "matches_com = pattern_com.finditer(email)\n",
    "for matches_c in matches_com:\n",
    "    print(matches_c)"
   ]
  },
  {
   "cell_type": "code",
   "execution_count": 48,
   "metadata": {},
   "outputs": [
    {
     "name": "stdout",
     "output_type": "stream",
     "text": [
      "google\n",
      "coreyms\n",
      "yahoo\n",
      "naso\n"
     ]
    }
   ],
   "source": [
    "\"Managing Groups With Regular Expressions\"\n",
    "\n",
    "email_id='''\n",
    "http://www.google.com\n",
    "https://coreyms.com\n",
    "http://yahoo.com\n",
    "http://naso.gov.in\n",
    "'''\n",
    "pattern_id=re.compile(r'https?://(www\\.)?(\\w+)+(\\.\\w+)')\n",
    "matches_id=pattern_id.finditer(email_id)\n",
    "for match_ie in matches_id:\n",
    "    print(match_ie.group(2))"
   ]
  },
  {
   "cell_type": "code",
   "execution_count": 171,
   "metadata": {},
   "outputs": [
    {
     "name": "stdout",
     "output_type": "stream",
     "text": [
      "google\n",
      "microsoft\n",
      "yahoo\n",
      "nasa\n"
     ]
    }
   ],
   "source": [
    "\"\"\"Managing Groups With Regular Expression\"\"\"\n",
    "Website='''\n",
    "\n",
    "\n",
    "http://www.google.com\n",
    "https://www.microsoft.com\n",
    "http://yahoo.com\n",
    "http://nasa.gov.in\n",
    "\n",
    "'''\n",
    "\n",
    "pattern=re.compile(r'https?://(www\\.)?(\\w+)+(\\.\\w+)')\n",
    "website_name=pattern.finditer(Website)\n",
    "for match in website_name:\n",
    "    print(match.group(2))"
   ]
  },
  {
   "cell_type": "code",
   "execution_count": 54,
   "metadata": {},
   "outputs": [
    {
     "name": "stdout",
     "output_type": "stream",
     "text": [
      "\n",
      "google.com\n",
      "yahoo.com\n",
      "nasa.gov.in\n",
      "\n"
     ]
    }
   ],
   "source": [
    "# Managing URL By sub-URL\n",
    "\n",
    "url = '''\n",
    "http://www.google.com\n",
    "http://www.yahoo.com\n",
    "https://nasa.gov.in\n",
    "'''\n",
    "pattern_url = re.compile('https?://(www\\.)?(\\w+)+(\\.\\w+)')\n",
    "sub_url = pattern_url.sub(r'\\2\\3', url)\n",
    "print(sub_url)"
   ]
  },
  {
   "cell_type": "code",
   "execution_count": 63,
   "metadata": {},
   "outputs": [
    {
     "name": "stdout",
     "output_type": "stream",
     "text": [
      "<re.Match object; span=(29, 36), match='literal'>\n"
     ]
    }
   ],
   "source": [
    "# Other Function or method associated with Regular Expressions\n",
    "\n",
    "url = '''\n",
    "http://www.google.com\n",
    "http://www.yahoo.com\n",
    "https://nasa.gov.in\n",
    "'''\n",
    "sentence_ai='Start with a sentence with a literal'\n",
    "\n",
    "#pattern_url = re.compile('https?://(www\\.)?(\\w+)+(\\.\\w+)')\n",
    "#match_iu=pattern_url.findall(url)\n",
    "#for match in match_iu:\n",
    "#    print(match)\n",
    "pattern_ic=re.compile(r'literal')\n",
    "matches=pattern_ic.search(sentence_ai)\n",
    "print(matches)"
   ]
  },
  {
   "cell_type": "code",
   "execution_count": 69,
   "metadata": {},
   "outputs": [
    {
     "name": "stdout",
     "output_type": "stream",
     "text": [
      "<re.Match object; span=(70, 83), match='91-9790987651'>\n"
     ]
    }
   ],
   "source": [
    "\"\"\"Simple Example of Regular Expression for matching Indian Phone No\"\"\"\n",
    "text='''This is a sentence that is written by Asif Tandel and his phone no is 91-9790987651'''\n",
    "pattern_no=re.compile(r'[9]1[-.][0-9]+')\n",
    "matches=pattern_no.finditer(text)\n",
    "for match in matches:\n",
    "    print(match)"
   ]
  },
  {
   "cell_type": "code",
   "execution_count": 71,
   "metadata": {},
   "outputs": [
    {
     "name": "stdout",
     "output_type": "stream",
     "text": [
      "<re.Match object; span=(7, 12), match='Basif'>\t"
     ]
    }
   ],
   "source": [
    "# Filter out some way\n",
    "# a-z is the range of character from a to z\n",
    "\"\"\"We want to only extract Basif\"\"\"\n",
    "text_d='''\n",
    "\n",
    "Asif\n",
    "Basif\n",
    "Tasif\n",
    "Tusif\n",
    "'''\n",
    "\n",
    "pattern_alphabets = re.compile(r'[^ATu]asif') #^ in this meaning outside of this block all characters\n",
    "matches_alphabets = pattern_alphabets.finditer(text_d)\n",
    "for matches_alp in matches_alphabets:\n",
    "    print(matches_alp, end='\\t')"
   ]
  },
  {
   "cell_type": "code",
   "execution_count": 74,
   "metadata": {},
   "outputs": [
    {
     "name": "stdout",
     "output_type": "stream",
     "text": [
      "<re.Match object; span=(55, 65), match='1234567890'>\n"
     ]
    }
   ],
   "source": [
    "text_to_search = '''\n",
    "abcdefghijklmnopqurtuvwxyz\n",
    "ABCDEFGHIJKLMNOPQRSTUVWXYZ\n",
    "1234567890\n",
    "Ha HaHa\n",
    "MetaCharacters (Need to be escaped):\n",
    ". ^ $ * + ? { } [ ] \\ | ( )\n",
    "coreyms.com\n",
    "321-555-4321\n",
    "123.555.1234\n",
    "123*555*1234\n",
    "800-555-1234\n",
    "900-555-1234\n",
    "91-9130891234\n",
    "Mr. Schafer\n",
    "Mr Smith\n",
    "Ms Davis\n",
    "Mrs. Robinson\n",
    "Mr. T\n",
    "cat\n",
    "mat\n",
    "pat\n",
    "bat\n",
    "'''\n",
    "pattern=re.compile(r'[1]234567890')\n",
    "matches=pattern.finditer(text_to_search)\n",
    "for match in matches:\n",
    "    print(match)"
   ]
  },
  {
   "cell_type": "code",
   "execution_count": 83,
   "metadata": {},
   "outputs": [
    {
     "name": "stdout",
     "output_type": "stream",
     "text": [
      "<re.Match object; span=(1, 12), match='Mr. Schafer'>\n",
      "<re.Match object; span=(13, 21), match='Mr Smith'>\n"
     ]
    }
   ],
   "source": [
    "\"\"\"Write A Python Program to Extract All the Mr Name\"\"\"\n",
    "text_name='''\n",
    "Mr. Schafer\n",
    "Mr Smith\n",
    "Ms Davis\n",
    "Mrs. Robinson\n",
    "'''\n",
    "pattern_0=re.compile(r'(Mr)\\.?\\s[A-Z]\\w*')\n",
    "match=pattern_0.finditer(text_name)\n",
    "for mat in match:\n",
    "    print(mat)"
   ]
  },
  {
   "cell_type": "code",
   "execution_count": 98,
   "metadata": {},
   "outputs": [
    {
     "name": "stdout",
     "output_type": "stream",
     "text": [
      "<re.Match object; span=(1, 13), match='321-555-4321'>\n",
      "<re.Match object; span=(14, 26), match='123.555.1234'>\n",
      "<re.Match object; span=(27, 39), match='123*555*1234'>\n",
      "<re.Match object; span=(40, 52), match='800-555-1234'>\n",
      "<re.Match object; span=(53, 65), match='900-555-1234'>\n"
     ]
    }
   ],
   "source": [
    "text_no='''\n",
    "321-555-4321\n",
    "123.555.1234\n",
    "123*555*1234\n",
    "800-555-1234\n",
    "900-555-1234\n",
    "'''\n",
    "pattern_2=re.compile(r'\\d{3}[\\-.*]+\\d{3}[\\-.*]\\d{4}')\n",
    "matches=pattern_2.finditer(text_no)\n",
    "for ma in matches:\n",
    "    print(ma)"
   ]
  },
  {
   "cell_type": "code",
   "execution_count": 115,
   "metadata": {},
   "outputs": [
    {
     "name": "stdout",
     "output_type": "stream",
     "text": [
      "<re.Match object; span=(2, 3), match='C'>\n",
      "<re.Match object; span=(4, 5), match='E'>\n",
      "<re.Match object; span=(7, 8), match='H'>\n",
      "<re.Match object; span=(8, 9), match='I'>\n",
      "<re.Match object; span=(13, 14), match='N'>\n",
      "<re.Match object; span=(18, 19), match='S'>\n",
      "<re.Match object; span=(19, 20), match='T'>\n"
     ]
    }
   ],
   "source": [
    "text_alphabets='''ABCDEFGHIJKLMNOPQRSTUVWXYZ'''\n",
    "pattern_alphabets=re.compile(r'[THIS IS SENTENCES]')\n",
    "matches=pattern_alphabets.finditer(text_alphabets)\n",
    "for match in matches:\n",
    "    print(match)"
   ]
  },
  {
   "cell_type": "code",
   "execution_count": 122,
   "metadata": {},
   "outputs": [
    {
     "name": "stdout",
     "output_type": "stream",
     "text": [
      "<re.Match object; span=(8, 13), match='Aabbb'>\n",
      "<re.Match object; span=(14, 19), match='Aabbc'>\n",
      "<re.Match object; span=(20, 25), match='Aabba'>\n"
     ]
    }
   ],
   "source": [
    "\"\"\"Write a Python program that matches a string that has an a followed by one or more b's' \"\"\"\n",
    "\n",
    "text='''\n",
    "\n",
    "Aasif\n",
    "Aabbb\n",
    "Aabbc\n",
    "Aabba\n",
    "'''\n",
    "pattern=re.compile(r'[A-z-]+[b*]..')\n",
    "matches=pattern.finditer(text)\n",
    "for match in matches:\n",
    "    print(match)\n",
    "    "
   ]
  },
  {
   "cell_type": "code",
   "execution_count": 119,
   "metadata": {},
   "outputs": [
    {
     "name": "stdout",
     "output_type": "stream",
     "text": [
      "Found a match!\n",
      "Found a match!\n"
     ]
    }
   ],
   "source": [
    "import re\n",
    "def text_match(text):\n",
    "        patterns = 'ab+?'\n",
    "        if re.search(patterns,  text):\n",
    "                return 'Found a match!'\n",
    "        else:\n",
    "                return('Not matched!')\n",
    "\n",
    "print(text_match(\"ab\"))\n",
    "print(text_match(\"abc\"))"
   ]
  },
  {
   "cell_type": "code",
   "execution_count": 160,
   "metadata": {},
   "outputs": [
    {
     "name": "stdout",
     "output_type": "stream",
     "text": [
      "asif\n",
      "eijaz\n",
      "aith\n",
      "adil\n"
     ]
    }
   ],
   "source": [
    "\"\"\"Write a Python program to find all words starting with 'a' or 'e' in a given string \"\"\"\n",
    "\n",
    "Words='''\n",
    "\n",
    "asif\n",
    "eijaz\n",
    "Haith\n",
    "adil\n",
    "'''\n",
    "pattern=re.findall(r'[ae]\\w+',Words)\n",
    "for pat in pattern:\n",
    "    print(pat)"
   ]
  },
  {
   "cell_type": "code",
   "execution_count": 165,
   "metadata": {},
   "outputs": [
    {
     "name": "stdout",
     "output_type": "stream",
     "text": [
      "<re.Match object; span=(10, 23), match='ASIF_tandel22'>\n"
     ]
    }
   ],
   "source": [
    "# Write a Python program to match a string that contains only upper and lowercase letters, numbers, and underscores\n",
    "\n",
    "Sentences='This is a ASIF_tandel22 which is true awesome'\n",
    "pattern=re.compile(r'[A-Z]+\\_[a-z0-9]+')\n",
    "matches=pattern.finditer(Sentences)\n",
    "for matche in matches:\n",
    "    print(matche)"
   ]
  }
 ],
 "metadata": {
  "kernelspec": {
   "display_name": "Python 3",
   "language": "python",
   "name": "python3"
  },
  "language_info": {
   "codemirror_mode": {
    "name": "ipython",
    "version": 3
   },
   "file_extension": ".py",
   "mimetype": "text/x-python",
   "name": "python",
   "nbconvert_exporter": "python",
   "pygments_lexer": "ipython3",
   "version": "3.8.0"
  }
 },
 "nbformat": 4,
 "nbformat_minor": 4
}
