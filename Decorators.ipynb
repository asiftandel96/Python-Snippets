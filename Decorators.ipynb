{
 "cells": [
  {
   "cell_type": "markdown",
   "metadata": {},
   "source": [
    "# Python Decorators\n",
    "\n",
    "1.NameSpace and Variable Scope\n",
    "\n",
    "2.LEGB Rule\n",
    "\n",
    "3.Closure\n",
    "\n",
    "4.Python Decorators"
   ]
  },
  {
   "cell_type": "code",
   "execution_count": 1,
   "metadata": {},
   "outputs": [
    {
     "data": {
      "text/plain": [
       "['In',\n",
       " 'Out',\n",
       " '_',\n",
       " '__',\n",
       " '___',\n",
       " '__builtin__',\n",
       " '__builtins__',\n",
       " '__doc__',\n",
       " '__loader__',\n",
       " '__name__',\n",
       " '__package__',\n",
       " '__spec__',\n",
       " '_dh',\n",
       " '_i',\n",
       " '_i1',\n",
       " '_ih',\n",
       " '_ii',\n",
       " '_iii',\n",
       " '_oh',\n",
       " 'exit',\n",
       " 'get_ipython',\n",
       " 'quit']"
      ]
     },
     "execution_count": 1,
     "metadata": {},
     "output_type": "execute_result"
    }
   ],
   "source": [
    "dir()"
   ]
  },
  {
   "cell_type": "code",
   "execution_count": 2,
   "metadata": {},
   "outputs": [
    {
     "name": "stdout",
     "output_type": "stream",
     "text": [
      "Initially a builtin function: ['In', 'Out', '_', '_1', '__', '___', '__builtin__', '__builtins__', '__doc__', '__loader__', '__name__', '__package__', '__spec__', '_dh', '_i', '_i1', '_i2', '_ih', '_ii', '_iii', '_oh', 'exit', 'get_ipython', 'quit']\n",
      "Inside the function: ['num']\n",
      "Outside the function: ['In', 'Out', '_', '_1', '__', '___', '__builtin__', '__builtins__', '__doc__', '__loader__', '__name__', '__package__', '__spec__', '_dh', '_i', '_i1', '_i2', '_ih', '_ii', '_iii', '_oh', 'exit', 'f1', 'get_ipython', 'quit']\n"
     ]
    }
   ],
   "source": [
    "print(\"Initially a builtin function:\",dir())\n",
    "def f1():\n",
    "    num=10\n",
    "    \n",
    "    print('Inside the function:',dir())\n",
    "\n",
    "f1()\n",
    "print('Outside the function:',dir())"
   ]
  },
  {
   "cell_type": "markdown",
   "metadata": {},
   "source": [
    "2.LEGB RULE\n",
    "\n",
    "1.LOCAL SCOPE\n",
    "\n",
    "2.GLOBAL SCOPE\n",
    "\n",
    "3.ENCLOSED SCOPE\n",
    "\n",
    "4.BUILTIN SCOPE"
   ]
  },
  {
   "cell_type": "code",
   "execution_count": 3,
   "metadata": {},
   "outputs": [
    {
     "name": "stdout",
     "output_type": "stream",
     "text": [
      "10\n"
     ]
    }
   ],
   "source": [
    "#LOCAL SCOPE\n",
    "def f1():\n",
    "    x=10\n",
    "    print(x)\n",
    "    \n",
    "f1()"
   ]
  },
  {
   "cell_type": "code",
   "execution_count": 5,
   "metadata": {},
   "outputs": [
    {
     "name": "stdout",
     "output_type": "stream",
     "text": [
      "x: 10\n",
      "x: 10\n"
     ]
    }
   ],
   "source": [
    "# GlOBAL SCOPE\n",
    "x=10\n",
    "def g():\n",
    "    x=10\n",
    "    print(\"x:\",x)\n",
    "    \n",
    "g()\n",
    "print(\"x:\",x)"
   ]
  },
  {
   "cell_type": "code",
   "execution_count": 6,
   "metadata": {},
   "outputs": [
    {
     "name": "stdout",
     "output_type": "stream",
     "text": [
      "y: 10\n",
      "y: 11\n"
     ]
    }
   ],
   "source": [
    "# Making Modification in the global variable by using global keyword\n",
    "y=10\n",
    "def g1():\n",
    "    global y\n",
    "    y=y+1\n",
    "\n",
    "print(\"y:\",y)\n",
    "g1()\n",
    "print(\"y:\",y)"
   ]
  },
  {
   "cell_type": "code",
   "execution_count": 7,
   "metadata": {},
   "outputs": [
    {
     "name": "stdout",
     "output_type": "stream",
     "text": [
      "z: 13\n"
     ]
    }
   ],
   "source": [
    "# Combining ALL the scope functionality in one are(Using LWGB Rule Efficienntly)\n",
    "#Global Scope(3)\n",
    "z=12\n",
    "def outer():\n",
    "    \"Enclosed Scope (2)\"\n",
    "    z=11\n",
    "    def inner():\n",
    "        \"Local Scope(1)\"\n",
    "        z=13\n",
    "        print(\"z:\",z)\n",
    "        \n",
    "    inner()\n",
    "\n",
    "outer()"
   ]
  },
  {
   "cell_type": "markdown",
   "metadata": {},
   "source": [
    "# Python Closures\n",
    "\n",
    "Function object that remembers value in the enclosing scope even if they are not present in memory\n",
    "\n",
    "Criteria for creating Python Closures:\n",
    "\n",
    "1.Nested Function\n",
    "\n",
    "2.Nested Function must refer values in enclosing scope\n",
    "\n",
    "3.Enclosing Function must return nested Function"
   ]
  },
  {
   "cell_type": "code",
   "execution_count": 9,
   "metadata": {},
   "outputs": [
    {
     "name": "stdout",
     "output_type": "stream",
     "text": [
      "4\n"
     ]
    }
   ],
   "source": [
    "# Creating A Nested Function\n",
    "def outer():\n",
    "    x=4\n",
    "    def inner():\n",
    "        print(x)\n",
    "    inner()\n",
    "\n",
    "outer()"
   ]
  },
  {
   "cell_type": "code",
   "execution_count": 16,
   "metadata": {},
   "outputs": [
    {
     "name": "stdout",
     "output_type": "stream",
     "text": [
      "hello\n"
     ]
    }
   ],
   "source": [
    "def outer():\n",
    "    msg=\"hello\"\n",
    "    def inner():\n",
    "        print(msg)\n",
    "    return inner\n",
    "\n",
    "a=outer()\n",
    "a()"
   ]
  },
  {
   "cell_type": "code",
   "execution_count": 21,
   "metadata": {},
   "outputs": [
    {
     "data": {
      "text/plain": [
       "10"
      ]
     },
     "execution_count": 21,
     "metadata": {},
     "output_type": "execute_result"
    }
   ],
   "source": [
    "# Implementation A Python Closure \n",
    "def outer():\n",
    "    x=5\n",
    "    y=5\n",
    "    def inner():\n",
    "        results=x+y\n",
    "        return results\n",
    "    return inner\n",
    "\n",
    "a=outer()\n",
    "a()"
   ]
  },
  {
   "cell_type": "code",
   "execution_count": 22,
   "metadata": {},
   "outputs": [
    {
     "name": "stdout",
     "output_type": "stream",
     "text": [
      "Hi I am Function2 and now I am calling Function1\n",
      "Hi  I am Function1\n"
     ]
    }
   ],
   "source": [
    "#Functions as a Parameter\n",
    "\n",
    "def function1():\n",
    "    print('Hi  I am Function1')\n",
    "    \n",
    "def function2(func):\n",
    "    print('Hi I am Function2 and now I am calling Function1')\n",
    "    func()\n",
    "    \n",
    "function2(function1)"
   ]
  },
  {
   "cell_type": "code",
   "execution_count": 30,
   "metadata": {},
   "outputs": [
    {
     "name": "stdout",
     "output_type": "stream",
     "text": [
      "good morning\n",
      "Good morning\n"
     ]
    }
   ],
   "source": [
    "#Python Decorators(This is  not the correct way to use Decorators)\n",
    "#Any Callable Python object which is used to modify the function or class\n",
    "#Two Types-Function Decorators and Class Decorators\n",
    "def str_upper(func):\n",
    "    def inner():\n",
    "        str1=func()\n",
    "        return str1.upper()\n",
    "    return inner\n",
    "def print_str():\n",
    "    return \"good morning\"\n",
    "\n",
    "print(print_str())\n",
    "\n",
    "d=str_upper(print_str) # Using Function as a parameter\n",
    "print(d())"
   ]
  },
  {
   "cell_type": "code",
   "execution_count": 32,
   "metadata": {},
   "outputs": [
    {
     "name": "stdout",
     "output_type": "stream",
     "text": [
      "Good morning\n"
     ]
    }
   ],
   "source": [
    "# This is the correct way to use decorators by using @ symbol\n",
    "def str_upper(func):\n",
    "    def inner():\n",
    "        str1=func()\n",
    "        return str1.capitalize()\n",
    "    return inner\n",
    "\n",
    "@str_upper\n",
    "def print_str():\n",
    "    return \"good morning\"\n",
    "\n",
    "print(print_str())"
   ]
  },
  {
   "cell_type": "code",
   "execution_count": 41,
   "metadata": {},
   "outputs": [
    {
     "name": "stdout",
     "output_type": "stream",
     "text": [
      "5.0\n"
     ]
    }
   ],
   "source": [
    "\"\"\"Three Things to know while creating a Decorators:\n",
    "\n",
    "1.Need to take function as a paramaters\n",
    "\n",
    "2.Add Functionality to the function\n",
    "\n",
    "3.function need to return another function\n",
    "\n",
    "\"\"\"\n",
    "#How to Decorator Function with parameters\n",
    "\n",
    "def div_decorators(func):\n",
    "    def inner(x,y):\n",
    "        if y==0:\n",
    "            return \"give proper input\"\n",
    "        return func(x,y)\n",
    "    return inner\n",
    "\n",
    "@div_decorators\n",
    "def div(a,b):\n",
    "    return a/b\n",
    "\n",
    "#print(div(5,0))\n",
    "print(div(5,1))"
   ]
  },
  {
   "cell_type": "markdown",
   "metadata": {},
   "source": [
    "#Multiple Decorators\n",
    "\n",
    "1.How to use Multiple Decorators on single Function\n",
    "\n",
    "2.Decorator with parameter\n",
    "\n",
    "3.Single Decorator on multiple function(i.e General Decorators)"
   ]
  },
  {
   "cell_type": "code",
   "execution_count": 50,
   "metadata": {},
   "outputs": [
    {
     "name": "stdout",
     "output_type": "stream",
     "text": [
      "['GOOD', 'MORNING']\n"
     ]
    }
   ],
   "source": [
    "# 1)How to Use Multiple Decorators on single Function\n",
    "\n",
    "def upper_case(func):\n",
    "    def inner():\n",
    "        str1=func()\n",
    "        return str1.upper()\n",
    "    return inner\n",
    "\n",
    "def split_case(func):\n",
    "    def wrapper():\n",
    "        str2=func()\n",
    "        return str2.split()\n",
    "    return wrapper\n",
    "\n",
    "\n",
    "@split_case\n",
    "@upper_case\n",
    "def print_str():\n",
    "    return \"good morning\"\n",
    "\n",
    "print(print_str())"
   ]
  },
  {
   "cell_type": "code",
   "execution_count": 52,
   "metadata": {},
   "outputs": [
    {
     "name": "stdout",
     "output_type": "stream",
     "text": [
      "Good Morning Asif\n"
     ]
    }
   ],
   "source": [
    "# 2) Decorator with parameter\n",
    "def outer(expr):\n",
    "    def upper_d(func):\n",
    "        def inner():\n",
    "            return func() + expr\n",
    "        return inner\n",
    "    return upper_d\n",
    "\n",
    "@outer(\"Asif\")\n",
    "def ordinary():\n",
    "    return \"Good Morning \"\n",
    "\n",
    "print(ordinary())"
   ]
  },
  {
   "cell_type": "code",
   "execution_count": 63,
   "metadata": {},
   "outputs": [
    {
     "name": "stdout",
     "output_type": "stream",
     "text": [
      "5.0\n",
      "give proper input\n"
     ]
    }
   ],
   "source": [
    "#3).Single Decorator on multiple function(i.e General Decorators)\n",
    "\n",
    "def div_decorators(func):\n",
    "    def inner(*args):\n",
    "        list1=[]\n",
    "        list1=args[1:]\n",
    "        for i in args:\n",
    "            if i==0:\n",
    "                return \"give proper input\"\n",
    "        return func(*args)\n",
    "    return inner\n",
    "\n",
    "@div_decorators\n",
    "def div1(a,b):\n",
    "    \n",
    "    return a/b\n",
    "\n",
    "@div_decorators\n",
    "def div2(a,b,c):\n",
    "    \n",
    "    return a/b/c\n",
    "\n",
    "print(div1(5,1))\n",
    "print(div2(0,3,1))"
   ]
  },
  {
   "cell_type": "code",
   "execution_count": 68,
   "metadata": {},
   "outputs": [
    {
     "name": "stdout",
     "output_type": "stream",
     "text": [
      "greet\n"
     ]
    }
   ],
   "source": [
    "import functools\n",
    "def decorators(func):\n",
    "    @functools.wraps(func)\n",
    "    def inner():\n",
    "        str1=func()\n",
    "        return str1.upper()\n",
    "    return inner\n",
    "\n",
    "@decorators\n",
    "def greet():\n",
    "    return \"good morning\"\n",
    "\n",
    "print(greet.__name__)"
   ]
  },
  {
   "cell_type": "code",
   "execution_count": 70,
   "metadata": {},
   "outputs": [
    {
     "name": "stdout",
     "output_type": "stream",
     "text": [
      "Enter name is: Sanjay\n"
     ]
    }
   ],
   "source": [
    "#Applying Decorator on class\n",
    "\n",
    "def check_name(method):\n",
    "    def inner(name_ref):\n",
    "        if name_ref.name==\"Asif\":\n",
    "            print('Hello my name is also same')\n",
    "        else:\n",
    "            method(name_ref)\n",
    "    return inner\n",
    "\n",
    "class Printing:\n",
    "    \n",
    "    def __init__(self,name):\n",
    "        \n",
    "        self.name=name\n",
    "    \n",
    "    @check_name\n",
    "    def print_name(self):\n",
    "        \n",
    "        print('Enter name is:',self.name)\n",
    "        \n",
    "    \n",
    "p=Printing('Sanjay')\n",
    "p.print_name()"
   ]
  },
  {
   "cell_type": "code",
   "execution_count": 75,
   "metadata": {},
   "outputs": [
    {
     "name": "stdout",
     "output_type": "stream",
     "text": [
      "GOOD MORNING\n"
     ]
    }
   ],
   "source": [
    "#Making Class as A Decorator and applying on Function\n",
    "\n",
    "class Decorators:\n",
    "    \n",
    "    def __init__(self,func):\n",
    "        self.func=func\n",
    "        \n",
    "    def __call__(self):\n",
    "        str1=self.func()\n",
    "        return str1.upper()\n",
    "    \n",
    "@Decorators\n",
    "def print_str():\n",
    "    return \"good morning\"\n",
    "\n",
    "print(print_str())"
   ]
  },
  {
   "cell_type": "code",
   "execution_count": 79,
   "metadata": {},
   "outputs": [
    {
     "name": "stdout",
     "output_type": "stream",
     "text": [
      "10.0\n",
      "give proper input\n"
     ]
    }
   ],
   "source": [
    "class Check_div:\n",
    "    \n",
    "    def __init__(self,func):\n",
    "        \n",
    "        self.func=func\n",
    "        \n",
    "    def __call__(self,*args,**kwargs):\n",
    "        list1=[]\n",
    "        list1=args[1:]\n",
    "        for i in list1:\n",
    "            if args[1]==0:\n",
    "                return \"give proper input\"\n",
    "            else:\n",
    "                return self.func(*args,**kwargs)\n",
    "        \n",
    "@Check_div\n",
    "def div(a,b):\n",
    "    return a/b\n",
    "\n",
    "@Check_div\n",
    "\n",
    "def div2(a,b,c):\n",
    "    return a/b/c\n",
    "\n",
    "print(div(10,1))\n",
    "print(div2(10,0,1))"
   ]
  }
 ],
 "metadata": {
  "kernelspec": {
   "display_name": "Python 3",
   "language": "python",
   "name": "python3"
  },
  "language_info": {
   "codemirror_mode": {
    "name": "ipython",
    "version": 3
   },
   "file_extension": ".py",
   "mimetype": "text/x-python",
   "name": "python",
   "nbconvert_exporter": "python",
   "pygments_lexer": "ipython3",
   "version": "3.8.0"
  }
 },
 "nbformat": 4,
 "nbformat_minor": 4
}
