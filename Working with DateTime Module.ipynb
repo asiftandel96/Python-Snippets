{
 "cells": [
  {
   "cell_type": "code",
   "execution_count": 44,
   "metadata": {},
   "outputs": [
    {
     "name": "stdout",
     "output_type": "stream",
     "text": [
      "2020-11-18\n",
      "datetime.date(2020, 11, 18)\n",
      "1996-08-22\n",
      "8854\n",
      "2020-11-28\n",
      "18\n",
      "2\n",
      "06:12:12.000015\n",
      "2020-11-19 05:41:24.195275\n",
      "2020-11-18 14:11:24.195275+00:00\n",
      "2020-11-18 19:41:24.195275+05:30\n",
      "November 18, 2020\n",
      "Wed, November 18 2020\n",
      "2020-11-18 00:00:00\n",
      "datetime.datetime(2020, 11, 18, 0, 0)\n"
     ]
    }
   ],
   "source": [
    "import datetime\n",
    "import pytz\n",
    "\n",
    "\n",
    "#It is used to check today date\n",
    "today=datetime.date.today()\n",
    "# The result returned is a datetime object\n",
    "print(today)\n",
    "print(repr(today))\n",
    "\n",
    "birthday=datetime.date(1996,8,22)\n",
    "print(birthday)\n",
    "\n",
    "#Total Days since birth\n",
    "since_birth=(today - birthday).days\n",
    "print(since_birth)\n",
    "\n",
    "#Working with TimeDelta\n",
    "timedelta=datetime.timedelta(days=10)\n",
    "print(today+timedelta)\n",
    "\n",
    "# Which is the date today\n",
    "print(today.day)\n",
    "\n",
    "#WeekDay\n",
    "\n",
    "print(today.weekday())\n",
    "\n",
    "print(datetime.time(6,12,12,15))\n",
    "# datetime.date (Y,M,D)\n",
    "#datetime.time(hour,minute,second,milliseconds)\n",
    "#datetime.datetime(Y,M,D,hour,minute,second,milliseconds)\n",
    "\n",
    "\n",
    "hour_delta=datetime.timedelta(hours=10)\n",
    "print(datetime.datetime.now() + hour_delta)\n",
    "\n",
    "#Working with Time-Zones\n",
    "\n",
    "datetime_today=datetime.datetime.now(tz=pytz.UTC)\n",
    "print(datetime_today)\n",
    "\n",
    "datetime_Asia=datetime_today.astimezone(pytz.timezone('Asia/Kolkata'))\n",
    "print(datetime_Asia)\n",
    "\n",
    "##String formatting with dates\n",
    "##strftime-Formatting\n",
    "##2020-11-18 to November 18,2020\n",
    "\n",
    "print(datetime_Asia.strftime('%B %d, %Y'))\n",
    "\n",
    "print(datetime_Asia.strftime('%a, %B %d %Y'))\n",
    "\n",
    "#strptime-(Parsing)\n",
    "#Parsing date to datetime object\n",
    "datetime_thing=datetime.datetime.strptime('November 18, 2020','%B %d, %Y')\n",
    "print(datetime_thing)\n",
    "print(repr(datetime_thing))\n",
    "\n"
   ]
  },
  {
   "cell_type": "markdown",
   "metadata": {},
   "source": [
    "Aware and Naive Objects:-\n",
    "\n",
    "Date and time objects may be categorized as “aware” or “naive” depending on whether or not they include timezone information.\n",
    "\n",
    "With sufficient knowledge of applicable algorithmic and political time adjustments, such as time zone and daylight saving time information, an aware object can locate itself relative to other aware objects. An aware object represents a specific moment in time that is not open to interpretation. 1\n",
    "\n",
    "A naive object does not contain enough information to unambiguously locate itself relative to other date/time objects. Whether a naive object represents Coordinated Universal Time (UTC), local time, or time in some other timezone is purely up to the program, just like it is up to the program whether a particular number represents metres, miles, or mass. Naive objects are easy to understand and to work with, at the cost of ignoring some aspects of reality.\n",
    "\n",
    "For applications requiring aware objects, datetime and time objects have an optional time zone information attribute, tzinfo, that can be set to an instance of a subclass of the abstract tzinfo class. These tzinfo objects capture information about the offset from UTC time, the time zone name, and whether daylight saving time is in effect.\n",
    "\n",
    "Only one concrete tzinfo class, the timezone class, is supplied by the datetime module. The timezone class can represent simple timezones with fixed offsets from UTC, such as UTC itself or North American EST and EDT timezones. Supporting timezones at deeper levels of detail is up to the application. The rules for time adjustment across the world are more political than rational, change frequently, and there is no standard suitable for every application aside from UTC."
   ]
  },
  {
   "cell_type": "code",
   "execution_count": 49,
   "metadata": {},
   "outputs": [
    {
     "name": "stdout",
     "output_type": "stream",
     "text": [
      "Current Date: 2015-06-22\n",
      "5 days before Current Date: 2015-06-17\n"
     ]
    }
   ],
   "source": [
    "\"\"\"Write a Python program to subtract five days from current date\"\"\"\n",
    "today_date=datetime.date(2015,6,22)\n",
    "print(\"Current Date:\",today_date)\n",
    "Before_date=datetime.timedelta(days=5)\n",
    "print(\"5 days before Current Date:\",today_date-Before_date)"
   ]
  },
  {
   "cell_type": "code",
   "execution_count": 51,
   "metadata": {},
   "outputs": [
    {
     "name": "stdout",
     "output_type": "stream",
     "text": [
      "2020-11-18 19:57:13.694289\n",
      "2020-11-19 19:57:13.694289\n",
      "2020-11-20 19:57:13.694289\n",
      "2020-11-21 19:57:13.694289\n",
      "2020-11-22 19:57:13.694289\n"
     ]
    }
   ],
   "source": [
    "\"\"\"Write a Python program to print next 5 days starting from today.\"\"\"\n",
    "base = datetime.datetime.today()\n",
    "for x in range(0, 5):\n",
    "      print(base + datetime.timedelta(days=x))"
   ]
  },
  {
   "cell_type": "code",
   "execution_count": 54,
   "metadata": {},
   "outputs": [
    {
     "name": "stdout",
     "output_type": "stream",
     "text": [
      "2014-07-01 14:43:00\n"
     ]
    }
   ],
   "source": [
    "\"\"\"Write a Python program to convert a string to datetime.\"\"\"\n",
    "#Sample String : Jan 1 2014 2:43PM  Expected Output : 2014-07-01 14:43:00\n",
    "\n",
    "date_object = datetime.datetime.strptime('Jul 1 2014 2:43PM', '%b %d %Y %I:%M%p')\n",
    "print(date_object)"
   ]
  },
  {
   "cell_type": "code",
   "execution_count": 65,
   "metadata": {},
   "outputs": [
    {
     "name": "stdout",
     "output_type": "stream",
     "text": [
      "25\n"
     ]
    }
   ],
   "source": [
    "\"\"\"Write a Python program to get week number\"\"\"\n",
    "###Sample Date : 2015, 6, 16\n",
    "###Expected Output : 25\n",
    "\n",
    "print(datetime.date(2015, 6, 16).isocalendar()[1])"
   ]
  }
 ],
 "metadata": {
  "kernelspec": {
   "display_name": "Python 3",
   "language": "python",
   "name": "python3"
  },
  "language_info": {
   "codemirror_mode": {
    "name": "ipython",
    "version": 3
   },
   "file_extension": ".py",
   "mimetype": "text/x-python",
   "name": "python",
   "nbconvert_exporter": "python",
   "pygments_lexer": "ipython3",
   "version": "3.8.0"
  }
 },
 "nbformat": 4,
 "nbformat_minor": 4
}
