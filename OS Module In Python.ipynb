{
 "cells": [
  {
   "cell_type": "markdown",
   "metadata": {},
   "source": [
    "# Working with OS Module \n",
    "\n",
    "Python has several built-in modules and functions for handling files. These functions are spread out over several modules such as os, os.path, shutil, and pathlib, to name a few.\n",
    "\n",
    "\n",
    "In this notebook, you’ll learn how to:\n",
    "\n",
    "1.Retrieve file properties\n",
    "\n",
    "2.Create directories\n",
    "\n",
    "3.Match patterns in filenames\n",
    "\n",
    "4.Traverse directory trees\n",
    "\n",
    "5.Make temporary files and directories\n",
    "\n",
    "6.Delete files and directories\n",
    "\n",
    "7.Copy, move, or rename files and directories\n",
    "\n",
    "8.Create and extract ZIP and TAR archives\n",
    "\n",
    "9.Open multiple files using the fileinput module"
   ]
  },
  {
   "cell_type": "markdown",
   "metadata": {},
   "source": [
    "Python’s “with open(…) as …” Pattern\n",
    "\n",
    "Reading and writing data to files using Python is pretty straightforward. To do this, you must first open files in the appropriate mode. Here’s an example of how to use Python’s “with open(…) as …” pattern to open a text file and read its contents:"
   ]
  },
  {
   "cell_type": "code",
   "execution_count": 2,
   "metadata": {},
   "outputs": [],
   "source": [
    "with open('Employee.txt','r') as f:\n",
    "    data=f.read()"
   ]
  },
  {
   "cell_type": "markdown",
   "metadata": {},
   "source": [
    "open() takes a filename and a mode as its arguments. r opens the file in read only mode. To write data to a file, pass in w as an argument instead:"
   ]
  },
  {
   "cell_type": "code",
   "execution_count": 4,
   "metadata": {},
   "outputs": [
    {
     "name": "stdout",
     "output_type": "stream",
     "text": [
      "This is the data that I have shown\n"
     ]
    }
   ],
   "source": [
    "with open('Employee.txt','w') as f:\n",
    "    print('This is the data that I have shown')\n",
    "    f.write(data)"
   ]
  },
  {
   "cell_type": "markdown",
   "metadata": {},
   "source": [
    "In the examples above, open() opens files for reading or writing and returns a file handle (f in this case) that provides methods that can be used to read or write data to the file"
   ]
  },
  {
   "cell_type": "markdown",
   "metadata": {},
   "source": [
    "# Getting a Directory Listing\n",
    "\n",
    "Suppose your current working directory has a subdirectory called my_directory that has the following contents:\n",
    "\n",
    "The built-in os module has a number of useful functions that can be used to list directory contents and filter the results. To get a list of all the files and folders in a particular directory in the filesystem, use os.listdir() in legacy versions of Python or os.scandir() in Python 3.x. os.scandir() is the preferred method to use if you also want to get file and directory properties such as file size and modification date.\n",
    "\n",
    "In versions of Python prior to Python 3, os.listdir() is the method to use to get a directory listing:"
   ]
  },
  {
   "cell_type": "code",
   "execution_count": 16,
   "metadata": {},
   "outputs": [
    {
     "name": "stdout",
     "output_type": "stream",
     "text": [
      "E:\\Python Basics\n",
      "['.ipynb_checkpoints', '2019-12-14 (2).png', '5 and 7.png', 'acme.csv', 'acme_file.csv', 'Andrew NG Notes.txt', 'Andrew NG Notes_reversed.txt', 'Daily Activities.txt', 'debug.log', 'Employee.txt', 'employee_file.csv', 'employee_file2.csv', 'Notes.txt', 'Notes_reversed.txt', 'OS Module In Python.ipynb', 'Python Basics.ipynb', 'Reading and  Writing File in Python.ipynb', 'Session 1.1 - Python-Installation and Basics.ipynb', 'Snip.txt', 'Snippets.txt', 'Snip_r.txt']\n"
     ]
    }
   ],
   "source": [
    "import os\n",
    "print(os.getcwd())\n",
    "entries=os.listdir('E://Python Basics/')\n",
    "print(entries)"
   ]
  },
  {
   "cell_type": "markdown",
   "metadata": {},
   "source": [
    "os.listdir() returns a Python list containing the names of the files and subdirectories in the directory given by the path argument:\n",
    "\n",
    "A directory listing like that isn’t easy to read. Printing out the output of a call to os.listdir() using a loop helps clean things up:"
   ]
  },
  {
   "cell_type": "code",
   "execution_count": 18,
   "metadata": {},
   "outputs": [
    {
     "name": "stdout",
     "output_type": "stream",
     "text": [
      "Communication Skills.txt\n",
      "Daily Activities.txt\n",
      "flask_demo\n",
      "Flask_demo notes.txt\n",
      "flask_demo.zip\n",
      "interview-question-data-science--master\n",
      "interview-question-data-science--master.zip\n",
      "Machine Learning Algorithms.txt\n",
      "MachineLearningModelToAWS-master\n",
      "MachineLearningModelToAWS-master (1).zip\n",
      "MachineLearningModelToAzure-master\n",
      "MachineLearningModelToAzure-master.zip\n",
      "MachineLearningModelToGCP-master\n",
      "MachineLearningModelToGCP-master.zip\n",
      "MachineLearningModelToHeroku-master\n",
      "MachineLearningModelToHeroku-master.zip\n",
      "sample resume\n",
      "sample resume -20191223T164759Z-001.zip\n",
      "Understanding the Data.txt\n"
     ]
    }
   ],
   "source": [
    "entries=os.listdir('E://Machine Learning notes/')\n",
    "for entry in entries:\n",
    "    print(entry)"
   ]
  },
  {
   "cell_type": "markdown",
   "metadata": {},
   "source": [
    "Directory Listing in Modern Python Versions\n",
    "\n",
    "In modern versions of Python, an alternative to os.listdir() is to use os.scandir() and pathlib.Path().\n",
    "\n",
    "os.scandir() was introduced in Python 3.5 and is documented in PEP 471. os.scandir() returns an iterator as opposed to a list when called:"
   ]
  },
  {
   "cell_type": "code",
   "execution_count": 19,
   "metadata": {},
   "outputs": [
    {
     "data": {
      "text/plain": [
       "<nt.ScandirIterator at 0x2bb068e2600>"
      ]
     },
     "execution_count": 19,
     "metadata": {},
     "output_type": "execute_result"
    }
   ],
   "source": [
    "entries=os.scandir('E://Machine Learning Notes/')\n",
    "entries"
   ]
  },
  {
   "cell_type": "markdown",
   "metadata": {},
   "source": [
    "The ScandirIterator points to all the entries in the current directory. You can loop over the contents of the iterator and print out the filenames:"
   ]
  },
  {
   "cell_type": "code",
   "execution_count": 21,
   "metadata": {},
   "outputs": [
    {
     "name": "stdout",
     "output_type": "stream",
     "text": [
      "Communication Skills.txt\n",
      "Daily Activities.txt\n",
      "flask_demo\n",
      "Flask_demo notes.txt\n",
      "flask_demo.zip\n",
      "interview-question-data-science--master\n",
      "interview-question-data-science--master.zip\n",
      "Machine Learning Algorithms.txt\n",
      "MachineLearningModelToAWS-master\n",
      "MachineLearningModelToAWS-master (1).zip\n",
      "MachineLearningModelToAzure-master\n",
      "MachineLearningModelToAzure-master.zip\n",
      "MachineLearningModelToGCP-master\n",
      "MachineLearningModelToGCP-master.zip\n",
      "MachineLearningModelToHeroku-master\n",
      "MachineLearningModelToHeroku-master.zip\n",
      "sample resume\n",
      "sample resume -20191223T164759Z-001.zip\n",
      "Understanding the Data.txt\n"
     ]
    }
   ],
   "source": [
    "with os.scandir('E://Machine Learning Notes') as entries:\n",
    "    for entry in entries:\n",
    "        print(entry.name)"
   ]
  },
  {
   "cell_type": "markdown",
   "metadata": {},
   "source": [
    "Here, os.scandir() is used in conjunction with the with statement because it supports the context manager protocol. Using a context manager closes the iterator and frees up acquired resources automatically after the iterator has been exhausted.\n",
    "\n",
    "Another way to get a directory listing is to use the pathlib module:"
   ]
  },
  {
   "cell_type": "code",
   "execution_count": 27,
   "metadata": {},
   "outputs": [
    {
     "name": "stdout",
     "output_type": "stream",
     "text": [
      "Communication Skills.txt\n",
      "Daily Activities.txt\n",
      "flask_demo\n",
      "Flask_demo notes.txt\n",
      "flask_demo.zip\n",
      "interview-question-data-science--master\n",
      "interview-question-data-science--master.zip\n",
      "Machine Learning Algorithms.txt\n",
      "MachineLearningModelToAWS-master\n",
      "MachineLearningModelToAWS-master (1).zip\n",
      "MachineLearningModelToAzure-master\n",
      "MachineLearningModelToAzure-master.zip\n",
      "MachineLearningModelToGCP-master\n",
      "MachineLearningModelToGCP-master.zip\n",
      "MachineLearningModelToHeroku-master\n",
      "MachineLearningModelToHeroku-master.zip\n",
      "sample resume\n",
      "sample resume -20191223T164759Z-001.zip\n",
      "Understanding the Data.txt\n"
     ]
    }
   ],
   "source": [
    "from pathlib import Path\n",
    "\n",
    "entries=Path('E://Machine Learning Notes/')\n",
    "for entry in entries.iterdir():\n",
    "    print(entry.name)"
   ]
  },
  {
   "cell_type": "markdown",
   "metadata": {},
   "source": [
    "The objects returned by Path are either PosixPath or WindowsPath objects depending on the OS.\n",
    "\n",
    "pathlib.Path() objects have an .iterdir() method for creating an iterator of all files and folders in a directory. Each entry yielded by .iterdir() contains information about the file or directory such as its name and file attributes. pathlib was first introduced in Python 3.4 and is a great addition to Python that provides an object oriented interface to the filesystem.\n",
    "\n",
    "In the example above, you call pathlib.Path() and pass a path argument to it. Next is the call to .iterdir() to get a list of all files and directories in my_directory.\n",
    "\n",
    "pathlib offers a set of classes featuring most of the common operations on paths in an easy, object-oriented way. Using pathlib is more if not equally efficient as using the functions in os. Another benefit of using pathlib over os is that it reduces the number of imports you need to make to manipulate filesystem paths.\n",
    "\n",
    "Using pathlib.Path() or os.scandir() instead of os.listdir() is the preferred way of getting a directory listing, especially when you’re working with code that needs the file type and file attribute information. pathlib.Path() offers much of the file and path handling functionality found in os and shutil, and it’s methods are more efficient than some found in these modules. We will discuss how to get file properties shortly.\n",
    "\n",
    "Function\t             Description\n",
    "\n",
    "os.listdir()\t         Returns a list of all files and folders in a directory\n",
    "\n",
    "os.scandir()\t         Returns an iterator of all the objects in a directory including file attribute information\n",
    "\n",
    "pathlib.Path.iterdir()\t Returns an iterator of all the objects in a directory including file attribute information\n",
    "\n",
    "\n",
    "These functions return a list of everything in the directory, including subdirectories. This might not always be the behavior you want. The next section will show you how to filter the results from a directory listing."
   ]
  },
  {
   "cell_type": "markdown",
   "metadata": {},
   "source": [
    "Listing All Files in a Directory\n",
    "\n",
    "This section will show you how to print out the names of files in a directory using os.listdir(), os.scandir(), and pathlib.Path(). To filter out directories and only list files from a directory listing produced by os.listdir(), use os.path:"
   ]
  },
  {
   "cell_type": "code",
   "execution_count": 34,
   "metadata": {},
   "outputs": [
    {
     "name": "stdout",
     "output_type": "stream",
     "text": [
      "app.py\n",
      "car data.csv\n",
      "CAR DETAILS FROM CAR DEKHO.csv\n",
      "Car_Prediction.ipynb\n",
      "main.py\n",
      "Procfile\n",
      "random_forest_regression_model.pkl\n",
      "README.md\n",
      "requirement.txt\n"
     ]
    }
   ],
   "source": [
    "\n",
    "# List all files in a directory using os.listdir\n",
    "basepath = 'E://CarPrediction Project/'\n",
    "\n",
    "for entry in os.listdir(basepath):\n",
    "    if os.path.isfile(os.path.join(basepath, entry)):\n",
    "        print(entry)"
   ]
  },
  {
   "cell_type": "markdown",
   "metadata": {},
   "source": [
    "Here, the call to os.listdir() returns a list of everything in the specified path, and then that list is filtered by os.path.isfile() to only print out files and not directories. This produces the following output:"
   ]
  },
  {
   "cell_type": "markdown",
   "metadata": {},
   "source": [
    "An easier way to list files in a directory is to use os.scandir() or pathlib.Path():"
   ]
  },
  {
   "cell_type": "code",
   "execution_count": 41,
   "metadata": {},
   "outputs": [
    {
     "name": "stdout",
     "output_type": "stream",
     "text": [
      "Communication Skills.txt\n",
      "Daily Activities.txt\n",
      "Flask_demo notes.txt\n",
      "flask_demo.zip\n",
      "interview-question-data-science--master.zip\n",
      "Machine Learning Algorithms.txt\n",
      "MachineLearningModelToAWS-master (1).zip\n",
      "MachineLearningModelToAzure-master.zip\n",
      "MachineLearningModelToGCP-master.zip\n",
      "MachineLearningModelToHeroku-master.zip\n",
      "sample resume -20191223T164759Z-001.zip\n",
      "Understanding the Data.txt\n"
     ]
    }
   ],
   "source": [
    "\n",
    "\n",
    "# List all files in a directory using scandir()\n",
    "basepath = 'E://Machine Learning Notes/'\n",
    "with os.scandir(basepath) as entries:\n",
    "    for entry in entries:\n",
    "        if entry.is_file():\n",
    "            print(entry.name)"
   ]
  },
  {
   "cell_type": "markdown",
   "metadata": {},
   "source": [
    "Using os.scandir() has the advantage of looking cleaner and being easier to understand than using os.listdir(), even though it is one line of code longer. Calling entry.is_file() on each item in the ScandirIterator returns True if the object is a file. Printing out the names of all files in the directory gives you the following output:"
   ]
  },
  {
   "cell_type": "code",
   "execution_count": 42,
   "metadata": {},
   "outputs": [
    {
     "name": "stdout",
     "output_type": "stream",
     "text": [
      "Communication Skills.txt\n",
      "Daily Activities.txt\n",
      "Flask_demo notes.txt\n",
      "flask_demo.zip\n",
      "interview-question-data-science--master.zip\n",
      "Machine Learning Algorithms.txt\n",
      "MachineLearningModelToAWS-master (1).zip\n",
      "MachineLearningModelToAzure-master.zip\n",
      "MachineLearningModelToGCP-master.zip\n",
      "MachineLearningModelToHeroku-master.zip\n",
      "sample resume -20191223T164759Z-001.zip\n",
      "Understanding the Data.txt\n"
     ]
    }
   ],
   "source": [
    "from pathlib import Path\n",
    "\n",
    "basepath = Path('E://Machine Learning Notes/')\n",
    "files_in_basepath = basepath.iterdir()\n",
    "for item in files_in_basepath:\n",
    "    if item.is_file():\n",
    "        print(item.name)"
   ]
  },
  {
   "cell_type": "markdown",
   "metadata": {},
   "source": [
    "The code above can be made more concise if you combine the for loop and the if statement into a single generator expression."
   ]
  },
  {
   "cell_type": "code",
   "execution_count": 43,
   "metadata": {},
   "outputs": [
    {
     "name": "stdout",
     "output_type": "stream",
     "text": [
      "Communication Skills.txt\n",
      "Daily Activities.txt\n",
      "Flask_demo notes.txt\n",
      "flask_demo.zip\n",
      "interview-question-data-science--master.zip\n",
      "Machine Learning Algorithms.txt\n",
      "MachineLearningModelToAWS-master (1).zip\n",
      "MachineLearningModelToAzure-master.zip\n",
      "MachineLearningModelToGCP-master.zip\n",
      "MachineLearningModelToHeroku-master.zip\n",
      "sample resume -20191223T164759Z-001.zip\n",
      "Understanding the Data.txt\n"
     ]
    }
   ],
   "source": [
    "from pathlib import Path\n",
    "\n",
    "# List all files in directory using pathlib\n",
    "basepath = Path('E://Machine Learning Notes/')\n",
    "files_in_basepath = (entry for entry in basepath.iterdir() if entry.is_file())\n",
    "for item in files_in_basepath:\n",
    "    print(item.name)\n"
   ]
  },
  {
   "cell_type": "markdown",
   "metadata": {},
   "source": [
    "This produces exactly the same output as the example before it. This section showed that filtering files or directories using os.scandir() and pathlib.Path() feels more intuitive and looks cleaner than using os.listdir() in conjunction with os.path."
   ]
  },
  {
   "cell_type": "markdown",
   "metadata": {},
   "source": [
    "# Listing Subdirectories\n",
    "\n",
    "To list subdirectories instead of files, use one of the methods below. Here’s how to use os.listdir() and os.path():\n"
   ]
  },
  {
   "cell_type": "code",
   "execution_count": 45,
   "metadata": {},
   "outputs": [
    {
     "name": "stdout",
     "output_type": "stream",
     "text": [
      ".ipynb_checkpoints\n",
      "templates\n"
     ]
    }
   ],
   "source": [
    "import os\n",
    "\n",
    "# List all subdirectories using os.listdir\n",
    "basepath = 'E://CarPrediction Project/'\n",
    "for entry in os.listdir(basepath):\n",
    "    if os.path.isdir(os.path.join(basepath, entry)):\n",
    "        print(entry)"
   ]
  },
  {
   "cell_type": "markdown",
   "metadata": {},
   "source": [
    "Manipulating filesystem paths this way can quickly become cumbersome when you have multiple calls to os.path.join()."
   ]
  },
  {
   "cell_type": "code",
   "execution_count": 52,
   "metadata": {},
   "outputs": [
    {
     "name": "stdout",
     "output_type": "stream",
     "text": [
      "4.3.0\n",
      "Credit-Card-Dataset\n",
      "Datasets for SAS Training\n",
      "Download from C\n",
      "ICU-Data\n",
      "imarticus-master\n",
      "lwmc1\n",
      "lwpg3\n",
      "New Folder For Important\n",
      "PGDDS DAY9 ACTIVITY DATA SETS\n",
      "shakespeare\n",
      "Verzeo-master\n",
      "visibility_climate\n"
     ]
    }
   ],
   "source": [
    "\n",
    "\n",
    "# List all subdirectories using os.listdir\n",
    "basepath = 'E://New Downloads/'\n",
    "for entry in os.listdir(basepath):\n",
    "    if os.path.isdir(os.path.join(basepath, entry)):\n",
    "        print(entry)"
   ]
  },
  {
   "cell_type": "code",
   "execution_count": 54,
   "metadata": {},
   "outputs": [
    {
     "name": "stdout",
     "output_type": "stream",
     "text": [
      "4.3.0\n",
      "Credit-Card-Dataset\n",
      "Datasets for SAS Training\n",
      "Download from C\n",
      "ICU-Data\n",
      "imarticus-master\n",
      "lwmc1\n",
      "lwpg3\n",
      "New Folder For Important\n",
      "PGDDS DAY9 ACTIVITY DATA SETS\n",
      "shakespeare\n",
      "Verzeo-master\n",
      "visibility_climate\n"
     ]
    }
   ],
   "source": [
    "#Here’s how to use os.scandir()\n",
    "# List all subdirectories using scandir()\n",
    "basepath = 'E://New Downloads/'\n",
    "with os.scandir(basepath) as entries:\n",
    "    for entry in entries:\n",
    "        if entry.is_dir():\n",
    "            print(entry.name)"
   ]
  },
  {
   "cell_type": "markdown",
   "metadata": {},
   "source": [
    "As in the file listing example, here you call .is_dir() on each entry returned by os.scandir(). If the entry is a directory, .is_dir() returns True, and the directory’s name is printed out. The output is the same as above:"
   ]
  },
  {
   "cell_type": "code",
   "execution_count": 55,
   "metadata": {},
   "outputs": [
    {
     "name": "stdout",
     "output_type": "stream",
     "text": [
      "4.3.0\n",
      "Credit-Card-Dataset\n",
      "Datasets for SAS Training\n",
      "Download from C\n",
      "ICU-Data\n",
      "imarticus-master\n",
      "lwmc1\n",
      "lwpg3\n",
      "New Folder For Important\n",
      "PGDDS DAY9 ACTIVITY DATA SETS\n",
      "shakespeare\n",
      "Verzeo-master\n",
      "visibility_climate\n"
     ]
    }
   ],
   "source": [
    "#Here’s how to use pathlib.Path():\n",
    "from pathlib import Path\n",
    "\n",
    "# List all subdirectory using pathlib\n",
    "basepath = Path('E://New Downloads/')\n",
    "for entry in basepath.iterdir():\n",
    "    if entry.is_dir():\n",
    "        print(entry.name)\n"
   ]
  },
  {
   "cell_type": "markdown",
   "metadata": {},
   "source": [
    "Calling .is_dir() on each entry of the basepath iterator checks if an entry is a file or a directory. If the entry is a directory, its name is printed out to the screen, and the output produced is the same as the one from the previous example:"
   ]
  },
  {
   "cell_type": "markdown",
   "metadata": {},
   "source": [
    "# Getting File Attributes\n",
    "\n",
    "Python makes retrieving file attributes such as file size and modified times easy. This is done through os.stat(), os.scandir(), or pathlib.Path().\n",
    "\n",
    "os.scandir() and pathlib.Path() retrieve a directory listing with file attributes combined. This can be potentially more efficient than using os.listdir() to list files and then getting file attribute information for each file.\n",
    "\n",
    "The examples below show how to get the time the files in my_directory/ were last modified. The output is in seconds:"
   ]
  },
  {
   "cell_type": "code",
   "execution_count": 60,
   "metadata": {},
   "outputs": [
    {
     "name": "stdout",
     "output_type": "stream",
     "text": [
      "1603110328.0842679\n",
      "1603810546.7673225\n",
      "1603031992.683642\n",
      "1603028692.7671752\n",
      "1602937053.0821383\n",
      "1602934498.4650266\n",
      "1602934491.3675172\n",
      "1603110422.6012292\n",
      "1603279827.573068\n",
      "1603277919.2488546\n",
      "1603281155.087778\n",
      "1603281150.242499\n",
      "1603207371.660478\n",
      "1603207367.342267\n",
      "1603128992.3564856\n",
      "1603128563.5810304\n",
      "1602935270.191883\n",
      "1602935258.3482625\n",
      "1600613451.2655282\n"
     ]
    }
   ],
   "source": [
    "with os.scandir('E://Machine Learning Notes/') as dir_contents:\n",
    "    for entry in dir_contents:\n",
    "        info = entry.stat()\n",
    "        print(info.st_atime)"
   ]
  },
  {
   "cell_type": "markdown",
   "metadata": {},
   "source": [
    "os.scandir() returns a ScandirIterator object. Each entry in a ScandirIterator object has a .stat() method that retrieves information about the file or directory it points to. .stat() provides information such as file size and the time of last modification. In the example above, the code prints out the st_mtime attribute, which is the time the content of the file was last modified.\n",
    "\n",
    "The pathlib module has corresponding methods for retrieving file information that give the same results:"
   ]
  },
  {
   "cell_type": "code",
   "execution_count": 66,
   "metadata": {},
   "outputs": [
    {
     "name": "stdout",
     "output_type": "stream",
     "text": [
      "1603891733.5769243\n",
      "1603872842.7686799\n",
      "1603809835.720226\n",
      "1603885347.4449027\n",
      "1603888049.2689757\n",
      "1603880153.822116\n",
      "1603880751.0309038\n",
      "1603890766.5830302\n",
      "1603806907.6014438\n",
      "1603892599.388816\n",
      "1603887704.1365414\n",
      "1603888866.4990203\n",
      "1603872001.8037064\n",
      "1603880679.1256607\n",
      "1603897101.9928901\n",
      "1603804605.7740688\n",
      "1603891192.9194372\n",
      "1603289504.5499544\n",
      "1603871334.2964723\n",
      "1603871028.7012851\n",
      "1603881144.9319036\n"
     ]
    }
   ],
   "source": [
    "from pathlib import Path\n",
    "current_dir = Path('E://Python Basics/')\n",
    "for path in current_dir.iterdir():\n",
    "    info = path.stat()\n",
    "    print(info.st_mtime)"
   ]
  },
  {
   "cell_type": "markdown",
   "metadata": {},
   "source": [
    "In the example above, the code loops through the object returned by .iterdir() and retrieves file attributes through a .stat() call for each file in the directory list. The st_mtime attribute returns a float value that represents seconds since the epoch. To convert the values returned by st_mtime for display purposes, you could write a helper function to convert the seconds into a datetime object:"
   ]
  },
  {
   "cell_type": "code",
   "execution_count": 73,
   "metadata": {},
   "outputs": [],
   "source": [
    "from datetime import datetime\n",
    "from os import scandir\n",
    "\n",
    "def convert_date(timestamp):\n",
    "    d = datetime.utcfromtimestamp(timestamp)\n",
    "    formated_date = d.strftime('%d %b %Y')\n",
    "    return formated_date\n",
    "\n",
    "def get_files():\n",
    "    dir_entries = scandir('E://Machine Learning Notes/')\n",
    "    for entry in dir_entries:\n",
    "        if entry.is_file():\n",
    "            info = entry.stat()\n",
    "            print(f'{entry.name}\\t Last Modified: {convert_date(info.st_mtime)}')"
   ]
  },
  {
   "cell_type": "code",
   "execution_count": 74,
   "metadata": {},
   "outputs": [
    {
     "name": "stdout",
     "output_type": "stream",
     "text": [
      "Communication Skills.txt\t Last Modified: 19 Oct 2020\n",
      "Daily Activities.txt\t Last Modified: 27 Oct 2020\n",
      "Flask_demo notes.txt\t Last Modified: 18 Oct 2020\n",
      "flask_demo.zip\t Last Modified: 17 Oct 2020\n",
      "interview-question-data-science--master.zip\t Last Modified: 17 Oct 2020\n",
      "Machine Learning Algorithms.txt\t Last Modified: 19 Oct 2020\n",
      "MachineLearningModelToAWS-master (1).zip\t Last Modified: 21 Oct 2020\n",
      "MachineLearningModelToAzure-master.zip\t Last Modified: 21 Oct 2020\n",
      "MachineLearningModelToGCP-master.zip\t Last Modified: 20 Oct 2020\n",
      "MachineLearningModelToHeroku-master.zip\t Last Modified: 19 Oct 2020\n",
      "sample resume -20191223T164759Z-001.zip\t Last Modified: 17 Oct 2020\n",
      "Understanding the Data.txt\t Last Modified: 20 Sep 2020\n"
     ]
    }
   ],
   "source": [
    "get_files()"
   ]
  },
  {
   "cell_type": "markdown",
   "metadata": {},
   "source": [
    "This will first get a list of files in my_directory and their attributes and then call convert_date() to convert each file’s last modified time into a human readable form. convert_date() makes use of .strftime() to convert the time in seconds into a string.\n",
    "\n",
    "The arguments passed to .strftime() are the following:\n",
    "\n",
    "1.%d: the day of the month\n",
    "\n",
    "2.%b: the month, in abbreviated form\n",
    "\n",
    "3.%Y: the year"
   ]
  },
  {
   "cell_type": "markdown",
   "metadata": {},
   "source": [
    "# Making Directories\n",
    "\n",
    "Sooner or later, the programs you write will have to create directories in order to store data in them. os and pathlib include functions for creating directories. We’ll consider these:\n",
    "\n",
    "Function\t            Description\n",
    "\n",
    "os.mkdir()\t            Creates a single subdirectory\n",
    "\n",
    "pathlib.Path.mkdir()\tCreates single or multiple directories\n",
    "\n",
    "os.makedirs()\t        Creates multiple directories, including intermediate directories\\\n",
    "\n",
    "\n",
    "\n",
    "#Creating a Single Directory\n",
    "To create a single directory, pass a path to the directory as a parameter to os.mkdir():"
   ]
  },
  {
   "cell_type": "code",
   "execution_count": 80,
   "metadata": {},
   "outputs": [],
   "source": [
    "import os\n",
    "os.mkdir('E://New Directory/')"
   ]
  },
  {
   "cell_type": "markdown",
   "metadata": {},
   "source": [
    "If a directory already exists, os.mkdir() raises FileExistsError. Alternatively, you can create a directory using pathlib:"
   ]
  },
  {
   "cell_type": "code",
   "execution_count": 82,
   "metadata": {},
   "outputs": [],
   "source": [
    "from pathlib import Path\n",
    "\n",
    "p = Path('E://example_directory/')\n",
    "p.mkdir()"
   ]
  },
  {
   "cell_type": "code",
   "execution_count": 83,
   "metadata": {},
   "outputs": [
    {
     "ename": "FileExistsError",
     "evalue": "[WinError 183] Cannot create a file when that file already exists: 'E:\\\\example_directory'",
     "output_type": "error",
     "traceback": [
      "\u001b[1;31m---------------------------------------------------------------------------\u001b[0m",
      "\u001b[1;31mFileExistsError\u001b[0m                           Traceback (most recent call last)",
      "\u001b[1;32m<ipython-input-83-9edfab0e3b54>\u001b[0m in \u001b[0;36m<module>\u001b[1;34m\u001b[0m\n\u001b[1;32m----> 1\u001b[1;33m \u001b[0mp\u001b[0m\u001b[1;33m.\u001b[0m\u001b[0mmkdir\u001b[0m\u001b[1;33m(\u001b[0m\u001b[1;33m)\u001b[0m\u001b[1;33m\u001b[0m\u001b[1;33m\u001b[0m\u001b[0m\n\u001b[0m",
      "\u001b[1;32mc:\\users\\asif\\appdata\\local\\programs\\python\\python38\\lib\\pathlib.py\u001b[0m in \u001b[0;36mmkdir\u001b[1;34m(self, mode, parents, exist_ok)\u001b[0m\n\u001b[0;32m   1264\u001b[0m             \u001b[0mself\u001b[0m\u001b[1;33m.\u001b[0m\u001b[0m_raise_closed\u001b[0m\u001b[1;33m(\u001b[0m\u001b[1;33m)\u001b[0m\u001b[1;33m\u001b[0m\u001b[1;33m\u001b[0m\u001b[0m\n\u001b[0;32m   1265\u001b[0m         \u001b[1;32mtry\u001b[0m\u001b[1;33m:\u001b[0m\u001b[1;33m\u001b[0m\u001b[1;33m\u001b[0m\u001b[0m\n\u001b[1;32m-> 1266\u001b[1;33m             \u001b[0mself\u001b[0m\u001b[1;33m.\u001b[0m\u001b[0m_accessor\u001b[0m\u001b[1;33m.\u001b[0m\u001b[0mmkdir\u001b[0m\u001b[1;33m(\u001b[0m\u001b[0mself\u001b[0m\u001b[1;33m,\u001b[0m \u001b[0mmode\u001b[0m\u001b[1;33m)\u001b[0m\u001b[1;33m\u001b[0m\u001b[1;33m\u001b[0m\u001b[0m\n\u001b[0m\u001b[0;32m   1267\u001b[0m         \u001b[1;32mexcept\u001b[0m \u001b[0mFileNotFoundError\u001b[0m\u001b[1;33m:\u001b[0m\u001b[1;33m\u001b[0m\u001b[1;33m\u001b[0m\u001b[0m\n\u001b[0;32m   1268\u001b[0m             \u001b[1;32mif\u001b[0m \u001b[1;32mnot\u001b[0m \u001b[0mparents\u001b[0m \u001b[1;32mor\u001b[0m \u001b[0mself\u001b[0m\u001b[1;33m.\u001b[0m\u001b[0mparent\u001b[0m \u001b[1;33m==\u001b[0m \u001b[0mself\u001b[0m\u001b[1;33m:\u001b[0m\u001b[1;33m\u001b[0m\u001b[1;33m\u001b[0m\u001b[0m\n",
      "\u001b[1;31mFileExistsError\u001b[0m: [WinError 183] Cannot create a file when that file already exists: 'E:\\\\example_directory'"
     ]
    }
   ],
   "source": [
    "p.mkdir()"
   ]
  },
  {
   "cell_type": "markdown",
   "metadata": {},
   "source": [
    "If the path already exists, mkdir() raises a FileExistsError:"
   ]
  },
  {
   "cell_type": "markdown",
   "metadata": {},
   "source": [
    "To avoid errors like this, catch the error when it happens and let your user know:"
   ]
  },
  {
   "cell_type": "code",
   "execution_count": 84,
   "metadata": {},
   "outputs": [
    {
     "name": "stdout",
     "output_type": "stream",
     "text": [
      "[WinError 183] Cannot create a file when that file already exists: 'E:\\\\example_directory'\n"
     ]
    }
   ],
   "source": [
    "from pathlib import Path\n",
    "\n",
    "p = Path('E://example_directory/')\n",
    "try:\n",
    "    p.mkdir()\n",
    "except FileExistsError as exc:\n",
    "    print(exc)"
   ]
  },
  {
   "cell_type": "markdown",
   "metadata": {},
   "source": [
    "Alternatively, you can ignore the FileExistsError by passing the exist_ok=True argument to .mkdir():"
   ]
  },
  {
   "cell_type": "code",
   "execution_count": 85,
   "metadata": {},
   "outputs": [],
   "source": [
    "from pathlib import Path\n",
    "\n",
    "p = Path('E://example_directory/')\n",
    "p.mkdir(exist_ok=True)"
   ]
  }
 ],
 "metadata": {
  "kernelspec": {
   "display_name": "Python 3",
   "language": "python",
   "name": "python3"
  },
  "language_info": {
   "codemirror_mode": {
    "name": "ipython",
    "version": 3
   },
   "file_extension": ".py",
   "mimetype": "text/x-python",
   "name": "python",
   "nbconvert_exporter": "python",
   "pygments_lexer": "ipython3",
   "version": "3.8.0"
  }
 },
 "nbformat": 4,
 "nbformat_minor": 4
}
